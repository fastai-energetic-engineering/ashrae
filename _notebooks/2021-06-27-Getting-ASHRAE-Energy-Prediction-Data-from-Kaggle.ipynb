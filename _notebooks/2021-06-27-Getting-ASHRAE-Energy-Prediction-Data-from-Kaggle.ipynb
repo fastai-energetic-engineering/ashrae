{
  "nbformat": 4,
  "nbformat_minor": 0,
  "metadata": {
    "colab": {
      "name": "2021-06-27-Getting-ASHRAE-Energy-Prediction-Data-from-Kaggle.ipynb",
      "provenance": [],
      "collapsed_sections": [],
      "mount_file_id": "1TGK4dmqyUkRczT8mMI8rU1ylQ_zjYK0Y",
      "authorship_tag": "ABX9TyML20LG+9Pg1r1xNE6UNBWy",
      "include_colab_link": true
    },
    "kernelspec": {
      "name": "python3",
      "display_name": "Python 3"
    },
    "language_info": {
      "name": "python"
    },
    "accelerator": "GPU"
  },
  "cells": [
    {
      "cell_type": "markdown",
      "metadata": {
        "id": "view-in-github",
        "colab_type": "text"
      },
      "source": [
        "<a href=\"https://colab.research.google.com/github/fastai-energetic-engineering/ashrae/blob/master/_notebooks/2021-06-27-Getting-ASHRAE-Energy-Prediction-Data-from-Kaggle.ipynb\" target=\"_parent\"><img src=\"https://colab.research.google.com/assets/colab-badge.svg\" alt=\"Open In Colab\"/></a>"
      ]
    },
    {
      "cell_type": "markdown",
      "metadata": {
        "id": "q0AxBz6y2oWi"
      },
      "source": [
        "# Getting Kaggle Data for ASHRAE Energy Prediction\n",
        "> \"How to download Kaggle data from Colab.\"\n",
        "\n",
        "- toc: true\n",
        "- branch: master\n",
        "- badges: true\n",
        "- comments: true\n",
        "- categories: [kaggle, preprocessing]\n",
        "- image: images/some_folder/your_image.png\n",
        "- hide: false\n",
        "- search_exclude: false\n"
      ]
    },
    {
      "cell_type": "code",
      "metadata": {
        "id": "ijXYPvlA6Ee0"
      },
      "source": [
        "#collapse\n",
        "!pip install -Uqq fastbook\n",
        "import fastbook\n",
        "fastbook.setup_book()"
      ],
      "execution_count": 4,
      "outputs": []
    },
    {
      "cell_type": "code",
      "metadata": {
        "id": "PWNQebEr8F8k"
      },
      "source": [
        "#collapse\n",
        "from fastbook import *\n",
        "import os\n",
        "from google.colab import files\n",
        "import pandas as pd"
      ],
      "execution_count": 69,
      "outputs": []
    },
    {
      "cell_type": "markdown",
      "metadata": {
        "id": "acPmWGQ130BZ"
      },
      "source": [
        "This notebook demonstrates how I downloaded the [ASHRAE Energy Prediction Data](https://www.kaggle.com/c/ashrae-energy-prediction/overview) from Kaggle.\n",
        "\n",
        "First, we need to install the [Kaggle API](https://github.com/Kaggle/kaggle-api#api-credentials)."
      ]
    },
    {
      "cell_type": "code",
      "metadata": {
        "id": "baFYeFdW30qR"
      },
      "source": [
        "!pip install kaggle --upgrade -q"
      ],
      "execution_count": 3,
      "outputs": []
    },
    {
      "cell_type": "markdown",
      "metadata": {
        "id": "Ie0px_OM5zYT"
      },
      "source": [
        "I will download the data into a folder in my google drive. First, I will set my home directory."
      ]
    },
    {
      "cell_type": "code",
      "metadata": {
        "id": "lE1XHTz751AF"
      },
      "source": [
        "p = Path('gdrive/MyDrive/Colab Notebooks/ashrae/')\n",
        "os.chdir(p) # change directory"
      ],
      "execution_count": 16,
      "outputs": []
    },
    {
      "cell_type": "markdown",
      "metadata": {
        "id": "53Eh1266-pvA"
      },
      "source": [
        "We need to download Kaggle API token and then put the `.json` file in `.kaggle` folder. We can upload the key directly from colab."
      ]
    },
    {
      "cell_type": "code",
      "metadata": {
        "id": "MF8v8S1G-9Pf"
      },
      "source": [
        "files.upload() # use this to upload your API json key\n",
        "!mkdir ~/.kaggle # create folder\n",
        "!cp kaggle.json ~/.kaggle/ # move the key into the folder\n",
        "!chmod 600 ~/.kaggle/kaggle.json # change permissions of the file"
      ],
      "execution_count": null,
      "outputs": []
    },
    {
      "cell_type": "markdown",
      "metadata": {
        "id": "tjwP_R2Y_Mpw"
      },
      "source": [
        "We can finally download the file!"
      ]
    },
    {
      "cell_type": "code",
      "metadata": {
        "id": "iPRduPMt8hXW"
      },
      "source": [
        "os.chdir('data') # move to data folder\n",
        "!kaggle competitions download -c ashrae-energy-prediction"
      ],
      "execution_count": 61,
      "outputs": []
    },
    {
      "cell_type": "code",
      "metadata": {
        "id": "Z5cWQZ_--RzA"
      },
      "source": [
        "# extract zip files then remove the .zip\n",
        "for item in os.listdir(): # for every item in the folder\n",
        "    if item.endswith('.zip'): # check if it is a .zip file\n",
        "        file_extract(item) # if it is, then extract file\n",
        "        os.remove(item) # and then remove the .zip"
      ],
      "execution_count": 66,
      "outputs": []
    },
    {
      "cell_type": "code",
      "metadata": {
        "id": "lf-DRhOm94zP"
      },
      "source": [
        "os.chdir(\"..\") # return to initial folder"
      ],
      "execution_count": 67,
      "outputs": []
    },
    {
      "cell_type": "markdown",
      "metadata": {
        "id": "GC6SBxxh9-n9"
      },
      "source": [
        "## Joining Tables"
      ]
    },
    {
      "cell_type": "markdown",
      "metadata": {
        "id": "URZMmHULCqnG"
      },
      "source": [
        "Our training data comprised of three tables:\n",
        "- `building_metadata.csv`\n",
        "- `weather_train.csv`\n",
        "- `train.csv`\n",
        "\n",
        "We need to join the tables. First, let's see what's in the tables."
      ]
    },
    {
      "cell_type": "code",
      "metadata": {
        "id": "1ULRNFo8DZKI"
      },
      "source": [
        "building = pd.read_csv('data/building_metadata.csv')\n",
        "weather = pd.read_csv('data/weather_train.csv')\n",
        "train = pd.read_csv('data/train.csv')"
      ],
      "execution_count": 70,
      "outputs": []
    },
    {
      "cell_type": "markdown",
      "metadata": {
        "id": "xyONjqf1FGx1"
      },
      "source": [
        "`building` contains the buildings' metadata."
      ]
    },
    {
      "cell_type": "code",
      "metadata": {
        "colab": {
          "base_uri": "https://localhost:8080/",
          "height": 197
        },
        "id": "2HEZZL4-Dp5q",
        "outputId": "701412c2-a6a2-4fac-9a06-6beecba73b9b"
      },
      "source": [
        "building.head()"
      ],
      "execution_count": 71,
      "outputs": [
        {
          "output_type": "execute_result",
          "data": {
            "text/html": [
              "<div>\n",
              "<style scoped>\n",
              "    .dataframe tbody tr th:only-of-type {\n",
              "        vertical-align: middle;\n",
              "    }\n",
              "\n",
              "    .dataframe tbody tr th {\n",
              "        vertical-align: top;\n",
              "    }\n",
              "\n",
              "    .dataframe thead th {\n",
              "        text-align: right;\n",
              "    }\n",
              "</style>\n",
              "<table border=\"1\" class=\"dataframe\">\n",
              "  <thead>\n",
              "    <tr style=\"text-align: right;\">\n",
              "      <th></th>\n",
              "      <th>site_id</th>\n",
              "      <th>building_id</th>\n",
              "      <th>primary_use</th>\n",
              "      <th>square_feet</th>\n",
              "      <th>year_built</th>\n",
              "      <th>floor_count</th>\n",
              "    </tr>\n",
              "  </thead>\n",
              "  <tbody>\n",
              "    <tr>\n",
              "      <th>0</th>\n",
              "      <td>0</td>\n",
              "      <td>0</td>\n",
              "      <td>Education</td>\n",
              "      <td>7432</td>\n",
              "      <td>2008.0</td>\n",
              "      <td>NaN</td>\n",
              "    </tr>\n",
              "    <tr>\n",
              "      <th>1</th>\n",
              "      <td>0</td>\n",
              "      <td>1</td>\n",
              "      <td>Education</td>\n",
              "      <td>2720</td>\n",
              "      <td>2004.0</td>\n",
              "      <td>NaN</td>\n",
              "    </tr>\n",
              "    <tr>\n",
              "      <th>2</th>\n",
              "      <td>0</td>\n",
              "      <td>2</td>\n",
              "      <td>Education</td>\n",
              "      <td>5376</td>\n",
              "      <td>1991.0</td>\n",
              "      <td>NaN</td>\n",
              "    </tr>\n",
              "    <tr>\n",
              "      <th>3</th>\n",
              "      <td>0</td>\n",
              "      <td>3</td>\n",
              "      <td>Education</td>\n",
              "      <td>23685</td>\n",
              "      <td>2002.0</td>\n",
              "      <td>NaN</td>\n",
              "    </tr>\n",
              "    <tr>\n",
              "      <th>4</th>\n",
              "      <td>0</td>\n",
              "      <td>4</td>\n",
              "      <td>Education</td>\n",
              "      <td>116607</td>\n",
              "      <td>1975.0</td>\n",
              "      <td>NaN</td>\n",
              "    </tr>\n",
              "  </tbody>\n",
              "</table>\n",
              "</div>"
            ],
            "text/plain": [
              "   site_id  building_id primary_use  square_feet  year_built  floor_count\n",
              "0        0            0   Education         7432      2008.0          NaN\n",
              "1        0            1   Education         2720      2004.0          NaN\n",
              "2        0            2   Education         5376      1991.0          NaN\n",
              "3        0            3   Education        23685      2002.0          NaN\n",
              "4        0            4   Education       116607      1975.0          NaN"
            ]
          },
          "metadata": {
            "tags": []
          },
          "execution_count": 71
        }
      ]
    },
    {
      "cell_type": "markdown",
      "metadata": {
        "id": "FP_tnigiGBjr"
      },
      "source": [
        "- `site_id` - Foreign key for the weather files.\n",
        "- `building_id` - Foreign key for training.csv\n",
        "- `primary_use` - Indicator of the primary category of activities for the building based on EnergyStar property type definitions\n",
        "- `square_feet` - Gross floor area of the building\n",
        "- `year_built` - Year building was opened\n",
        "- `floor_count` - Number of floors of the building"
      ]
    },
    {
      "cell_type": "markdown",
      "metadata": {
        "id": "aa_BhqKwFlcU"
      },
      "source": [
        "`weather` contains weather data from the closest meteorological station."
      ]
    },
    {
      "cell_type": "code",
      "metadata": {
        "colab": {
          "base_uri": "https://localhost:8080/",
          "height": 281
        },
        "id": "wu6izhBiDtLy",
        "outputId": "157ea236-75db-4e10-b7c3-372859f2e813"
      },
      "source": [
        "weather.head()"
      ],
      "execution_count": 72,
      "outputs": [
        {
          "output_type": "execute_result",
          "data": {
            "text/html": [
              "<div>\n",
              "<style scoped>\n",
              "    .dataframe tbody tr th:only-of-type {\n",
              "        vertical-align: middle;\n",
              "    }\n",
              "\n",
              "    .dataframe tbody tr th {\n",
              "        vertical-align: top;\n",
              "    }\n",
              "\n",
              "    .dataframe thead th {\n",
              "        text-align: right;\n",
              "    }\n",
              "</style>\n",
              "<table border=\"1\" class=\"dataframe\">\n",
              "  <thead>\n",
              "    <tr style=\"text-align: right;\">\n",
              "      <th></th>\n",
              "      <th>site_id</th>\n",
              "      <th>timestamp</th>\n",
              "      <th>air_temperature</th>\n",
              "      <th>cloud_coverage</th>\n",
              "      <th>dew_temperature</th>\n",
              "      <th>precip_depth_1_hr</th>\n",
              "      <th>sea_level_pressure</th>\n",
              "      <th>wind_direction</th>\n",
              "      <th>wind_speed</th>\n",
              "    </tr>\n",
              "  </thead>\n",
              "  <tbody>\n",
              "    <tr>\n",
              "      <th>0</th>\n",
              "      <td>0</td>\n",
              "      <td>2016-01-01 00:00:00</td>\n",
              "      <td>25.0</td>\n",
              "      <td>6.0</td>\n",
              "      <td>20.0</td>\n",
              "      <td>NaN</td>\n",
              "      <td>1019.7</td>\n",
              "      <td>0.0</td>\n",
              "      <td>0.0</td>\n",
              "    </tr>\n",
              "    <tr>\n",
              "      <th>1</th>\n",
              "      <td>0</td>\n",
              "      <td>2016-01-01 01:00:00</td>\n",
              "      <td>24.4</td>\n",
              "      <td>NaN</td>\n",
              "      <td>21.1</td>\n",
              "      <td>-1.0</td>\n",
              "      <td>1020.2</td>\n",
              "      <td>70.0</td>\n",
              "      <td>1.5</td>\n",
              "    </tr>\n",
              "    <tr>\n",
              "      <th>2</th>\n",
              "      <td>0</td>\n",
              "      <td>2016-01-01 02:00:00</td>\n",
              "      <td>22.8</td>\n",
              "      <td>2.0</td>\n",
              "      <td>21.1</td>\n",
              "      <td>0.0</td>\n",
              "      <td>1020.2</td>\n",
              "      <td>0.0</td>\n",
              "      <td>0.0</td>\n",
              "    </tr>\n",
              "    <tr>\n",
              "      <th>3</th>\n",
              "      <td>0</td>\n",
              "      <td>2016-01-01 03:00:00</td>\n",
              "      <td>21.1</td>\n",
              "      <td>2.0</td>\n",
              "      <td>20.6</td>\n",
              "      <td>0.0</td>\n",
              "      <td>1020.1</td>\n",
              "      <td>0.0</td>\n",
              "      <td>0.0</td>\n",
              "    </tr>\n",
              "    <tr>\n",
              "      <th>4</th>\n",
              "      <td>0</td>\n",
              "      <td>2016-01-01 04:00:00</td>\n",
              "      <td>20.0</td>\n",
              "      <td>2.0</td>\n",
              "      <td>20.0</td>\n",
              "      <td>-1.0</td>\n",
              "      <td>1020.0</td>\n",
              "      <td>250.0</td>\n",
              "      <td>2.6</td>\n",
              "    </tr>\n",
              "  </tbody>\n",
              "</table>\n",
              "</div>"
            ],
            "text/plain": [
              "   site_id            timestamp  air_temperature  cloud_coverage  \\\n",
              "0        0  2016-01-01 00:00:00             25.0             6.0   \n",
              "1        0  2016-01-01 01:00:00             24.4             NaN   \n",
              "2        0  2016-01-01 02:00:00             22.8             2.0   \n",
              "3        0  2016-01-01 03:00:00             21.1             2.0   \n",
              "4        0  2016-01-01 04:00:00             20.0             2.0   \n",
              "\n",
              "   dew_temperature  precip_depth_1_hr  sea_level_pressure  wind_direction  \\\n",
              "0             20.0                NaN              1019.7             0.0   \n",
              "1             21.1               -1.0              1020.2            70.0   \n",
              "2             21.1                0.0              1020.2             0.0   \n",
              "3             20.6                0.0              1020.1             0.0   \n",
              "4             20.0               -1.0              1020.0           250.0   \n",
              "\n",
              "   wind_speed  \n",
              "0         0.0  \n",
              "1         1.5  \n",
              "2         0.0  \n",
              "3         0.0  \n",
              "4         2.6  "
            ]
          },
          "metadata": {
            "tags": []
          },
          "execution_count": 72
        }
      ]
    },
    {
      "cell_type": "markdown",
      "metadata": {
        "id": "oC210R-DGaVJ"
      },
      "source": [
        "- `site_id`\n",
        "- `air_temperature` - Degrees Celsius\n",
        "- `cloud_coverage` - Portion of the sky covered in clouds, in oktas\n",
        "- `dew_temperature` - Degrees Celsius\n",
        "- `precip_depth_1_hr` - Millimeters\n",
        "- `sea_level_pressure` - Millibar/hectopascals\n",
        "- `wind_direction` - Compass direction (0-360)\n",
        "- `wind_speed` - Meters per second"
      ]
    },
    {
      "cell_type": "markdown",
      "metadata": {
        "id": "DPqTK_qgFWBe"
      },
      "source": [
        "Finally, `train` contains the target variable, `meter reading`, which represents energy consumption in kWh."
      ]
    },
    {
      "cell_type": "code",
      "metadata": {
        "colab": {
          "base_uri": "https://localhost:8080/",
          "height": 197
        },
        "id": "CVvZiue2D1MT",
        "outputId": "212be586-d203-4ebd-d05a-541c475ccf45"
      },
      "source": [
        "train.head()"
      ],
      "execution_count": 73,
      "outputs": [
        {
          "output_type": "execute_result",
          "data": {
            "text/html": [
              "<div>\n",
              "<style scoped>\n",
              "    .dataframe tbody tr th:only-of-type {\n",
              "        vertical-align: middle;\n",
              "    }\n",
              "\n",
              "    .dataframe tbody tr th {\n",
              "        vertical-align: top;\n",
              "    }\n",
              "\n",
              "    .dataframe thead th {\n",
              "        text-align: right;\n",
              "    }\n",
              "</style>\n",
              "<table border=\"1\" class=\"dataframe\">\n",
              "  <thead>\n",
              "    <tr style=\"text-align: right;\">\n",
              "      <th></th>\n",
              "      <th>building_id</th>\n",
              "      <th>meter</th>\n",
              "      <th>timestamp</th>\n",
              "      <th>meter_reading</th>\n",
              "    </tr>\n",
              "  </thead>\n",
              "  <tbody>\n",
              "    <tr>\n",
              "      <th>0</th>\n",
              "      <td>0</td>\n",
              "      <td>0</td>\n",
              "      <td>2016-01-01 00:00:00</td>\n",
              "      <td>0.0</td>\n",
              "    </tr>\n",
              "    <tr>\n",
              "      <th>1</th>\n",
              "      <td>1</td>\n",
              "      <td>0</td>\n",
              "      <td>2016-01-01 00:00:00</td>\n",
              "      <td>0.0</td>\n",
              "    </tr>\n",
              "    <tr>\n",
              "      <th>2</th>\n",
              "      <td>2</td>\n",
              "      <td>0</td>\n",
              "      <td>2016-01-01 00:00:00</td>\n",
              "      <td>0.0</td>\n",
              "    </tr>\n",
              "    <tr>\n",
              "      <th>3</th>\n",
              "      <td>3</td>\n",
              "      <td>0</td>\n",
              "      <td>2016-01-01 00:00:00</td>\n",
              "      <td>0.0</td>\n",
              "    </tr>\n",
              "    <tr>\n",
              "      <th>4</th>\n",
              "      <td>4</td>\n",
              "      <td>0</td>\n",
              "      <td>2016-01-01 00:00:00</td>\n",
              "      <td>0.0</td>\n",
              "    </tr>\n",
              "  </tbody>\n",
              "</table>\n",
              "</div>"
            ],
            "text/plain": [
              "   building_id  meter            timestamp  meter_reading\n",
              "0            0      0  2016-01-01 00:00:00            0.0\n",
              "1            1      0  2016-01-01 00:00:00            0.0\n",
              "2            2      0  2016-01-01 00:00:00            0.0\n",
              "3            3      0  2016-01-01 00:00:00            0.0\n",
              "4            4      0  2016-01-01 00:00:00            0.0"
            ]
          },
          "metadata": {
            "tags": []
          },
          "execution_count": 73
        }
      ]
    },
    {
      "cell_type": "markdown",
      "metadata": {
        "id": "xSwtyoWSD2MA"
      },
      "source": [
        "- `building_id` - Foreign key for the building metadata.\n",
        "- `meter` - The meter id code. Read as {0: electricity, 1: chilledwater, 2: steam, 3: hotwater}. Not every building has all meter types.\n",
        "- `timestamp` - When the measurement was taken\n",
        "- `meter_reading` - The target variable. Energy consumption in kWh (or equivalent)."
      ]
    }
  ]
}