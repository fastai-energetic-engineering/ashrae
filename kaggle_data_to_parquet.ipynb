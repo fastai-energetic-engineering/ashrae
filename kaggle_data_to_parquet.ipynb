{
  "nbformat": 4,
  "nbformat_minor": 0,
  "metadata": {
    "colab": {
      "name": "kaggle_data_to_parquet.ipynb",
      "provenance": [],
      "collapsed_sections": [],
      "include_colab_link": true
    },
    "kernelspec": {
      "name": "python3",
      "display_name": "Python 3"
    },
    "language_info": {
      "name": "python"
    },
    "accelerator": "GPU"
  },
  "cells": [
    {
      "cell_type": "markdown",
      "metadata": {
        "id": "view-in-github",
        "colab_type": "text"
      },
      "source": [
        "<a href=\"https://colab.research.google.com/github/fastai-energetic-engineering/ashrae/blob/master/kaggle_data_to_parquet.ipynb\" target=\"_parent\"><img src=\"https://colab.research.google.com/assets/colab-badge.svg\" alt=\"Open In Colab\"/></a>"
      ]
    },
    {
      "cell_type": "markdown",
      "metadata": {
        "id": "q0AxBz6y2oWi"
      },
      "source": [
        "# Getting Kaggle Data for ASHRAE Energy Prediction\n",
        "> \"How to download Kaggle data from Colab.\"\n",
        "\n",
        "- toc: true\n",
        "- branch: master\n",
        "- badges: true\n",
        "- comments: true\n",
        "- categories: [kaggle, preprocessing]\n",
        "- image: images/some_folder/your_image.png\n",
        "- hide: false\n",
        "- search_exclude: false\n"
      ]
    },
    {
      "cell_type": "code",
      "metadata": {
        "id": "ijXYPvlA6Ee0"
      },
      "source": [
        "#collapse\n",
        "!pip install -Uqq fastbook\n",
        "import fastbook\n",
        "fastbook.setup_book()"
      ],
      "execution_count": null,
      "outputs": []
    },
    {
      "cell_type": "code",
      "metadata": {
        "id": "PWNQebEr8F8k"
      },
      "source": [
        "#collapse\n",
        "from fastbook import *\n",
        "import os\n",
        "from google.colab import files\n",
        "import pandas as pd\n",
        "import datetime"
      ],
      "execution_count": null,
      "outputs": []
    },
    {
      "cell_type": "markdown",
      "metadata": {
        "id": "acPmWGQ130BZ"
      },
      "source": [
        "This notebook demonstrates how I downloaded the [ASHRAE Energy Prediction Data](https://www.kaggle.com/c/ashrae-energy-prediction/overview) from Kaggle.\n",
        "\n",
        "First, we need to install the [Kaggle API](https://github.com/Kaggle/kaggle-api#api-credentials)."
      ]
    },
    {
      "cell_type": "code",
      "metadata": {
        "id": "baFYeFdW30qR"
      },
      "source": [
        "!pip install kaggle --upgrade -q"
      ],
      "execution_count": null,
      "outputs": []
    },
    {
      "cell_type": "markdown",
      "metadata": {
        "id": "Ie0px_OM5zYT"
      },
      "source": [
        "I will download the data into a folder in my google drive. First, I will set my home directory."
      ]
    },
    {
      "cell_type": "code",
      "metadata": {
        "id": "lE1XHTz751AF"
      },
      "source": [
        "%cd /content/gdrive/MyDrive/Colab Notebooks/ashrae/"
      ],
      "execution_count": null,
      "outputs": []
    },
    {
      "cell_type": "markdown",
      "metadata": {
        "id": "53Eh1266-pvA"
      },
      "source": [
        "We need to download Kaggle API token and then put the `.json` file in `.kaggle` folder. We can upload the key directly from colab."
      ]
    },
    {
      "cell_type": "code",
      "metadata": {
        "id": "MF8v8S1G-9Pf"
      },
      "source": [
        "files.upload() # use this to upload your API json key\n",
        "!mkdir ~/.kaggle # create folder\n",
        "!cp kaggle.json ~/.kaggle/ # move the key into the folder\n",
        "!chmod 600 ~/.kaggle/kaggle.json # change permissions of the file"
      ],
      "execution_count": null,
      "outputs": []
    },
    {
      "cell_type": "code",
      "metadata": {
        "id": "Xh73kfCVw0lF"
      },
      "source": [
        "%rm ./data/*.*\n",
        "%rmdir data"
      ],
      "execution_count": null,
      "outputs": []
    },
    {
      "cell_type": "code",
      "metadata": {
        "id": "oYiX8l8CxHJO"
      },
      "source": [
        "%mkdir data\n",
        "%cd data"
      ],
      "execution_count": null,
      "outputs": []
    },
    {
      "cell_type": "markdown",
      "metadata": {
        "id": "tjwP_R2Y_Mpw"
      },
      "source": [
        "We can finally download the file!"
      ]
    },
    {
      "cell_type": "code",
      "metadata": {
        "id": "iPRduPMt8hXW"
      },
      "source": [
        "!kaggle competitions download -c ashrae-energy-prediction"
      ],
      "execution_count": null,
      "outputs": []
    },
    {
      "cell_type": "code",
      "metadata": {
        "id": "Z5cWQZ_--RzA"
      },
      "source": [
        "# extract zip files then remove the .zip\n",
        "for item in os.listdir(): # for every item in the folder\n",
        "    if item.endswith('.zip'): # check if it is a .zip file\n",
        "        file_extract(item) # if it is, then extract file\n",
        "        os.remove(item) # and then remove the .zip"
      ],
      "execution_count": null,
      "outputs": []
    },
    {
      "cell_type": "code",
      "metadata": {
        "id": "lf-DRhOm94zP"
      },
      "source": [
        "os.chdir(\"..\") # return to initial folder"
      ],
      "execution_count": null,
      "outputs": []
    },
    {
      "cell_type": "code",
      "metadata": {
        "id": "xe28Owhe70BJ"
      },
      "source": [
        "def prepare_data(dataset=\"train\"):\n",
        "    assert dataset in [\"train\", \"test\"]\n",
        "\n",
        "    # read data\n",
        "    building_df = pd.read_csv(\"data/building_metadata.csv\")\n",
        "    weather_df = pd.read_csv(f\"data/weather_{dataset}.csv\")\n",
        "    data_df = pd.read_csv(f\"data/{dataset}.csv\")\n",
        "\n",
        "    # convert datetime\n",
        "    data_df[\"timestamp\"] = pd.to_datetime(data_df[\"timestamp\"])\n",
        "\n",
        "    # adjust timestamp\n",
        "    timediff = {\n",
        "        0: 4,\n",
        "        1: 0,\n",
        "        2: 7,\n",
        "        3: 4,\n",
        "        4: 7,\n",
        "        5: 0,\n",
        "        6: 4,\n",
        "        7: 4,\n",
        "        8: 4,\n",
        "        9: 5,\n",
        "        10: 7,\n",
        "        11: 4,\n",
        "        12: 0,\n",
        "        13: 5,\n",
        "        14: 4,\n",
        "        15: 4,\n",
        "    }\n",
        "    weather_df[\"time_diff\"] = weather_df[\"site_id\"].map(timediff)\n",
        "    weather_df[\"time_diff\"] = weather_df[\"time_diff\"].apply(\n",
        "        lambda x: datetime.timedelta(hours=x)\n",
        "    )\n",
        "    weather_df[\"timestamp_gmt\"] = pd.to_datetime(weather_df[\"timestamp\"])\n",
        "    weather_df[\"timestamp\"] = weather_df[\"timestamp_gmt\"] - weather_df[\"time_diff\"]\n",
        "\n",
        "    # merge table\n",
        "    data_df = data_df.merge(building_df, on=\"building_id\", how=\"left\")\n",
        "    data_df = data_df.merge(\n",
        "        weather_df.drop(columns=[\"time_diff\", \"timestamp_gmt\"]),\n",
        "        on=[\"site_id\", \"timestamp\"],\n",
        "        how=\"left\",\n",
        "    )\n",
        "\n",
        "    return data_df"
      ],
      "execution_count": null,
      "outputs": []
    },
    {
      "cell_type": "code",
      "metadata": {
        "id": "gKIpTFUd8FIK"
      },
      "source": [
        "train_combined_df = prepare_data('train')"
      ],
      "execution_count": null,
      "outputs": []
    },
    {
      "cell_type": "code",
      "metadata": {
        "id": "VUT_zcQpq6Vo"
      },
      "source": [
        "train_combined_df.to_parquet(Path(\"/content/gdrive/MyDrive/Colab Notebooks/ashrae/train_combined.parquet.snappy\"))"
      ],
      "execution_count": null,
      "outputs": []
    }
  ]
}