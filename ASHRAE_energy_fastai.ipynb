{
  "nbformat": 4,
  "nbformat_minor": 0,
  "metadata": {
    "colab": {
      "name": "ASHRAE energy fastai.ipynb",
      "provenance": [],
      "collapsed_sections": [],
      "include_colab_link": true
    },
    "kernelspec": {
      "name": "python3",
      "display_name": "Python 3"
    },
    "language_info": {
      "name": "python"
    },
    "accelerator": "GPU",
    "widgets": {
      "application/vnd.jupyter.widget-state+json": {
        "59da810dd112473b91d3a39043ee2276": {
          "model_module": "@jupyter-widgets/controls",
          "model_name": "HBoxModel",
          "state": {
            "_view_name": "HBoxView",
            "_dom_classes": [],
            "_model_name": "HBoxModel",
            "_view_module": "@jupyter-widgets/controls",
            "_model_module_version": "1.5.0",
            "_view_count": null,
            "_view_module_version": "1.5.0",
            "box_style": "",
            "layout": "IPY_MODEL_dc8289a11e2441958639b651241af2cb",
            "_model_module": "@jupyter-widgets/controls",
            "children": [
              "IPY_MODEL_3819b7e4a82a455c98dbb30fc940993d",
              "IPY_MODEL_604c7db1a6484a2e8ae0b5fc09b59b1c"
            ]
          }
        },
        "dc8289a11e2441958639b651241af2cb": {
          "model_module": "@jupyter-widgets/base",
          "model_name": "LayoutModel",
          "state": {
            "_view_name": "LayoutView",
            "grid_template_rows": null,
            "right": null,
            "justify_content": null,
            "_view_module": "@jupyter-widgets/base",
            "overflow": null,
            "_model_module_version": "1.2.0",
            "_view_count": null,
            "flex_flow": null,
            "width": null,
            "min_width": null,
            "border": null,
            "align_items": null,
            "bottom": null,
            "_model_module": "@jupyter-widgets/base",
            "top": null,
            "grid_column": null,
            "overflow_y": null,
            "overflow_x": null,
            "grid_auto_flow": null,
            "grid_area": null,
            "grid_template_columns": null,
            "flex": null,
            "_model_name": "LayoutModel",
            "justify_items": null,
            "grid_row": null,
            "max_height": null,
            "align_content": null,
            "visibility": null,
            "align_self": null,
            "height": null,
            "min_height": null,
            "padding": null,
            "grid_auto_rows": null,
            "grid_gap": null,
            "max_width": null,
            "order": null,
            "_view_module_version": "1.2.0",
            "grid_template_areas": null,
            "object_position": null,
            "object_fit": null,
            "grid_auto_columns": null,
            "margin": null,
            "display": null,
            "left": null
          }
        },
        "3819b7e4a82a455c98dbb30fc940993d": {
          "model_module": "@jupyter-widgets/controls",
          "model_name": "FloatProgressModel",
          "state": {
            "_view_name": "ProgressView",
            "style": "IPY_MODEL_844e20748bcb4534a001b1753b506121",
            "_dom_classes": [],
            "description": "apply progress: 100%",
            "_model_name": "FloatProgressModel",
            "bar_style": "success",
            "max": 20125605,
            "_view_module": "@jupyter-widgets/controls",
            "_model_module_version": "1.5.0",
            "value": 20125605,
            "_view_count": null,
            "_view_module_version": "1.5.0",
            "orientation": "horizontal",
            "min": 0,
            "description_tooltip": null,
            "_model_module": "@jupyter-widgets/controls",
            "layout": "IPY_MODEL_32a3bf917039493db8942101f3410882"
          }
        },
        "604c7db1a6484a2e8ae0b5fc09b59b1c": {
          "model_module": "@jupyter-widgets/controls",
          "model_name": "HTMLModel",
          "state": {
            "_view_name": "HTMLView",
            "style": "IPY_MODEL_46ceea076a0b4c208e732cbf0b268da6",
            "_dom_classes": [],
            "description": "",
            "_model_name": "HTMLModel",
            "placeholder": "​",
            "_view_module": "@jupyter-widgets/controls",
            "_model_module_version": "1.5.0",
            "value": " 20125605/20125605 [30:52&lt;00:00, 10865.78it/s]",
            "_view_count": null,
            "_view_module_version": "1.5.0",
            "description_tooltip": null,
            "_model_module": "@jupyter-widgets/controls",
            "layout": "IPY_MODEL_1c006bec43bb420db87a3beae76fb5b2"
          }
        },
        "844e20748bcb4534a001b1753b506121": {
          "model_module": "@jupyter-widgets/controls",
          "model_name": "ProgressStyleModel",
          "state": {
            "_view_name": "StyleView",
            "_model_name": "ProgressStyleModel",
            "description_width": "initial",
            "_view_module": "@jupyter-widgets/base",
            "_model_module_version": "1.5.0",
            "_view_count": null,
            "_view_module_version": "1.2.0",
            "bar_color": null,
            "_model_module": "@jupyter-widgets/controls"
          }
        },
        "32a3bf917039493db8942101f3410882": {
          "model_module": "@jupyter-widgets/base",
          "model_name": "LayoutModel",
          "state": {
            "_view_name": "LayoutView",
            "grid_template_rows": null,
            "right": null,
            "justify_content": null,
            "_view_module": "@jupyter-widgets/base",
            "overflow": null,
            "_model_module_version": "1.2.0",
            "_view_count": null,
            "flex_flow": null,
            "width": null,
            "min_width": null,
            "border": null,
            "align_items": null,
            "bottom": null,
            "_model_module": "@jupyter-widgets/base",
            "top": null,
            "grid_column": null,
            "overflow_y": null,
            "overflow_x": null,
            "grid_auto_flow": null,
            "grid_area": null,
            "grid_template_columns": null,
            "flex": null,
            "_model_name": "LayoutModel",
            "justify_items": null,
            "grid_row": null,
            "max_height": null,
            "align_content": null,
            "visibility": null,
            "align_self": null,
            "height": null,
            "min_height": null,
            "padding": null,
            "grid_auto_rows": null,
            "grid_gap": null,
            "max_width": null,
            "order": null,
            "_view_module_version": "1.2.0",
            "grid_template_areas": null,
            "object_position": null,
            "object_fit": null,
            "grid_auto_columns": null,
            "margin": null,
            "display": null,
            "left": null
          }
        },
        "46ceea076a0b4c208e732cbf0b268da6": {
          "model_module": "@jupyter-widgets/controls",
          "model_name": "DescriptionStyleModel",
          "state": {
            "_view_name": "StyleView",
            "_model_name": "DescriptionStyleModel",
            "description_width": "",
            "_view_module": "@jupyter-widgets/base",
            "_model_module_version": "1.5.0",
            "_view_count": null,
            "_view_module_version": "1.2.0",
            "_model_module": "@jupyter-widgets/controls"
          }
        },
        "1c006bec43bb420db87a3beae76fb5b2": {
          "model_module": "@jupyter-widgets/base",
          "model_name": "LayoutModel",
          "state": {
            "_view_name": "LayoutView",
            "grid_template_rows": null,
            "right": null,
            "justify_content": null,
            "_view_module": "@jupyter-widgets/base",
            "overflow": null,
            "_model_module_version": "1.2.0",
            "_view_count": null,
            "flex_flow": null,
            "width": null,
            "min_width": null,
            "border": null,
            "align_items": null,
            "bottom": null,
            "_model_module": "@jupyter-widgets/base",
            "top": null,
            "grid_column": null,
            "overflow_y": null,
            "overflow_x": null,
            "grid_auto_flow": null,
            "grid_area": null,
            "grid_template_columns": null,
            "flex": null,
            "_model_name": "LayoutModel",
            "justify_items": null,
            "grid_row": null,
            "max_height": null,
            "align_content": null,
            "visibility": null,
            "align_self": null,
            "height": null,
            "min_height": null,
            "padding": null,
            "grid_auto_rows": null,
            "grid_gap": null,
            "max_width": null,
            "order": null,
            "_view_module_version": "1.2.0",
            "grid_template_areas": null,
            "object_position": null,
            "object_fit": null,
            "grid_auto_columns": null,
            "margin": null,
            "display": null,
            "left": null
          }
        },
        "cb04fcab017c4f6491748933da280a7a": {
          "model_module": "@jupyter-widgets/controls",
          "model_name": "HBoxModel",
          "state": {
            "_view_name": "HBoxView",
            "_dom_classes": [],
            "_model_name": "HBoxModel",
            "_view_module": "@jupyter-widgets/controls",
            "_model_module_version": "1.5.0",
            "_view_count": null,
            "_view_module_version": "1.5.0",
            "box_style": "",
            "layout": "IPY_MODEL_019a77a26e2641dd8dceecdc7a20a6a4",
            "_model_module": "@jupyter-widgets/controls",
            "children": [
              "IPY_MODEL_1c2f443885da4efcad15bb96d881702c",
              "IPY_MODEL_943e28b6e24b45f0a93d8ef77452384b"
            ]
          }
        },
        "019a77a26e2641dd8dceecdc7a20a6a4": {
          "model_module": "@jupyter-widgets/base",
          "model_name": "LayoutModel",
          "state": {
            "_view_name": "LayoutView",
            "grid_template_rows": null,
            "right": null,
            "justify_content": null,
            "_view_module": "@jupyter-widgets/base",
            "overflow": null,
            "_model_module_version": "1.2.0",
            "_view_count": null,
            "flex_flow": null,
            "width": null,
            "min_width": null,
            "border": null,
            "align_items": null,
            "bottom": null,
            "_model_module": "@jupyter-widgets/base",
            "top": null,
            "grid_column": null,
            "overflow_y": null,
            "overflow_x": null,
            "grid_auto_flow": null,
            "grid_area": null,
            "grid_template_columns": null,
            "flex": null,
            "_model_name": "LayoutModel",
            "justify_items": null,
            "grid_row": null,
            "max_height": null,
            "align_content": null,
            "visibility": null,
            "align_self": null,
            "height": null,
            "min_height": null,
            "padding": null,
            "grid_auto_rows": null,
            "grid_gap": null,
            "max_width": null,
            "order": null,
            "_view_module_version": "1.2.0",
            "grid_template_areas": null,
            "object_position": null,
            "object_fit": null,
            "grid_auto_columns": null,
            "margin": null,
            "display": null,
            "left": null
          }
        },
        "1c2f443885da4efcad15bb96d881702c": {
          "model_module": "@jupyter-widgets/controls",
          "model_name": "FloatProgressModel",
          "state": {
            "_view_name": "ProgressView",
            "style": "IPY_MODEL_b5fd64de20464f3db3f0c673644085ed",
            "_dom_classes": [],
            "description": "apply progress: 100%",
            "_model_name": "FloatProgressModel",
            "bar_style": "success",
            "max": 20125605,
            "_view_module": "@jupyter-widgets/controls",
            "_model_module_version": "1.5.0",
            "value": 20125605,
            "_view_count": null,
            "_view_module_version": "1.5.0",
            "orientation": "horizontal",
            "min": 0,
            "description_tooltip": null,
            "_model_module": "@jupyter-widgets/controls",
            "layout": "IPY_MODEL_b220f4451fc848778650f30aa2750fe2"
          }
        },
        "943e28b6e24b45f0a93d8ef77452384b": {
          "model_module": "@jupyter-widgets/controls",
          "model_name": "HTMLModel",
          "state": {
            "_view_name": "HTMLView",
            "style": "IPY_MODEL_d5b3ed9d8fde400e949b409b9c69b7b9",
            "_dom_classes": [],
            "description": "",
            "_model_name": "HTMLModel",
            "placeholder": "​",
            "_view_module": "@jupyter-widgets/controls",
            "_model_module_version": "1.5.0",
            "value": " 20125605/20125605 [17:30&lt;00:00, 19166.41it/s]",
            "_view_count": null,
            "_view_module_version": "1.5.0",
            "description_tooltip": null,
            "_model_module": "@jupyter-widgets/controls",
            "layout": "IPY_MODEL_042b232557154987b60b1d67e0b5ccb8"
          }
        },
        "b5fd64de20464f3db3f0c673644085ed": {
          "model_module": "@jupyter-widgets/controls",
          "model_name": "ProgressStyleModel",
          "state": {
            "_view_name": "StyleView",
            "_model_name": "ProgressStyleModel",
            "description_width": "initial",
            "_view_module": "@jupyter-widgets/base",
            "_model_module_version": "1.5.0",
            "_view_count": null,
            "_view_module_version": "1.2.0",
            "bar_color": null,
            "_model_module": "@jupyter-widgets/controls"
          }
        },
        "b220f4451fc848778650f30aa2750fe2": {
          "model_module": "@jupyter-widgets/base",
          "model_name": "LayoutModel",
          "state": {
            "_view_name": "LayoutView",
            "grid_template_rows": null,
            "right": null,
            "justify_content": null,
            "_view_module": "@jupyter-widgets/base",
            "overflow": null,
            "_model_module_version": "1.2.0",
            "_view_count": null,
            "flex_flow": null,
            "width": null,
            "min_width": null,
            "border": null,
            "align_items": null,
            "bottom": null,
            "_model_module": "@jupyter-widgets/base",
            "top": null,
            "grid_column": null,
            "overflow_y": null,
            "overflow_x": null,
            "grid_auto_flow": null,
            "grid_area": null,
            "grid_template_columns": null,
            "flex": null,
            "_model_name": "LayoutModel",
            "justify_items": null,
            "grid_row": null,
            "max_height": null,
            "align_content": null,
            "visibility": null,
            "align_self": null,
            "height": null,
            "min_height": null,
            "padding": null,
            "grid_auto_rows": null,
            "grid_gap": null,
            "max_width": null,
            "order": null,
            "_view_module_version": "1.2.0",
            "grid_template_areas": null,
            "object_position": null,
            "object_fit": null,
            "grid_auto_columns": null,
            "margin": null,
            "display": null,
            "left": null
          }
        },
        "d5b3ed9d8fde400e949b409b9c69b7b9": {
          "model_module": "@jupyter-widgets/controls",
          "model_name": "DescriptionStyleModel",
          "state": {
            "_view_name": "StyleView",
            "_model_name": "DescriptionStyleModel",
            "description_width": "",
            "_view_module": "@jupyter-widgets/base",
            "_model_module_version": "1.5.0",
            "_view_count": null,
            "_view_module_version": "1.2.0",
            "_model_module": "@jupyter-widgets/controls"
          }
        },
        "042b232557154987b60b1d67e0b5ccb8": {
          "model_module": "@jupyter-widgets/base",
          "model_name": "LayoutModel",
          "state": {
            "_view_name": "LayoutView",
            "grid_template_rows": null,
            "right": null,
            "justify_content": null,
            "_view_module": "@jupyter-widgets/base",
            "overflow": null,
            "_model_module_version": "1.2.0",
            "_view_count": null,
            "flex_flow": null,
            "width": null,
            "min_width": null,
            "border": null,
            "align_items": null,
            "bottom": null,
            "_model_module": "@jupyter-widgets/base",
            "top": null,
            "grid_column": null,
            "overflow_y": null,
            "overflow_x": null,
            "grid_auto_flow": null,
            "grid_area": null,
            "grid_template_columns": null,
            "flex": null,
            "_model_name": "LayoutModel",
            "justify_items": null,
            "grid_row": null,
            "max_height": null,
            "align_content": null,
            "visibility": null,
            "align_self": null,
            "height": null,
            "min_height": null,
            "padding": null,
            "grid_auto_rows": null,
            "grid_gap": null,
            "max_width": null,
            "order": null,
            "_view_module_version": "1.2.0",
            "grid_template_areas": null,
            "object_position": null,
            "object_fit": null,
            "grid_auto_columns": null,
            "margin": null,
            "display": null,
            "left": null
          }
        }
      }
    }
  },
  "cells": [
    {
      "cell_type": "markdown",
      "metadata": {
        "id": "view-in-github",
        "colab_type": "text"
      },
      "source": [
        "<a href=\"https://colab.research.google.com/github/fastai-energetic-engineering/ashrae/blob/master/ASHRAE_energy_fastai.ipynb\" target=\"_parent\"><img src=\"https://colab.research.google.com/assets/colab-badge.svg\" alt=\"Open In Colab\"/></a>"
      ]
    },
    {
      "cell_type": "markdown",
      "metadata": {
        "id": "q0AxBz6y2oWi"
      },
      "source": [
        "# ASHRAE Energy Prediction\n",
        "\n",
        "- toc: true\n",
        "- branch: master\n",
        "- badges: true\n",
        "- comments: true\n",
        "- categories: [fastai, kaggle]\n",
        "- image: images/some_folder/your_image.png\n",
        "- hide: false\n",
        "- search_exclude: false\n"
      ]
    },
    {
      "cell_type": "code",
      "metadata": {
        "id": "ijXYPvlA6Ee0"
      },
      "source": [
        "#collapse\n",
        "!pip install -Uqq fastbook dtreeviz\n",
        "import fastbook\n",
        "fastbook.setup_book()"
      ],
      "execution_count": 6,
      "outputs": []
    },
    {
      "cell_type": "code",
      "metadata": {
        "id": "PWNQebEr8F8k"
      },
      "source": [
        "import os\n",
        "import gc\n",
        "import pandas as pd\n",
        "import datetime as dt\n",
        "from tqdm.auto import tqdm\n",
        "from pandas.api.types import is_string_dtype, is_numeric_dtype, is_categorical_dtype\n",
        "from fastai.tabular.all import *\n",
        "from sklearn.ensemble import RandomForestRegressor\n",
        "from sklearn.tree import DecisionTreeRegressor\n",
        "from dtreeviz.trees import *\n",
        "from IPython.display import Image, display_svg, SVG\n",
        "\n",
        "pd.options.display.max_rows = 20\n",
        "pd.options.display.max_columns = 8"
      ],
      "execution_count": 7,
      "outputs": []
    },
    {
      "cell_type": "code",
      "metadata": {
        "id": "lE1XHTz751AF",
        "colab": {
          "base_uri": "https://localhost:8080/"
        },
        "outputId": "597745f8-da80-4e99-fcad-636bd3362005"
      },
      "source": [
        "tqdm.pandas(desc=\"apply progress\")\n",
        "\n",
        "# Load ASHRAE energy dataset as parquet from google drive\n",
        "%cd 'gdrive/MyDrive/Colab Notebooks/ashrae_parquet'\n",
        "train_valid = pd.read_parquet(\"train_combined.parquet.snappy\")"
      ],
      "execution_count": null,
      "outputs": [
        {
          "output_type": "stream",
          "text": [
            "/usr/local/lib/python3.7/dist-packages/tqdm/std.py:658: FutureWarning: The Panel class is removed from pandas. Accessing it from the top-level namespace will also be removed in the next version\n",
            "  from pandas import Panel\n"
          ],
          "name": "stderr"
        },
        {
          "output_type": "stream",
          "text": [
            "/content/gdrive/.shortcut-targets-by-id/1yStoxel7q5iZ4Xrus1diWNC6aTSUKqkC/ashrae\n"
          ],
          "name": "stdout"
        }
      ]
    },
    {
      "cell_type": "code",
      "metadata": {
        "colab": {
          "base_uri": "https://localhost:8080/",
          "height": 233
        },
        "id": "gKIpTFUd8FIK",
        "outputId": "cd58221b-1381-4ed2-e3c4-70fdaa836561"
      },
      "source": [
        "train_valid.head()"
      ],
      "execution_count": null,
      "outputs": [
        {
          "output_type": "execute_result",
          "data": {
            "text/html": [
              "<div>\n",
              "<style scoped>\n",
              "    .dataframe tbody tr th:only-of-type {\n",
              "        vertical-align: middle;\n",
              "    }\n",
              "\n",
              "    .dataframe tbody tr th {\n",
              "        vertical-align: top;\n",
              "    }\n",
              "\n",
              "    .dataframe thead th {\n",
              "        text-align: right;\n",
              "    }\n",
              "</style>\n",
              "<table border=\"1\" class=\"dataframe\">\n",
              "  <thead>\n",
              "    <tr style=\"text-align: right;\">\n",
              "      <th></th>\n",
              "      <th>building_id</th>\n",
              "      <th>meter</th>\n",
              "      <th>timestamp</th>\n",
              "      <th>meter_reading</th>\n",
              "      <th>...</th>\n",
              "      <th>precip_depth_1_hr</th>\n",
              "      <th>sea_level_pressure</th>\n",
              "      <th>wind_direction</th>\n",
              "      <th>wind_speed</th>\n",
              "    </tr>\n",
              "  </thead>\n",
              "  <tbody>\n",
              "    <tr>\n",
              "      <th>0</th>\n",
              "      <td>0</td>\n",
              "      <td>0</td>\n",
              "      <td>2016-01-01</td>\n",
              "      <td>0.0</td>\n",
              "      <td>...</td>\n",
              "      <td>&lt;NA&gt;</td>\n",
              "      <td>1019.7</td>\n",
              "      <td>0</td>\n",
              "      <td>0.0</td>\n",
              "    </tr>\n",
              "    <tr>\n",
              "      <th>1</th>\n",
              "      <td>1</td>\n",
              "      <td>0</td>\n",
              "      <td>2016-01-01</td>\n",
              "      <td>0.0</td>\n",
              "      <td>...</td>\n",
              "      <td>&lt;NA&gt;</td>\n",
              "      <td>1019.7</td>\n",
              "      <td>0</td>\n",
              "      <td>0.0</td>\n",
              "    </tr>\n",
              "    <tr>\n",
              "      <th>2</th>\n",
              "      <td>2</td>\n",
              "      <td>0</td>\n",
              "      <td>2016-01-01</td>\n",
              "      <td>0.0</td>\n",
              "      <td>...</td>\n",
              "      <td>&lt;NA&gt;</td>\n",
              "      <td>1019.7</td>\n",
              "      <td>0</td>\n",
              "      <td>0.0</td>\n",
              "    </tr>\n",
              "    <tr>\n",
              "      <th>3</th>\n",
              "      <td>3</td>\n",
              "      <td>0</td>\n",
              "      <td>2016-01-01</td>\n",
              "      <td>0.0</td>\n",
              "      <td>...</td>\n",
              "      <td>&lt;NA&gt;</td>\n",
              "      <td>1019.7</td>\n",
              "      <td>0</td>\n",
              "      <td>0.0</td>\n",
              "    </tr>\n",
              "    <tr>\n",
              "      <th>4</th>\n",
              "      <td>4</td>\n",
              "      <td>0</td>\n",
              "      <td>2016-01-01</td>\n",
              "      <td>0.0</td>\n",
              "      <td>...</td>\n",
              "      <td>&lt;NA&gt;</td>\n",
              "      <td>1019.7</td>\n",
              "      <td>0</td>\n",
              "      <td>0.0</td>\n",
              "    </tr>\n",
              "  </tbody>\n",
              "</table>\n",
              "<p>5 rows × 16 columns</p>\n",
              "</div>"
            ],
            "text/plain": [
              "   building_id  meter  timestamp  meter_reading  ...  precip_depth_1_hr  \\\n",
              "0            0      0 2016-01-01            0.0  ...               <NA>   \n",
              "1            1      0 2016-01-01            0.0  ...               <NA>   \n",
              "2            2      0 2016-01-01            0.0  ...               <NA>   \n",
              "3            3      0 2016-01-01            0.0  ...               <NA>   \n",
              "4            4      0 2016-01-01            0.0  ...               <NA>   \n",
              "\n",
              "  sea_level_pressure  wind_direction  wind_speed  \n",
              "0             1019.7               0         0.0  \n",
              "1             1019.7               0         0.0  \n",
              "2             1019.7               0         0.0  \n",
              "3             1019.7               0         0.0  \n",
              "4             1019.7               0         0.0  \n",
              "\n",
              "[5 rows x 16 columns]"
            ]
          },
          "metadata": {
            "tags": []
          },
          "execution_count": 4
        }
      ]
    },
    {
      "cell_type": "code",
      "metadata": {
        "colab": {
          "base_uri": "https://localhost:8080/"
        },
        "id": "dn0sWZpklntO",
        "outputId": "f77684a1-aeea-4f4d-bf87-1ec62c6b8810"
      },
      "source": [
        "#train.describe()\n",
        "train_valid.info()"
      ],
      "execution_count": null,
      "outputs": [
        {
          "output_type": "stream",
          "text": [
            "<class 'pandas.core.frame.DataFrame'>\n",
            "Int64Index: 20125605 entries, 0 to 20125604\n",
            "Data columns (total 16 columns):\n",
            " #   Column              Dtype         \n",
            "---  ------              -----         \n",
            " 0   building_id         Int64         \n",
            " 1   meter               Int64         \n",
            " 2   timestamp           datetime64[ns]\n",
            " 3   meter_reading       float64       \n",
            " 4   site_id             Int64         \n",
            " 5   primary_use         string        \n",
            " 6   square_feet         Int64         \n",
            " 7   year_built          Int64         \n",
            " 8   floor_count         Int64         \n",
            " 9   air_temperature     float64       \n",
            " 10  cloud_coverage      Int64         \n",
            " 11  dew_temperature     float64       \n",
            " 12  precip_depth_1_hr   Int64         \n",
            " 13  sea_level_pressure  float64       \n",
            " 14  wind_direction      Int64         \n",
            " 15  wind_speed          float64       \n",
            "dtypes: Int64(9), datetime64[ns](1), float64(5), string(1)\n",
            "memory usage: 2.7 GB\n"
          ],
          "name": "stdout"
        }
      ]
    },
    {
      "cell_type": "code",
      "metadata": {
        "id": "k6kNphv_g3po",
        "colab": {
          "base_uri": "https://localhost:8080/",
          "height": 422,
          "referenced_widgets": [
            "59da810dd112473b91d3a39043ee2276",
            "dc8289a11e2441958639b651241af2cb",
            "3819b7e4a82a455c98dbb30fc940993d",
            "604c7db1a6484a2e8ae0b5fc09b59b1c",
            "844e20748bcb4534a001b1753b506121",
            "32a3bf917039493db8942101f3410882",
            "46ceea076a0b4c208e732cbf0b268da6",
            "1c006bec43bb420db87a3beae76fb5b2",
            "cb04fcab017c4f6491748933da280a7a",
            "019a77a26e2641dd8dceecdc7a20a6a4",
            "1c2f443885da4efcad15bb96d881702c",
            "943e28b6e24b45f0a93d8ef77452384b",
            "b5fd64de20464f3db3f0c673644085ed",
            "b220f4451fc848778650f30aa2750fe2",
            "d5b3ed9d8fde400e949b409b9c69b7b9",
            "042b232557154987b60b1d67e0b5ccb8"
          ]
        },
        "outputId": "cae78d83-a4f7-47ce-e7b9-0262fa77ab95"
      },
      "source": [
        "# Engineer some features\n",
        "year_fraction = train_valid[\"timestamp\"] - train_valid[\"timestamp\"].iloc[0]\n",
        "train_valid[\"year_fraction\"] = year_fraction / year_fraction.max()\n",
        "train_valid[\"week_fraction\"] = train_valid[\"timestamp\"].progress_apply(lambda ts: (ts - pd.Timestamp((ts - pd.Timedelta(days=ts.dayofweek)).date())) / pd.Timedelta(days=7))\n",
        "train_valid[\"day_fraction\"] = train_valid[\"timestamp\"].progress_apply(lambda ts: (ts - pd.Timestamp(ts.date())) / pd.Timedelta(hours=24))\n",
        "\n",
        "# Save or load the feature engineered dataframe here\n",
        "%cd '/content/gdrive/MyDrive/Colab Notebooks/ashrae'\n",
        "train_valid.to_parquet(\"feature_enhanced_train_combined.parquet.snappy\")\n",
        "\n",
        "gc.collect()"
      ],
      "execution_count": null,
      "outputs": [
        {
          "output_type": "display_data",
          "data": {
            "application/vnd.jupyter.widget-view+json": {
              "model_id": "59da810dd112473b91d3a39043ee2276",
              "version_major": 2,
              "version_minor": 0
            },
            "text/plain": [
              "HBox(children=(FloatProgress(value=0.0, description='apply progress', max=20125605.0, style=ProgressStyle(desc…"
            ]
          },
          "metadata": {
            "tags": []
          }
        },
        {
          "output_type": "stream",
          "text": [
            "\n"
          ],
          "name": "stdout"
        },
        {
          "output_type": "display_data",
          "data": {
            "application/vnd.jupyter.widget-view+json": {
              "model_id": "cb04fcab017c4f6491748933da280a7a",
              "version_minor": 0,
              "version_major": 2
            },
            "text/plain": [
              "HBox(children=(FloatProgress(value=0.0, description='apply progress', max=20125605.0, style=ProgressStyle(desc…"
            ]
          },
          "metadata": {
            "tags": []
          }
        },
        {
          "output_type": "stream",
          "text": [
            "\n",
            "[Errno 2] No such file or directory: 'gdrive/MyDrive/Colab Notebooks/ashrae'\n",
            "/content/gdrive/.shortcut-targets-by-id/1yStoxel7q5iZ4Xrus1diWNC6aTSUKqkC/ashrae\n"
          ],
          "name": "stdout"
        },
        {
          "output_type": "error",
          "ename": "OSError",
          "evalue": "ignored",
          "traceback": [
            "\u001b[0;31m---------------------------------------------------------------------------\u001b[0m",
            "\u001b[0;31mOSError\u001b[0m                                   Traceback (most recent call last)",
            "\u001b[0;32m<ipython-input-3-99b1815919db>\u001b[0m in \u001b[0;36m<module>\u001b[0;34m()\u001b[0m\n\u001b[1;32m      7\u001b[0m \u001b[0;31m# Save or load the feature engineered dataframe here\u001b[0m\u001b[0;34m\u001b[0m\u001b[0;34m\u001b[0m\u001b[0;34m\u001b[0m\u001b[0m\n\u001b[1;32m      8\u001b[0m \u001b[0mget_ipython\u001b[0m\u001b[0;34m(\u001b[0m\u001b[0;34m)\u001b[0m\u001b[0;34m.\u001b[0m\u001b[0mmagic\u001b[0m\u001b[0;34m(\u001b[0m\u001b[0;34m\"cd 'gdrive/MyDrive/Colab Notebooks/ashrae'\"\u001b[0m\u001b[0;34m)\u001b[0m\u001b[0;34m\u001b[0m\u001b[0;34m\u001b[0m\u001b[0m\n\u001b[0;32m----> 9\u001b[0;31m \u001b[0mtrain_valid\u001b[0m\u001b[0;34m.\u001b[0m\u001b[0mto_parquet\u001b[0m\u001b[0;34m(\u001b[0m\u001b[0;34m\"feature_enhanced_train_combined.parquet.snappy\"\u001b[0m\u001b[0;34m)\u001b[0m\u001b[0;34m\u001b[0m\u001b[0;34m\u001b[0m\u001b[0m\n\u001b[0m\u001b[1;32m     10\u001b[0m \u001b[0;31m# train_valid = pd.read_parquet(\"feature_enhanced_train_combined.parquet.snappy\")\u001b[0m\u001b[0;34m\u001b[0m\u001b[0;34m\u001b[0m\u001b[0;34m\u001b[0m\u001b[0m\n\u001b[1;32m     11\u001b[0m \u001b[0;34m\u001b[0m\u001b[0m\n",
            "\u001b[0;32m/usr/local/lib/python3.7/dist-packages/pandas/util/_decorators.py\u001b[0m in \u001b[0;36mwrapper\u001b[0;34m(*args, **kwargs)\u001b[0m\n\u001b[1;32m    197\u001b[0m                 \u001b[0;32melse\u001b[0m\u001b[0;34m:\u001b[0m\u001b[0;34m\u001b[0m\u001b[0;34m\u001b[0m\u001b[0m\n\u001b[1;32m    198\u001b[0m                     \u001b[0mkwargs\u001b[0m\u001b[0;34m[\u001b[0m\u001b[0mnew_arg_name\u001b[0m\u001b[0;34m]\u001b[0m \u001b[0;34m=\u001b[0m \u001b[0mnew_arg_value\u001b[0m\u001b[0;34m\u001b[0m\u001b[0;34m\u001b[0m\u001b[0m\n\u001b[0;32m--> 199\u001b[0;31m             \u001b[0;32mreturn\u001b[0m \u001b[0mfunc\u001b[0m\u001b[0;34m(\u001b[0m\u001b[0;34m*\u001b[0m\u001b[0margs\u001b[0m\u001b[0;34m,\u001b[0m \u001b[0;34m**\u001b[0m\u001b[0mkwargs\u001b[0m\u001b[0;34m)\u001b[0m\u001b[0;34m\u001b[0m\u001b[0;34m\u001b[0m\u001b[0m\n\u001b[0m\u001b[1;32m    200\u001b[0m \u001b[0;34m\u001b[0m\u001b[0m\n\u001b[1;32m    201\u001b[0m         \u001b[0;32mreturn\u001b[0m \u001b[0mcast\u001b[0m\u001b[0;34m(\u001b[0m\u001b[0mF\u001b[0m\u001b[0;34m,\u001b[0m \u001b[0mwrapper\u001b[0m\u001b[0;34m)\u001b[0m\u001b[0;34m\u001b[0m\u001b[0;34m\u001b[0m\u001b[0m\n",
            "\u001b[0;32m/usr/local/lib/python3.7/dist-packages/pandas/core/frame.py\u001b[0m in \u001b[0;36mto_parquet\u001b[0;34m(self, path, engine, compression, index, partition_cols, **kwargs)\u001b[0m\n\u001b[1;32m   2370\u001b[0m             \u001b[0mindex\u001b[0m\u001b[0;34m=\u001b[0m\u001b[0mindex\u001b[0m\u001b[0;34m,\u001b[0m\u001b[0;34m\u001b[0m\u001b[0;34m\u001b[0m\u001b[0m\n\u001b[1;32m   2371\u001b[0m             \u001b[0mpartition_cols\u001b[0m\u001b[0;34m=\u001b[0m\u001b[0mpartition_cols\u001b[0m\u001b[0;34m,\u001b[0m\u001b[0;34m\u001b[0m\u001b[0;34m\u001b[0m\u001b[0m\n\u001b[0;32m-> 2372\u001b[0;31m             \u001b[0;34m**\u001b[0m\u001b[0mkwargs\u001b[0m\u001b[0;34m,\u001b[0m\u001b[0;34m\u001b[0m\u001b[0;34m\u001b[0m\u001b[0m\n\u001b[0m\u001b[1;32m   2373\u001b[0m         )\n\u001b[1;32m   2374\u001b[0m \u001b[0;34m\u001b[0m\u001b[0m\n",
            "\u001b[0;32m/usr/local/lib/python3.7/dist-packages/pandas/io/parquet.py\u001b[0m in \u001b[0;36mto_parquet\u001b[0;34m(df, path, engine, compression, index, partition_cols, **kwargs)\u001b[0m\n\u001b[1;32m    274\u001b[0m         \u001b[0mindex\u001b[0m\u001b[0;34m=\u001b[0m\u001b[0mindex\u001b[0m\u001b[0;34m,\u001b[0m\u001b[0;34m\u001b[0m\u001b[0;34m\u001b[0m\u001b[0m\n\u001b[1;32m    275\u001b[0m         \u001b[0mpartition_cols\u001b[0m\u001b[0;34m=\u001b[0m\u001b[0mpartition_cols\u001b[0m\u001b[0;34m,\u001b[0m\u001b[0;34m\u001b[0m\u001b[0;34m\u001b[0m\u001b[0m\n\u001b[0;32m--> 276\u001b[0;31m         \u001b[0;34m**\u001b[0m\u001b[0mkwargs\u001b[0m\u001b[0;34m,\u001b[0m\u001b[0;34m\u001b[0m\u001b[0;34m\u001b[0m\u001b[0m\n\u001b[0m\u001b[1;32m    277\u001b[0m     )\n\u001b[1;32m    278\u001b[0m \u001b[0;34m\u001b[0m\u001b[0m\n",
            "\u001b[0;32m/usr/local/lib/python3.7/dist-packages/pandas/io/parquet.py\u001b[0m in \u001b[0;36mwrite\u001b[0;34m(self, df, path, compression, index, partition_cols, **kwargs)\u001b[0m\n\u001b[1;32m    121\u001b[0m         \u001b[0;32melse\u001b[0m\u001b[0;34m:\u001b[0m\u001b[0;34m\u001b[0m\u001b[0;34m\u001b[0m\u001b[0m\n\u001b[1;32m    122\u001b[0m             \u001b[0;31m# write to single output file\u001b[0m\u001b[0;34m\u001b[0m\u001b[0;34m\u001b[0m\u001b[0;34m\u001b[0m\u001b[0m\n\u001b[0;32m--> 123\u001b[0;31m             \u001b[0mself\u001b[0m\u001b[0;34m.\u001b[0m\u001b[0mapi\u001b[0m\u001b[0;34m.\u001b[0m\u001b[0mparquet\u001b[0m\u001b[0;34m.\u001b[0m\u001b[0mwrite_table\u001b[0m\u001b[0;34m(\u001b[0m\u001b[0mtable\u001b[0m\u001b[0;34m,\u001b[0m \u001b[0mpath\u001b[0m\u001b[0;34m,\u001b[0m \u001b[0mcompression\u001b[0m\u001b[0;34m=\u001b[0m\u001b[0mcompression\u001b[0m\u001b[0;34m,\u001b[0m \u001b[0;34m**\u001b[0m\u001b[0mkwargs\u001b[0m\u001b[0;34m)\u001b[0m\u001b[0;34m\u001b[0m\u001b[0;34m\u001b[0m\u001b[0m\n\u001b[0m\u001b[1;32m    124\u001b[0m \u001b[0;34m\u001b[0m\u001b[0m\n\u001b[1;32m    125\u001b[0m     \u001b[0;32mdef\u001b[0m \u001b[0mread\u001b[0m\u001b[0;34m(\u001b[0m\u001b[0mself\u001b[0m\u001b[0;34m,\u001b[0m \u001b[0mpath\u001b[0m\u001b[0;34m,\u001b[0m \u001b[0mcolumns\u001b[0m\u001b[0;34m=\u001b[0m\u001b[0;32mNone\u001b[0m\u001b[0;34m,\u001b[0m \u001b[0;34m**\u001b[0m\u001b[0mkwargs\u001b[0m\u001b[0;34m)\u001b[0m\u001b[0;34m:\u001b[0m\u001b[0;34m\u001b[0m\u001b[0;34m\u001b[0m\u001b[0m\n",
            "\u001b[0;32m/usr/local/lib/python3.7/dist-packages/pyarrow/parquet.py\u001b[0m in \u001b[0;36mwrite_table\u001b[0;34m(table, where, row_group_size, version, use_dictionary, compression, write_statistics, use_deprecated_int96_timestamps, coerce_timestamps, allow_truncated_timestamps, data_page_size, flavor, filesystem, compression_level, use_byte_stream_split, data_page_version, **kwargs)\u001b[0m\n\u001b[1;32m   1795\u001b[0m                 \u001b[0muse_byte_stream_split\u001b[0m\u001b[0;34m=\u001b[0m\u001b[0muse_byte_stream_split\u001b[0m\u001b[0;34m,\u001b[0m\u001b[0;34m\u001b[0m\u001b[0;34m\u001b[0m\u001b[0m\n\u001b[1;32m   1796\u001b[0m                 \u001b[0mdata_page_version\u001b[0m\u001b[0;34m=\u001b[0m\u001b[0mdata_page_version\u001b[0m\u001b[0;34m,\u001b[0m\u001b[0;34m\u001b[0m\u001b[0;34m\u001b[0m\u001b[0m\n\u001b[0;32m-> 1797\u001b[0;31m                 **kwargs) as writer:\n\u001b[0m\u001b[1;32m   1798\u001b[0m             \u001b[0mwriter\u001b[0m\u001b[0;34m.\u001b[0m\u001b[0mwrite_table\u001b[0m\u001b[0;34m(\u001b[0m\u001b[0mtable\u001b[0m\u001b[0;34m,\u001b[0m \u001b[0mrow_group_size\u001b[0m\u001b[0;34m=\u001b[0m\u001b[0mrow_group_size\u001b[0m\u001b[0;34m)\u001b[0m\u001b[0;34m\u001b[0m\u001b[0;34m\u001b[0m\u001b[0m\n\u001b[1;32m   1799\u001b[0m     \u001b[0;32mexcept\u001b[0m \u001b[0mException\u001b[0m\u001b[0;34m:\u001b[0m\u001b[0;34m\u001b[0m\u001b[0;34m\u001b[0m\u001b[0m\n",
            "\u001b[0;32m/usr/local/lib/python3.7/dist-packages/pyarrow/parquet.py\u001b[0m in \u001b[0;36m__init__\u001b[0;34m(self, where, schema, filesystem, flavor, version, use_dictionary, compression, write_statistics, use_deprecated_int96_timestamps, compression_level, use_byte_stream_split, writer_engine_version, data_page_version, **options)\u001b[0m\n\u001b[1;32m    607\u001b[0m                 \u001b[0;31m# shouldn't implicitly apply compression.\u001b[0m\u001b[0;34m\u001b[0m\u001b[0;34m\u001b[0m\u001b[0;34m\u001b[0m\u001b[0m\n\u001b[1;32m    608\u001b[0m                 sink = self.file_handle = filesystem.open_output_stream(\n\u001b[0;32m--> 609\u001b[0;31m                     path, compression=None)\n\u001b[0m\u001b[1;32m    610\u001b[0m         \u001b[0;32melse\u001b[0m\u001b[0;34m:\u001b[0m\u001b[0;34m\u001b[0m\u001b[0;34m\u001b[0m\u001b[0m\n\u001b[1;32m    611\u001b[0m             \u001b[0msink\u001b[0m \u001b[0;34m=\u001b[0m \u001b[0mwhere\u001b[0m\u001b[0;34m\u001b[0m\u001b[0;34m\u001b[0m\u001b[0m\n",
            "\u001b[0;32m/usr/local/lib/python3.7/dist-packages/pyarrow/_fs.pyx\u001b[0m in \u001b[0;36mpyarrow._fs.FileSystem.open_output_stream\u001b[0;34m()\u001b[0m\n",
            "\u001b[0;32m/usr/local/lib/python3.7/dist-packages/pyarrow/error.pxi\u001b[0m in \u001b[0;36mpyarrow.lib.pyarrow_internal_check_status\u001b[0;34m()\u001b[0m\n",
            "\u001b[0;32m/usr/local/lib/python3.7/dist-packages/pyarrow/error.pxi\u001b[0m in \u001b[0;36mpyarrow.lib.check_status\u001b[0;34m()\u001b[0m\n",
            "\u001b[0;31mOSError\u001b[0m: [Errno 30] Failed to open local file 'feature_enhanced_train_combined.parquet.snappy'. Detail: [errno 30] Read-only file system"
          ]
        }
      ]
    },
    {
      "cell_type": "code",
      "metadata": {
        "colab": {
          "base_uri": "https://localhost:8080/"
        },
        "id": "ap9Jy8ePYmJH",
        "outputId": "e24a529f-383b-4102-9c0e-ac79975d081e"
      },
      "source": [
        "%cd '/content/gdrive/MyDrive/Colab Notebooks/ashrae'\n",
        "train_valid = pd.read_parquet(\"feature_enhanced_train_combined.parquet.snappy\")"
      ],
      "execution_count": 8,
      "outputs": [
        {
          "output_type": "stream",
          "text": [
            "/content/gdrive/MyDrive/Colab Notebooks/ashrae\n"
          ],
          "name": "stdout"
        }
      ]
    },
    {
      "cell_type": "code",
      "metadata": {
        "colab": {
          "base_uri": "https://localhost:8080/"
        },
        "id": "z526d9lYuuq7",
        "outputId": "5ea2a23c-2127-44ab-ae3d-91e23f843e97"
      },
      "source": [
        "## Memory optimization\n",
        "\n",
        "# Original code from https://www.kaggle.com/gemartin/load-data-reduce-memory-usage by @gemartin\n",
        "# Modified to support timestamp type, categorical type\n",
        "# Modified to add option to use float16\n",
        "\n",
        "from pandas.api.types import is_datetime64_any_dtype as is_datetime\n",
        "from pandas.api.types import is_categorical_dtype\n",
        "\n",
        "def reduce_mem_usage(df, use_float16=False):\n",
        "    \"\"\"\n",
        "    Iterate through all the columns of a dataframe and modify the data type to reduce memory usage.        \n",
        "    \"\"\"\n",
        "    \n",
        "    start_mem = df.memory_usage().sum() / 1024**2\n",
        "    print(\"Memory usage of dataframe is {:.2f} MB\".format(start_mem))\n",
        "    \n",
        "    for col in df.columns:\n",
        "        if is_datetime(df[col]) or is_categorical_dtype(df[col]) or is_string_dtype(df[col]):\n",
        "            continue\n",
        "        col_type = df[col].dtype\n",
        "        \n",
        "        if col_type != object:\n",
        "            c_min = df[col].min()\n",
        "            c_max = df[col].max()\n",
        "            if str(col_type)[:3] == \"int\":\n",
        "                if c_min > np.iinfo(np.int8).min and c_max < np.iinfo(np.int8).max:\n",
        "                    df[col] = df[col].astype(np.int8)\n",
        "                elif c_min > np.iinfo(np.int16).min and c_max < np.iinfo(np.int16).max:\n",
        "                    df[col] = df[col].astype(np.int16)\n",
        "                elif c_min > np.iinfo(np.int32).min and c_max < np.iinfo(np.int32).max:\n",
        "                    df[col] = df[col].astype(np.int32)\n",
        "                elif c_min > np.iinfo(np.int64).min and c_max < np.iinfo(np.int64).max:\n",
        "                    df[col] = df[col].astype(np.int64)  \n",
        "            else:\n",
        "                if use_float16 and c_min > np.finfo(np.float16).min and c_max < np.finfo(np.float16).max:\n",
        "                    df[col] = df[col].astype(np.float16)\n",
        "                elif c_min > np.finfo(np.float32).min and c_max < np.finfo(np.float32).max:\n",
        "                    df[col] = df[col].astype(np.float32)\n",
        "                else:\n",
        "                    df[col] = df[col].astype(np.float64)\n",
        "        else:\n",
        "            df[col] = df[col].astype(\"category\")\n",
        "\n",
        "    end_mem = df.memory_usage().sum() / 1024**2\n",
        "    print(\"Memory usage after optimization is: {:.2f} MB\".format(end_mem))\n",
        "    print(\"Decreased by {:.1f}%\".format(100 * (start_mem - end_mem) / start_mem))\n",
        "    \n",
        "    return df\n",
        "\n",
        "train_valid = reduce_mem_usage(train_valid, use_float16=True)"
      ],
      "execution_count": 9,
      "outputs": [
        {
          "output_type": "stream",
          "text": [
            "Memory usage of dataframe is 3243.66 MB\n",
            "Memory usage after optimization is: 1189.98 MB\n",
            "Decreased by 63.3%\n"
          ],
          "name": "stdout"
        }
      ]
    },
    {
      "cell_type": "code",
      "metadata": {
        "id": "w4FREGZWVst7",
        "colab": {
          "base_uri": "https://localhost:8080/",
          "height": 407
        },
        "outputId": "e3d6830c-03ed-4cce-b2cf-386dd42fe8a2"
      },
      "source": [
        "# Get a subset of the data, just one building and meter\n",
        "\n",
        "train = train_valid[(train_valid['building_id']==1126) & (train_valid['meter']==2)]\n",
        "import matplotlib as mpl\n",
        "import matplotlib.pyplot as plt\n",
        "import seaborn as sns\n",
        "mpl.rcParams['figure.dpi'] = 100\n",
        "sns.set()\n",
        "#%matplotlib inlinefig, axes = plt.subplots(9,2,figsize=(14, 36), dpi=100)\n",
        "train[['timestamp', 'meter_reading']].set_index('timestamp').plot()\n"
      ],
      "execution_count": 40,
      "outputs": [
        {
          "output_type": "execute_result",
          "data": {
            "text/plain": [
              "<matplotlib.axes._subplots.AxesSubplot at 0x7faf6992a1d0>"
            ]
          },
          "metadata": {
            "tags": []
          },
          "execution_count": 40
        },
        {
          "output_type": "display_data",
          "data": {
            "image/png": "[encoded data removed]",
            "text/plain": [
              "<Figure size 600x400 with 1 Axes>"
            ]
          },
          "metadata": {
            "tags": []
          }
        }
      ]
    },
    {
      "cell_type": "code",
      "metadata": {
        "colab": {
          "base_uri": "https://localhost:8080/",
          "height": 1000
        },
        "id": "FFikcernZJSO",
        "outputId": "855bcfe4-71ac-4cda-bd96-016122eb8c2e"
      },
      "source": [
        "# Get a subset of the data, just one building (all meters)\n",
        "\n",
        "train = train_valid[(train_valid['building_id']==1126)]\n",
        "import matplotlib as mpl\n",
        "import matplotlib.pyplot as plt\n",
        "import seaborn as sns\n",
        "mpl.rcParams['figure.dpi'] = 100\n",
        "sns.set()\n",
        "#%matplotlib inlinefig, axes = plt.subplots(9,2,figsize=(14, 36), dpi=100)\n",
        "train[['timestamp', 'meter_reading']].set_index('timestamp').plot()\n",
        "for i in train['meter'].unique():\n",
        "    train[train['meter']==i][['timestamp', 'meter_reading']].set_index('timestamp').plot()\n",
        "    plt.title('Meter ' + str(i))\n",
        "    # Show/save figure as desired.\n",
        "    #plt.show()"
      ],
      "execution_count": 59,
      "outputs": [
        {
          "output_type": "display_data",
          "data": {
            "image/png": "[encoded data removed]",
            "text/plain": [
              "<Figure size 600x400 with 1 Axes>"
            ]
          },
          "metadata": {
            "tags": []
          }
        },
        {
          "output_type": "display_data",
          "data": {
            "image/png": "[encoded data removed]",
            "text/plain": [
              "<Figure size 600x400 with 1 Axes>"
            ]
          },
          "metadata": {
            "tags": []
          }
        },
        {
          "output_type": "display_data",
          "data": {
            "image/png": "[encoded data removed]",
            "text/plain": [
              "<Figure size 600x400 with 1 Axes>"
            ]
          },
          "metadata": {
            "tags": []
          }
        }
      ]
    },
    {
      "cell_type": "code",
      "metadata": {
        "colab": {
          "base_uri": "https://localhost:8080/"
        },
        "id": "DxmcdjT_yK1M",
        "outputId": "111dd57a-bb14-4dca-b7f7-acbd0f2a667c"
      },
      "source": [
        "# Get a subset of the data, a few buildings and all meters\n",
        "\n",
        "train = train_valid[(train_valid['building_id']>=1126)]\n",
        "del train_valid\n",
        "gc.collect()"
      ],
      "execution_count": 10,
      "outputs": [
        {
          "output_type": "execute_result",
          "data": {
            "text/plain": [
              "188"
            ]
          },
          "metadata": {
            "tags": []
          },
          "execution_count": 10
        }
      ]
    },
    {
      "cell_type": "code",
      "metadata": {
        "id": "IL_A_Vkv5zmt"
      },
      "source": [
        "# Use an splitter and load using TabularPandas then to a dataloader\n",
        "\n",
        "# Drop rows with any column N/A, rather than FillMissing\n",
        "#train = train[['timestamp', 'building_id', 'meter_reading', 'meter', 'air_temperature', 'dew_temperature']].dropna()\n",
        "\n",
        "# 2-fold cross-validation. Build 2 models, each with half the year as training data\n",
        "splits1=MaskSplitter(train['timestamp'] >= '2016-07-01')(range_of(train))\n",
        "cat_names = ['building_id', 'meter', 'site_id', 'primary_use']\n",
        "#cont_names = ['timestamp', 'square_feet', 'year_built', 'floor_count', 'air_temperature', 'cloud_coverage', 'dew_temperature', 'precip_depth_1_hr', 'sea_level_pressure', 'wind_direction', 'wind_speed', 'time_diff', 'timestamp_gmt']\n",
        "cont_names = ['square_feet', 'year_built', 'floor_count', 'air_temperature', 'cloud_coverage', 'dew_temperature', 'precip_depth_1_hr', 'sea_level_pressure', 'wind_direction', 'wind_speed']\n",
        "cont_names = ['air_temperature', 'dew_temperature', 'square_feet', 'week_fraction', 'day_fraction']\n",
        "#cont,cat = cont_cat_split(train, 1, dep_var=dep_var)\n",
        "procs = [Categorify, FillMissing, Normalize]\n",
        "to1 = TabularPandas(train, procs=procs,\n",
        "                   cat_names = cat_names,\n",
        "                   cont_names = cont_names, \n",
        "                   y_names='meter_reading',\n",
        "                   splits=splits1)\n",
        "dls1 = to1.dataloaders(bs=1024)"
      ],
      "execution_count": 15,
      "outputs": []
    },
    {
      "cell_type": "markdown",
      "metadata": {
        "id": "pTLrzxiadE_e"
      },
      "source": [
        "Notes on choice of parameters in block above:\n",
        "* Using .dropna() on the input dataset before TabularPandas() is slightly better than using FillMissing.\n",
        "* Normalize doesn't do much.\n",
        "* The hour feature doesn't do much. Change to Owen's continuous minute feature instead.\n",
        "\n",
        "\n"
      ]
    },
    {
      "cell_type": "code",
      "metadata": {
        "id": "NIBKGHdO0lPc",
        "colab": {
          "base_uri": "https://localhost:8080/",
          "height": 379
        },
        "outputId": "aa2bc19d-c9fb-4a75-e6e7-44b4ff2f19cd"
      },
      "source": [
        "dls1.show_batch()"
      ],
      "execution_count": 49,
      "outputs": [
        {
          "output_type": "display_data",
          "data": {
            "text/html": [
              "<table border=\"1\" class=\"dataframe\">\n",
              "  <thead>\n",
              "    <tr style=\"text-align: right;\">\n",
              "      <th></th>\n",
              "      <th>building_id</th>\n",
              "      <th>meter</th>\n",
              "      <th>site_id</th>\n",
              "      <th>primary_use</th>\n",
              "      <th>air_temperature_na</th>\n",
              "      <th>dew_temperature_na</th>\n",
              "      <th>air_temperature</th>\n",
              "      <th>dew_temperature</th>\n",
              "      <th>square_feet</th>\n",
              "      <th>week_fraction</th>\n",
              "      <th>day_fraction</th>\n",
              "      <th>meter_reading</th>\n",
              "    </tr>\n",
              "  </thead>\n",
              "  <tbody>\n",
              "    <tr>\n",
              "      <th>0</th>\n",
              "      <td>1126</td>\n",
              "      <td>2</td>\n",
              "      <td>13</td>\n",
              "      <td>Education</td>\n",
              "      <td>False</td>\n",
              "      <td>False</td>\n",
              "      <td>-7.199218</td>\n",
              "      <td>-11.101562</td>\n",
              "      <td>72332.0</td>\n",
              "      <td>0.779785</td>\n",
              "      <td>0.458252</td>\n",
              "      <td>5619.629883</td>\n",
              "    </tr>\n",
              "    <tr>\n",
              "      <th>1</th>\n",
              "      <td>1126</td>\n",
              "      <td>0</td>\n",
              "      <td>13</td>\n",
              "      <td>Education</td>\n",
              "      <td>False</td>\n",
              "      <td>False</td>\n",
              "      <td>-5.601562</td>\n",
              "      <td>-14.398438</td>\n",
              "      <td>72332.0</td>\n",
              "      <td>0.416748</td>\n",
              "      <td>0.916504</td>\n",
              "      <td>198.054001</td>\n",
              "    </tr>\n",
              "    <tr>\n",
              "      <th>2</th>\n",
              "      <td>1126</td>\n",
              "      <td>0</td>\n",
              "      <td>13</td>\n",
              "      <td>Education</td>\n",
              "      <td>False</td>\n",
              "      <td>False</td>\n",
              "      <td>0.600097</td>\n",
              "      <td>-2.199219</td>\n",
              "      <td>72332.0</td>\n",
              "      <td>0.357178</td>\n",
              "      <td>0.500000</td>\n",
              "      <td>244.798004</td>\n",
              "    </tr>\n",
              "    <tr>\n",
              "      <th>3</th>\n",
              "      <td>1126</td>\n",
              "      <td>2</td>\n",
              "      <td>13</td>\n",
              "      <td>Education</td>\n",
              "      <td>False</td>\n",
              "      <td>False</td>\n",
              "      <td>20.000000</td>\n",
              "      <td>14.398438</td>\n",
              "      <td>72332.0</td>\n",
              "      <td>0.327393</td>\n",
              "      <td>0.291748</td>\n",
              "      <td>771.484009</td>\n",
              "    </tr>\n",
              "    <tr>\n",
              "      <th>4</th>\n",
              "      <td>1126</td>\n",
              "      <td>0</td>\n",
              "      <td>13</td>\n",
              "      <td>Education</td>\n",
              "      <td>False</td>\n",
              "      <td>False</td>\n",
              "      <td>-11.703124</td>\n",
              "      <td>-15.601563</td>\n",
              "      <td>72332.0</td>\n",
              "      <td>0.636719</td>\n",
              "      <td>0.458252</td>\n",
              "      <td>240.845993</td>\n",
              "    </tr>\n",
              "    <tr>\n",
              "      <th>5</th>\n",
              "      <td>1126</td>\n",
              "      <td>0</td>\n",
              "      <td>13</td>\n",
              "      <td>Education</td>\n",
              "      <td>False</td>\n",
              "      <td>False</td>\n",
              "      <td>18.906250</td>\n",
              "      <td>14.398438</td>\n",
              "      <td>72332.0</td>\n",
              "      <td>0.660645</td>\n",
              "      <td>0.625000</td>\n",
              "      <td>250.981995</td>\n",
              "    </tr>\n",
              "    <tr>\n",
              "      <th>6</th>\n",
              "      <td>1126</td>\n",
              "      <td>2</td>\n",
              "      <td>13</td>\n",
              "      <td>Education</td>\n",
              "      <td>False</td>\n",
              "      <td>False</td>\n",
              "      <td>1.099609</td>\n",
              "      <td>-14.398438</td>\n",
              "      <td>72332.0</td>\n",
              "      <td>0.833496</td>\n",
              "      <td>0.833496</td>\n",
              "      <td>3314.449951</td>\n",
              "    </tr>\n",
              "    <tr>\n",
              "      <th>7</th>\n",
              "      <td>1126</td>\n",
              "      <td>2</td>\n",
              "      <td>13</td>\n",
              "      <td>Education</td>\n",
              "      <td>False</td>\n",
              "      <td>False</td>\n",
              "      <td>8.898437</td>\n",
              "      <td>-0.600098</td>\n",
              "      <td>72332.0</td>\n",
              "      <td>0.643066</td>\n",
              "      <td>0.500000</td>\n",
              "      <td>688.476990</td>\n",
              "    </tr>\n",
              "    <tr>\n",
              "      <th>8</th>\n",
              "      <td>1126</td>\n",
              "      <td>0</td>\n",
              "      <td>13</td>\n",
              "      <td>Education</td>\n",
              "      <td>False</td>\n",
              "      <td>False</td>\n",
              "      <td>-0.600098</td>\n",
              "      <td>-2.199219</td>\n",
              "      <td>72332.0</td>\n",
              "      <td>0.488037</td>\n",
              "      <td>0.416748</td>\n",
              "      <td>219.115997</td>\n",
              "    </tr>\n",
              "    <tr>\n",
              "      <th>9</th>\n",
              "      <td>1126</td>\n",
              "      <td>2</td>\n",
              "      <td>13</td>\n",
              "      <td>Education</td>\n",
              "      <td>False</td>\n",
              "      <td>False</td>\n",
              "      <td>15.000000</td>\n",
              "      <td>1.700195</td>\n",
              "      <td>72332.0</td>\n",
              "      <td>0.708496</td>\n",
              "      <td>0.958496</td>\n",
              "      <td>1358.400024</td>\n",
              "    </tr>\n",
              "  </tbody>\n",
              "</table>"
            ],
            "text/plain": [
              "<IPython.core.display.HTML object>"
            ]
          },
          "metadata": {
            "tags": []
          }
        }
      ]
    },
    {
      "cell_type": "code",
      "metadata": {
        "colab": {
          "base_uri": "https://localhost:8080/"
        },
        "id": "P1ySIhVYCGna",
        "outputId": "06b16437-a384-4bc2-8249-c0aabd3fd8ac"
      },
      "source": [
        "if 'train_valid' in locals():\n",
        "  del train_valid\n",
        "del train\n",
        "gc.collect()"
      ],
      "execution_count": null,
      "outputs": [
        {
          "output_type": "execute_result",
          "data": {
            "text/plain": [
              "1044"
            ]
          },
          "metadata": {
            "tags": []
          },
          "execution_count": 14
        }
      ]
    },
    {
      "cell_type": "code",
      "metadata": {
        "id": "NiXgG2eMyxPj",
        "colab": {
          "base_uri": "https://localhost:8080/",
          "height": 204
        },
        "outputId": "45304bfe-aca4-4ed9-94f9-cbafe7c9056c"
      },
      "source": [
        "# Train a tabular model\n",
        "\n",
        "learn = tabular_learner(dls1, metrics=rmse)\n",
        "learn.summary()\n",
        "# Exploring the learning rates\n",
        "#learn.lr_find(stop_div=False)\n",
        "learn.fit_one_cycle(5, lr_max=.001)"
      ],
      "execution_count": 20,
      "outputs": [
        {
          "output_type": "display_data",
          "data": {
            "text/html": [
              ""
            ],
            "text/plain": [
              "<IPython.core.display.HTML object>"
            ]
          },
          "metadata": {
            "tags": []
          }
        },
        {
          "output_type": "display_data",
          "data": {
            "text/html": [
              "<table border=\"1\" class=\"dataframe\">\n",
              "  <thead>\n",
              "    <tr style=\"text-align: left;\">\n",
              "      <th>epoch</th>\n",
              "      <th>train_loss</th>\n",
              "      <th>valid_loss</th>\n",
              "      <th>_rmse</th>\n",
              "      <th>time</th>\n",
              "    </tr>\n",
              "  </thead>\n",
              "  <tbody>\n",
              "    <tr>\n",
              "      <td>0</td>\n",
              "      <td>6606906.000000</td>\n",
              "      <td>6312083.000000</td>\n",
              "      <td>2512.386719</td>\n",
              "      <td>00:53</td>\n",
              "    </tr>\n",
              "    <tr>\n",
              "      <td>1</td>\n",
              "      <td>2111558.000000</td>\n",
              "      <td>4070248.000000</td>\n",
              "      <td>2017.484985</td>\n",
              "      <td>00:53</td>\n",
              "    </tr>\n",
              "    <tr>\n",
              "      <td>2</td>\n",
              "      <td>1479085.250000</td>\n",
              "      <td>3509574.250000</td>\n",
              "      <td>1873.386719</td>\n",
              "      <td>00:52</td>\n",
              "    </tr>\n",
              "    <tr>\n",
              "      <td>3</td>\n",
              "      <td>1343117.000000</td>\n",
              "      <td>2945261.000000</td>\n",
              "      <td>1716.176270</td>\n",
              "      <td>00:54</td>\n",
              "    </tr>\n",
              "    <tr>\n",
              "      <td>4</td>\n",
              "      <td>1183140.750000</td>\n",
              "      <td>3803080.000000</td>\n",
              "      <td>1950.146973</td>\n",
              "      <td>00:52</td>\n",
              "    </tr>\n",
              "  </tbody>\n",
              "</table>"
            ],
            "text/plain": [
              "<IPython.core.display.HTML object>"
            ]
          },
          "metadata": {
            "tags": []
          }
        }
      ]
    },
    {
      "cell_type": "code",
      "metadata": {
        "colab": {
          "base_uri": "https://localhost:8080/",
          "height": 419
        },
        "id": "0Kz0hdCxycl6",
        "outputId": "ee9f2051-20ce-4b79-fe82-8d82594fd919"
      },
      "source": [
        "building=2\n",
        "meter=2\n",
        "valid_xs[(valid_xs['building_id']==building) & (valid_xs['meter']==meter)]"
      ],
      "execution_count": 21,
      "outputs": [
        {
          "output_type": "execute_result",
          "data": {
            "text/html": [
              "<div>\n",
              "<style scoped>\n",
              "    .dataframe tbody tr th:only-of-type {\n",
              "        vertical-align: middle;\n",
              "    }\n",
              "\n",
              "    .dataframe tbody tr th {\n",
              "        vertical-align: top;\n",
              "    }\n",
              "\n",
              "    .dataframe thead th {\n",
              "        text-align: right;\n",
              "    }\n",
              "</style>\n",
              "<table border=\"1\" class=\"dataframe\">\n",
              "  <thead>\n",
              "    <tr style=\"text-align: right;\">\n",
              "      <th></th>\n",
              "      <th>building_id</th>\n",
              "      <th>meter</th>\n",
              "      <th>site_id</th>\n",
              "      <th>primary_use</th>\n",
              "      <th>...</th>\n",
              "      <th>dew_temperature</th>\n",
              "      <th>square_feet</th>\n",
              "      <th>week_fraction</th>\n",
              "      <th>day_fraction</th>\n",
              "    </tr>\n",
              "  </thead>\n",
              "  <tbody>\n",
              "    <tr>\n",
              "      <th>14519188</th>\n",
              "      <td>2</td>\n",
              "      <td>2</td>\n",
              "      <td>1</td>\n",
              "      <td>7</td>\n",
              "      <td>...</td>\n",
              "      <td>0.942591</td>\n",
              "      <td>-0.241339</td>\n",
              "      <td>0.260146</td>\n",
              "      <td>-1.668599</td>\n",
              "    </tr>\n",
              "    <tr>\n",
              "      <th>14519495</th>\n",
              "      <td>2</td>\n",
              "      <td>2</td>\n",
              "      <td>1</td>\n",
              "      <td>7</td>\n",
              "      <td>...</td>\n",
              "      <td>0.993086</td>\n",
              "      <td>-0.241339</td>\n",
              "      <td>0.280493</td>\n",
              "      <td>-1.523932</td>\n",
              "    </tr>\n",
              "    <tr>\n",
              "      <th>14519802</th>\n",
              "      <td>2</td>\n",
              "      <td>2</td>\n",
              "      <td>1</td>\n",
              "      <td>7</td>\n",
              "      <td>...</td>\n",
              "      <td>0.770595</td>\n",
              "      <td>-0.241339</td>\n",
              "      <td>0.302535</td>\n",
              "      <td>-1.379266</td>\n",
              "    </tr>\n",
              "    <tr>\n",
              "      <th>14520109</th>\n",
              "      <td>2</td>\n",
              "      <td>2</td>\n",
              "      <td>1</td>\n",
              "      <td>7</td>\n",
              "      <td>...</td>\n",
              "      <td>0.881840</td>\n",
              "      <td>-0.241339</td>\n",
              "      <td>0.322882</td>\n",
              "      <td>-1.234494</td>\n",
              "    </tr>\n",
              "    <tr>\n",
              "      <th>14520416</th>\n",
              "      <td>2</td>\n",
              "      <td>2</td>\n",
              "      <td>1</td>\n",
              "      <td>7</td>\n",
              "      <td>...</td>\n",
              "      <td>0.993086</td>\n",
              "      <td>-0.241339</td>\n",
              "      <td>0.343228</td>\n",
              "      <td>-1.089933</td>\n",
              "    </tr>\n",
              "    <tr>\n",
              "      <th>...</th>\n",
              "      <td>...</td>\n",
              "      <td>...</td>\n",
              "      <td>...</td>\n",
              "      <td>...</td>\n",
              "      <td>...</td>\n",
              "      <td>...</td>\n",
              "      <td>...</td>\n",
              "      <td>...</td>\n",
              "      <td>...</td>\n",
              "    </tr>\n",
              "    <tr>\n",
              "      <th>15880707</th>\n",
              "      <td>2</td>\n",
              "      <td>2</td>\n",
              "      <td>1</td>\n",
              "      <td>7</td>\n",
              "      <td>...</td>\n",
              "      <td>-1.137935</td>\n",
              "      <td>-0.241339</td>\n",
              "      <td>1.148616</td>\n",
              "      <td>1.080166</td>\n",
              "    </tr>\n",
              "    <tr>\n",
              "      <th>15881016</th>\n",
              "      <td>2</td>\n",
              "      <td>2</td>\n",
              "      <td>1</td>\n",
              "      <td>7</td>\n",
              "      <td>...</td>\n",
              "      <td>-1.198686</td>\n",
              "      <td>-0.241339</td>\n",
              "      <td>1.170658</td>\n",
              "      <td>1.225998</td>\n",
              "    </tr>\n",
              "    <tr>\n",
              "      <th>15881325</th>\n",
              "      <td>2</td>\n",
              "      <td>2</td>\n",
              "      <td>1</td>\n",
              "      <td>7</td>\n",
              "      <td>...</td>\n",
              "      <td>-1.309932</td>\n",
              "      <td>-0.241339</td>\n",
              "      <td>1.191005</td>\n",
              "      <td>1.370135</td>\n",
              "    </tr>\n",
              "    <tr>\n",
              "      <th>15881634</th>\n",
              "      <td>2</td>\n",
              "      <td>2</td>\n",
              "      <td>1</td>\n",
              "      <td>7</td>\n",
              "      <td>...</td>\n",
              "      <td>-1.309932</td>\n",
              "      <td>-0.241339</td>\n",
              "      <td>1.211352</td>\n",
              "      <td>1.514271</td>\n",
              "    </tr>\n",
              "    <tr>\n",
              "      <th>15881943</th>\n",
              "      <td>2</td>\n",
              "      <td>2</td>\n",
              "      <td>1</td>\n",
              "      <td>7</td>\n",
              "      <td>...</td>\n",
              "      <td>-1.249181</td>\n",
              "      <td>-0.241339</td>\n",
              "      <td>1.231698</td>\n",
              "      <td>1.660103</td>\n",
              "    </tr>\n",
              "  </tbody>\n",
              "</table>\n",
              "<p>4415 rows × 11 columns</p>\n",
              "</div>"
            ],
            "text/plain": [
              "          building_id  meter  site_id  primary_use  ...  dew_temperature  \\\n",
              "14519188            2      2        1            7  ...         0.942591   \n",
              "14519495            2      2        1            7  ...         0.993086   \n",
              "14519802            2      2        1            7  ...         0.770595   \n",
              "14520109            2      2        1            7  ...         0.881840   \n",
              "14520416            2      2        1            7  ...         0.993086   \n",
              "...               ...    ...      ...          ...  ...              ...   \n",
              "15880707            2      2        1            7  ...        -1.137935   \n",
              "15881016            2      2        1            7  ...        -1.198686   \n",
              "15881325            2      2        1            7  ...        -1.309932   \n",
              "15881634            2      2        1            7  ...        -1.309932   \n",
              "15881943            2      2        1            7  ...        -1.249181   \n",
              "\n",
              "          square_feet  week_fraction  day_fraction  \n",
              "14519188    -0.241339       0.260146     -1.668599  \n",
              "14519495    -0.241339       0.280493     -1.523932  \n",
              "14519802    -0.241339       0.302535     -1.379266  \n",
              "14520109    -0.241339       0.322882     -1.234494  \n",
              "14520416    -0.241339       0.343228     -1.089933  \n",
              "...               ...            ...           ...  \n",
              "15880707    -0.241339       1.148616      1.080166  \n",
              "15881016    -0.241339       1.170658      1.225998  \n",
              "15881325    -0.241339       1.191005      1.370135  \n",
              "15881634    -0.241339       1.211352      1.514271  \n",
              "15881943    -0.241339       1.231698      1.660103  \n",
              "\n",
              "[4415 rows x 11 columns]"
            ]
          },
          "metadata": {
            "tags": []
          },
          "execution_count": 21
        }
      ]
    },
    {
      "cell_type": "code",
      "metadata": {
        "colab": {
          "base_uri": "https://localhost:8080/",
          "height": 647
        },
        "id": "uLhHJg7D-s9w",
        "outputId": "da5199d2-53d2-4872-e2b9-d2209a9c462f"
      },
      "source": [
        "learn.show_results()\n",
        "from sklearn.metrics import mean_squared_log_error\n",
        "\n",
        "xs,y = to1.train.xs,to1.train.y\n",
        "valid_xs,valid_y = to1.valid.xs,to1.valid.y\n",
        "\n",
        "y_pred,y_targs = learn.get_preds(ds_idx=0)\n",
        "valid_y_pred,valid_y_targs = learn.get_preds()\n",
        "\n",
        "# Set negative values to 0 because the RMSLE metric can't handle negatives\n",
        "y_pred[y_pred<0]=0\n",
        "valid_y_pred[valid_y_pred<0]=0\n",
        "print(\"Training set RMSLE: \" + str(np.sqrt(mean_squared_log_error(y_pred.detach().numpy(), y))))\n",
        "print(\"Validation set RMSLE: \" + str(np.sqrt(mean_squared_log_error(valid_y_pred.detach().numpy(), valid_y))))\n",
        "\n",
        "building=2\n",
        "meter=2\n",
        "plt.scatter(valid_xs[(valid_xs['building_id']==building) & (valid_xs['meter']==meter)]['air_temperature'], valid_y.loc[valid_xs[(valid_xs['building_id']==building) & (valid_xs['meter']==meter)].index])\n",
        "plt.scatter(valid_xs[(valid_xs['building_id']==building) & (valid_xs['meter']==meter)]['air_temperature'], pd.DataFrame(valid_y_pred, index=valid_y.index).loc[valid_xs[(valid_xs['building_id']==building) & (valid_xs['meter']==meter)].index], color='orange')"
      ],
      "execution_count": 22,
      "outputs": [
        {
          "output_type": "display_data",
          "data": {
            "text/html": [
              ""
            ],
            "text/plain": [
              "<IPython.core.display.HTML object>"
            ]
          },
          "metadata": {
            "tags": []
          }
        },
        {
          "output_type": "display_data",
          "data": {
            "text/html": [
              "<table border=\"1\" class=\"dataframe\">\n",
              "  <thead>\n",
              "    <tr style=\"text-align: right;\">\n",
              "      <th></th>\n",
              "      <th>building_id</th>\n",
              "      <th>meter</th>\n",
              "      <th>site_id</th>\n",
              "      <th>primary_use</th>\n",
              "      <th>air_temperature_na</th>\n",
              "      <th>dew_temperature_na</th>\n",
              "      <th>air_temperature</th>\n",
              "      <th>dew_temperature</th>\n",
              "      <th>square_feet</th>\n",
              "      <th>week_fraction</th>\n",
              "      <th>day_fraction</th>\n",
              "      <th>meter_reading</th>\n",
              "      <th>meter_reading_pred</th>\n",
              "    </tr>\n",
              "  </thead>\n",
              "  <tbody>\n",
              "    <tr>\n",
              "      <th>0</th>\n",
              "      <td>30.0</td>\n",
              "      <td>3.0</td>\n",
              "      <td>1.0</td>\n",
              "      <td>15.0</td>\n",
              "      <td>1.0</td>\n",
              "      <td>1.0</td>\n",
              "      <td>1.414860</td>\n",
              "      <td>1.891728</td>\n",
              "      <td>-0.860350</td>\n",
              "      <td>-0.463007</td>\n",
              "      <td>0.211957</td>\n",
              "      <td>0.000000</td>\n",
              "      <td>17.956135</td>\n",
              "    </tr>\n",
              "    <tr>\n",
              "      <th>1</th>\n",
              "      <td>121.0</td>\n",
              "      <td>4.0</td>\n",
              "      <td>2.0</td>\n",
              "      <td>7.0</td>\n",
              "      <td>1.0</td>\n",
              "      <td>1.0</td>\n",
              "      <td>0.387676</td>\n",
              "      <td>0.993086</td>\n",
              "      <td>-0.576016</td>\n",
              "      <td>1.501291</td>\n",
              "      <td>0.067820</td>\n",
              "      <td>0.000000</td>\n",
              "      <td>42.141315</td>\n",
              "    </tr>\n",
              "    <tr>\n",
              "      <th>2</th>\n",
              "      <td>99.0</td>\n",
              "      <td>2.0</td>\n",
              "      <td>2.0</td>\n",
              "      <td>7.0</td>\n",
              "      <td>1.0</td>\n",
              "      <td>1.0</td>\n",
              "      <td>1.414860</td>\n",
              "      <td>2.063725</td>\n",
              "      <td>-0.820139</td>\n",
              "      <td>0.302535</td>\n",
              "      <td>-1.379266</td>\n",
              "      <td>253.020996</td>\n",
              "      <td>292.061462</td>\n",
              "    </tr>\n",
              "    <tr>\n",
              "      <th>3</th>\n",
              "      <td>127.0</td>\n",
              "      <td>1.0</td>\n",
              "      <td>2.0</td>\n",
              "      <td>1.0</td>\n",
              "      <td>1.0</td>\n",
              "      <td>1.0</td>\n",
              "      <td>0.647000</td>\n",
              "      <td>1.104331</td>\n",
              "      <td>0.023445</td>\n",
              "      <td>0.280493</td>\n",
              "      <td>-1.523932</td>\n",
              "      <td>474.000000</td>\n",
              "      <td>462.790527</td>\n",
              "    </tr>\n",
              "    <tr>\n",
              "      <th>4</th>\n",
              "      <td>178.0</td>\n",
              "      <td>3.0</td>\n",
              "      <td>2.0</td>\n",
              "      <td>4.0</td>\n",
              "      <td>1.0</td>\n",
              "      <td>1.0</td>\n",
              "      <td>0.535758</td>\n",
              "      <td>1.214788</td>\n",
              "      <td>0.785033</td>\n",
              "      <td>1.438556</td>\n",
              "      <td>-0.366284</td>\n",
              "      <td>2345.879883</td>\n",
              "      <td>471.683105</td>\n",
              "    </tr>\n",
              "    <tr>\n",
              "      <th>5</th>\n",
              "      <td>262.0</td>\n",
              "      <td>3.0</td>\n",
              "      <td>3.0</td>\n",
              "      <td>7.0</td>\n",
              "      <td>1.0</td>\n",
              "      <td>1.0</td>\n",
              "      <td>0.591379</td>\n",
              "      <td>1.053837</td>\n",
              "      <td>0.667190</td>\n",
              "      <td>1.004494</td>\n",
              "      <td>0.067820</td>\n",
              "      <td>583.849976</td>\n",
              "      <td>579.781677</td>\n",
              "    </tr>\n",
              "    <tr>\n",
              "      <th>6</th>\n",
              "      <td>199.0</td>\n",
              "      <td>4.0</td>\n",
              "      <td>2.0</td>\n",
              "      <td>2.0</td>\n",
              "      <td>1.0</td>\n",
              "      <td>1.0</td>\n",
              "      <td>1.719692</td>\n",
              "      <td>1.831766</td>\n",
              "      <td>-0.263555</td>\n",
              "      <td>0.817983</td>\n",
              "      <td>-1.234494</td>\n",
              "      <td>19.148701</td>\n",
              "      <td>-12.569182</td>\n",
              "    </tr>\n",
              "    <tr>\n",
              "      <th>7</th>\n",
              "      <td>84.0</td>\n",
              "      <td>1.0</td>\n",
              "      <td>1.0</td>\n",
              "      <td>4.0</td>\n",
              "      <td>1.0</td>\n",
              "      <td>1.0</td>\n",
              "      <td>-0.851021</td>\n",
              "      <td>-0.693743</td>\n",
              "      <td>0.019253</td>\n",
              "      <td>0.075331</td>\n",
              "      <td>0.501925</td>\n",
              "      <td>280.654999</td>\n",
              "      <td>266.488983</td>\n",
              "    </tr>\n",
              "    <tr>\n",
              "      <th>8</th>\n",
              "      <td>49.0</td>\n",
              "      <td>1.0</td>\n",
              "      <td>1.0</td>\n",
              "      <td>8.0</td>\n",
              "      <td>1.0</td>\n",
              "      <td>1.0</td>\n",
              "      <td>1.257388</td>\n",
              "      <td>1.951690</td>\n",
              "      <td>-0.782247</td>\n",
              "      <td>-0.938186</td>\n",
              "      <td>0.357789</td>\n",
              "      <td>12.385000</td>\n",
              "      <td>72.112175</td>\n",
              "    </tr>\n",
              "  </tbody>\n",
              "</table>"
            ],
            "text/plain": [
              "<IPython.core.display.HTML object>"
            ]
          },
          "metadata": {
            "tags": []
          }
        },
        {
          "output_type": "display_data",
          "data": {
            "text/html": [
              ""
            ],
            "text/plain": [
              "<IPython.core.display.HTML object>"
            ]
          },
          "metadata": {
            "tags": []
          }
        },
        {
          "output_type": "display_data",
          "data": {
            "text/html": [
              ""
            ],
            "text/plain": [
              "<IPython.core.display.HTML object>"
            ]
          },
          "metadata": {
            "tags": []
          }
        },
        {
          "output_type": "stream",
          "text": [
            "Training set RMSLE: 1.7256423\n",
            "Validation set RMSLE: 1.9200937\n"
          ],
          "name": "stdout"
        },
        {
          "output_type": "execute_result",
          "data": {
            "text/plain": [
              "<matplotlib.collections.PathCollection at 0x7f1fc056a850>"
            ]
          },
          "metadata": {
            "tags": []
          },
          "execution_count": 22
        },
        {
          "output_type": "display_data",
          "data": {
            "image/png": "[encoded data removed]",
            "text/plain": [
              "<Figure size 432x288 with 1 Axes>"
            ]
          },
          "metadata": {
            "tags": [],
            "needs_background": "light"
          }
        }
      ]
    },
    {
      "cell_type": "code",
      "metadata": {
        "id": "n6QFLMJpiGYd"
      },
      "source": [
        "# Train a fast.ai decision tree\n",
        "xs,y = to1.train.xs,to1.train.y\n",
        "valid_xs,valid_y = to1.valid.xs,to1.valid.y\n",
        "m = DecisionTreeRegressor(min_samples_leaf=10000)\n",
        "m.fit(xs, y);"
      ],
      "execution_count": 19,
      "outputs": []
    },
    {
      "cell_type": "code",
      "metadata": {
        "id": "oakx0hmdiSof",
        "colab": {
          "base_uri": "https://localhost:8080/",
          "height": 514
        },
        "outputId": "0afb3717-806a-4cfc-c6c1-617e7a7c161d"
      },
      "source": [
        "samp_idx = np.random.permutation(len(y))[:500]\n",
        "dtreeviz(m, xs, y, xs.columns, 'meter_reading',\n",
        "        fontname='DejaVu Sans', scale=1.6, label_fontsize=10,\n",
        "        orientation='LR')\n",
        "#dtreeviz(m, xs.iloc[samp_idx], y.iloc[samp_idx], xs.columns, 'meter_reading',\n",
        "#        fontname='DejaVu Sans', scale=1.6, label_fontsize=10,\n",
        "#        orientation='LR')"
      ],
      "execution_count": null,
      "outputs": [
        {
          "output_type": "error",
          "ename": "KeyboardInterrupt",
          "evalue": "ignored",
          "traceback": [
            "\u001b[0;31m---------------------------------------------------------------------------\u001b[0m",
            "\u001b[0;31mKeyboardInterrupt\u001b[0m                         Traceback (most recent call last)",
            "\u001b[0;32m<ipython-input-31-2089e904fe13>\u001b[0m in \u001b[0;36m<module>\u001b[0;34m()\u001b[0m\n\u001b[1;32m      2\u001b[0m dtreeviz(m, xs, y, xs.columns, 'meter_reading',\n\u001b[1;32m      3\u001b[0m         \u001b[0mfontname\u001b[0m\u001b[0;34m=\u001b[0m\u001b[0;34m'DejaVu Sans'\u001b[0m\u001b[0;34m,\u001b[0m \u001b[0mscale\u001b[0m\u001b[0;34m=\u001b[0m\u001b[0;36m1.6\u001b[0m\u001b[0;34m,\u001b[0m \u001b[0mlabel_fontsize\u001b[0m\u001b[0;34m=\u001b[0m\u001b[0;36m10\u001b[0m\u001b[0;34m,\u001b[0m\u001b[0;34m\u001b[0m\u001b[0;34m\u001b[0m\u001b[0m\n\u001b[0;32m----> 4\u001b[0;31m         orientation='LR')\n\u001b[0m\u001b[1;32m      5\u001b[0m \u001b[0;31m#dtreeviz(m, xs.iloc[samp_idx], y.iloc[samp_idx], xs.columns, 'meter_reading',\u001b[0m\u001b[0;34m\u001b[0m\u001b[0;34m\u001b[0m\u001b[0;34m\u001b[0m\u001b[0m\n\u001b[1;32m      6\u001b[0m \u001b[0;31m#        fontname='DejaVu Sans', scale=1.6, label_fontsize=10,\u001b[0m\u001b[0;34m\u001b[0m\u001b[0;34m\u001b[0m\u001b[0;34m\u001b[0m\u001b[0m\n",
            "\u001b[0;32m/usr/local/lib/python3.7/dist-packages/dtreeviz/trees.py\u001b[0m in \u001b[0;36mdtreeviz\u001b[0;34m(tree_model, x_data, y_data, feature_names, target_name, class_names, tree_index, precision, orientation, instance_orientation, show_root_edge_labels, show_node_labels, show_just_path, fancy, histtype, highlight_path, X, max_X_features_LR, max_X_features_TD, label_fontsize, ticks_fontsize, fontname, title, title_fontsize, colors, scale)\u001b[0m\n\u001b[1;32m    817\u001b[0m                                \u001b[0mfontname\u001b[0m\u001b[0;34m=\u001b[0m\u001b[0mfontname\u001b[0m\u001b[0;34m,\u001b[0m\u001b[0;34m\u001b[0m\u001b[0;34m\u001b[0m\u001b[0m\n\u001b[1;32m    818\u001b[0m                                \u001b[0mhighlight_node\u001b[0m\u001b[0;34m=\u001b[0m\u001b[0mnode\u001b[0m\u001b[0;34m.\u001b[0m\u001b[0mid\u001b[0m \u001b[0;32min\u001b[0m \u001b[0mhighlight_path\u001b[0m\u001b[0;34m,\u001b[0m\u001b[0;34m\u001b[0m\u001b[0;34m\u001b[0m\u001b[0m\n\u001b[0;32m--> 819\u001b[0;31m                                colors=colors)\n\u001b[0m\u001b[1;32m    820\u001b[0m \u001b[0;34m\u001b[0m\u001b[0m\n\u001b[1;32m    821\u001b[0m         \u001b[0mnname\u001b[0m \u001b[0;34m=\u001b[0m \u001b[0mnode_name\u001b[0m\u001b[0;34m(\u001b[0m\u001b[0mnode\u001b[0m\u001b[0;34m)\u001b[0m\u001b[0;34m\u001b[0m\u001b[0;34m\u001b[0m\u001b[0m\n",
            "\u001b[0;32m/usr/local/lib/python3.7/dist-packages/dtreeviz/trees.py\u001b[0m in \u001b[0;36mregr_split_viz\u001b[0;34m(node, X_train, y_train, target_name, filename, y_range, ticks_fontsize, label_fontsize, fontname, precision, X, highlight_node, colors)\u001b[0m\n\u001b[1;32m   1123\u001b[0m     \u001b[0;31m# Get X, y data for all samples associated with this node.\u001b[0m\u001b[0;34m\u001b[0m\u001b[0;34m\u001b[0m\u001b[0;34m\u001b[0m\u001b[0m\n\u001b[1;32m   1124\u001b[0m     \u001b[0mX_feature\u001b[0m \u001b[0;34m=\u001b[0m \u001b[0mX_train\u001b[0m\u001b[0;34m[\u001b[0m\u001b[0;34m:\u001b[0m\u001b[0;34m,\u001b[0m \u001b[0mnode\u001b[0m\u001b[0;34m.\u001b[0m\u001b[0mfeature\u001b[0m\u001b[0;34m(\u001b[0m\u001b[0;34m)\u001b[0m\u001b[0;34m]\u001b[0m\u001b[0;34m\u001b[0m\u001b[0;34m\u001b[0m\u001b[0m\n\u001b[0;32m-> 1125\u001b[0;31m     \u001b[0mX_feature\u001b[0m\u001b[0;34m,\u001b[0m \u001b[0my_train\u001b[0m \u001b[0;34m=\u001b[0m \u001b[0mX_feature\u001b[0m\u001b[0;34m[\u001b[0m\u001b[0mnode\u001b[0m\u001b[0;34m.\u001b[0m\u001b[0msamples\u001b[0m\u001b[0;34m(\u001b[0m\u001b[0;34m)\u001b[0m\u001b[0;34m]\u001b[0m\u001b[0;34m,\u001b[0m \u001b[0my_train\u001b[0m\u001b[0;34m[\u001b[0m\u001b[0mnode\u001b[0m\u001b[0;34m.\u001b[0m\u001b[0msamples\u001b[0m\u001b[0;34m(\u001b[0m\u001b[0;34m)\u001b[0m\u001b[0;34m]\u001b[0m\u001b[0;34m\u001b[0m\u001b[0;34m\u001b[0m\u001b[0m\n\u001b[0m\u001b[1;32m   1126\u001b[0m \u001b[0;34m\u001b[0m\u001b[0m\n\u001b[1;32m   1127\u001b[0m     \u001b[0moverall_feature_range\u001b[0m \u001b[0;34m=\u001b[0m \u001b[0;34m(\u001b[0m\u001b[0mnp\u001b[0m\u001b[0;34m.\u001b[0m\u001b[0mmin\u001b[0m\u001b[0;34m(\u001b[0m\u001b[0mX_train\u001b[0m\u001b[0;34m[\u001b[0m\u001b[0;34m:\u001b[0m\u001b[0;34m,\u001b[0m \u001b[0mnode\u001b[0m\u001b[0;34m.\u001b[0m\u001b[0mfeature\u001b[0m\u001b[0;34m(\u001b[0m\u001b[0;34m)\u001b[0m\u001b[0;34m]\u001b[0m\u001b[0;34m)\u001b[0m\u001b[0;34m,\u001b[0m \u001b[0mnp\u001b[0m\u001b[0;34m.\u001b[0m\u001b[0mmax\u001b[0m\u001b[0;34m(\u001b[0m\u001b[0mX_train\u001b[0m\u001b[0;34m[\u001b[0m\u001b[0;34m:\u001b[0m\u001b[0;34m,\u001b[0m \u001b[0mnode\u001b[0m\u001b[0;34m.\u001b[0m\u001b[0mfeature\u001b[0m\u001b[0;34m(\u001b[0m\u001b[0;34m)\u001b[0m\u001b[0;34m]\u001b[0m\u001b[0;34m)\u001b[0m\u001b[0;34m)\u001b[0m\u001b[0;34m\u001b[0m\u001b[0;34m\u001b[0m\u001b[0m\n",
            "\u001b[0;32m/usr/local/lib/python3.7/dist-packages/dtreeviz/models/shadow_decision_tree.py\u001b[0m in \u001b[0;36msamples\u001b[0;34m(self)\u001b[0m\n\u001b[1;32m    517\u001b[0m         \u001b[0;34m\"\"\"Returns samples indexes from this node\"\"\"\u001b[0m\u001b[0;34m\u001b[0m\u001b[0;34m\u001b[0m\u001b[0m\n\u001b[1;32m    518\u001b[0m \u001b[0;34m\u001b[0m\u001b[0m\n\u001b[0;32m--> 519\u001b[0;31m         \u001b[0;32mreturn\u001b[0m \u001b[0mself\u001b[0m\u001b[0;34m.\u001b[0m\u001b[0mshadow_tree\u001b[0m\u001b[0;34m.\u001b[0m\u001b[0mget_node_samples\u001b[0m\u001b[0;34m(\u001b[0m\u001b[0;34m)\u001b[0m\u001b[0;34m[\u001b[0m\u001b[0mself\u001b[0m\u001b[0;34m.\u001b[0m\u001b[0mid\u001b[0m\u001b[0;34m]\u001b[0m\u001b[0;34m\u001b[0m\u001b[0;34m\u001b[0m\u001b[0m\n\u001b[0m\u001b[1;32m    520\u001b[0m \u001b[0;34m\u001b[0m\u001b[0m\n\u001b[1;32m    521\u001b[0m     \u001b[0;32mdef\u001b[0m \u001b[0mnsamples\u001b[0m\u001b[0;34m(\u001b[0m\u001b[0mself\u001b[0m\u001b[0;34m)\u001b[0m \u001b[0;34m->\u001b[0m \u001b[0mint\u001b[0m\u001b[0;34m:\u001b[0m\u001b[0;34m\u001b[0m\u001b[0;34m\u001b[0m\u001b[0m\n",
            "\u001b[0;32m/usr/local/lib/python3.7/dist-packages/dtreeviz/models/sklearn_decision_trees.py\u001b[0m in \u001b[0;36mget_node_samples\u001b[0;34m(self)\u001b[0m\n\u001b[1;32m     57\u001b[0m         \u001b[0;31m# each sample has path taken down tree\u001b[0m\u001b[0;34m\u001b[0m\u001b[0;34m\u001b[0m\u001b[0;34m\u001b[0m\u001b[0m\n\u001b[1;32m     58\u001b[0m         \u001b[0mnode_to_samples\u001b[0m \u001b[0;34m=\u001b[0m \u001b[0mdefaultdict\u001b[0m\u001b[0;34m(\u001b[0m\u001b[0mlist\u001b[0m\u001b[0;34m)\u001b[0m\u001b[0;34m\u001b[0m\u001b[0;34m\u001b[0m\u001b[0m\n\u001b[0;32m---> 59\u001b[0;31m         \u001b[0;32mfor\u001b[0m \u001b[0msample_i\u001b[0m\u001b[0;34m,\u001b[0m \u001b[0mdec\u001b[0m \u001b[0;32min\u001b[0m \u001b[0menumerate\u001b[0m\u001b[0;34m(\u001b[0m\u001b[0mdec_paths\u001b[0m\u001b[0;34m)\u001b[0m\u001b[0;34m:\u001b[0m\u001b[0;34m\u001b[0m\u001b[0;34m\u001b[0m\u001b[0m\n\u001b[0m\u001b[1;32m     60\u001b[0m             \u001b[0m_\u001b[0m\u001b[0;34m,\u001b[0m \u001b[0mnz_nodes\u001b[0m \u001b[0;34m=\u001b[0m \u001b[0mdec\u001b[0m\u001b[0;34m.\u001b[0m\u001b[0mnonzero\u001b[0m\u001b[0;34m(\u001b[0m\u001b[0;34m)\u001b[0m\u001b[0;34m\u001b[0m\u001b[0;34m\u001b[0m\u001b[0m\n\u001b[1;32m     61\u001b[0m             \u001b[0;32mfor\u001b[0m \u001b[0mnode_id\u001b[0m \u001b[0;32min\u001b[0m \u001b[0mnz_nodes\u001b[0m\u001b[0;34m:\u001b[0m\u001b[0;34m\u001b[0m\u001b[0;34m\u001b[0m\u001b[0m\n",
            "\u001b[0;32m/usr/local/lib/python3.7/dist-packages/scipy/sparse/csr.py\u001b[0m in \u001b[0;36m__iter__\u001b[0;34m(self)\u001b[0m\n\u001b[1;32m    239\u001b[0m             \u001b[0mindices\u001b[0m \u001b[0;34m=\u001b[0m \u001b[0mself\u001b[0m\u001b[0;34m.\u001b[0m\u001b[0mindices\u001b[0m\u001b[0;34m[\u001b[0m\u001b[0mi0\u001b[0m\u001b[0;34m:\u001b[0m\u001b[0mi1\u001b[0m\u001b[0;34m]\u001b[0m\u001b[0;34m\u001b[0m\u001b[0;34m\u001b[0m\u001b[0m\n\u001b[1;32m    240\u001b[0m             \u001b[0mdata\u001b[0m \u001b[0;34m=\u001b[0m \u001b[0mself\u001b[0m\u001b[0;34m.\u001b[0m\u001b[0mdata\u001b[0m\u001b[0;34m[\u001b[0m\u001b[0mi0\u001b[0m\u001b[0;34m:\u001b[0m\u001b[0mi1\u001b[0m\u001b[0;34m]\u001b[0m\u001b[0;34m\u001b[0m\u001b[0;34m\u001b[0m\u001b[0m\n\u001b[0;32m--> 241\u001b[0;31m             \u001b[0;32myield\u001b[0m \u001b[0mcsr_matrix\u001b[0m\u001b[0;34m(\u001b[0m\u001b[0;34m(\u001b[0m\u001b[0mdata\u001b[0m\u001b[0;34m,\u001b[0m \u001b[0mindices\u001b[0m\u001b[0;34m,\u001b[0m \u001b[0mindptr\u001b[0m\u001b[0;34m)\u001b[0m\u001b[0;34m,\u001b[0m \u001b[0mshape\u001b[0m\u001b[0;34m=\u001b[0m\u001b[0mshape\u001b[0m\u001b[0;34m,\u001b[0m \u001b[0mcopy\u001b[0m\u001b[0;34m=\u001b[0m\u001b[0;32mTrue\u001b[0m\u001b[0;34m)\u001b[0m\u001b[0;34m\u001b[0m\u001b[0;34m\u001b[0m\u001b[0m\n\u001b[0m\u001b[1;32m    242\u001b[0m             \u001b[0mi0\u001b[0m \u001b[0;34m=\u001b[0m \u001b[0mi1\u001b[0m\u001b[0;34m\u001b[0m\u001b[0;34m\u001b[0m\u001b[0m\n\u001b[1;32m    243\u001b[0m \u001b[0;34m\u001b[0m\u001b[0m\n",
            "\u001b[0;32m/usr/local/lib/python3.7/dist-packages/scipy/sparse/compressed.py\u001b[0m in \u001b[0;36m__init__\u001b[0;34m(self, arg1, shape, dtype, copy)\u001b[0m\n\u001b[1;32m    106\u001b[0m             \u001b[0mself\u001b[0m\u001b[0;34m.\u001b[0m\u001b[0mdata\u001b[0m \u001b[0;34m=\u001b[0m \u001b[0mnp\u001b[0m\u001b[0;34m.\u001b[0m\u001b[0masarray\u001b[0m\u001b[0;34m(\u001b[0m\u001b[0mself\u001b[0m\u001b[0;34m.\u001b[0m\u001b[0mdata\u001b[0m\u001b[0;34m,\u001b[0m \u001b[0mdtype\u001b[0m\u001b[0;34m=\u001b[0m\u001b[0mdtype\u001b[0m\u001b[0;34m)\u001b[0m\u001b[0;34m\u001b[0m\u001b[0;34m\u001b[0m\u001b[0m\n\u001b[1;32m    107\u001b[0m \u001b[0;34m\u001b[0m\u001b[0m\n\u001b[0;32m--> 108\u001b[0;31m         \u001b[0mself\u001b[0m\u001b[0;34m.\u001b[0m\u001b[0mcheck_format\u001b[0m\u001b[0;34m(\u001b[0m\u001b[0mfull_check\u001b[0m\u001b[0;34m=\u001b[0m\u001b[0;32mFalse\u001b[0m\u001b[0;34m)\u001b[0m\u001b[0;34m\u001b[0m\u001b[0;34m\u001b[0m\u001b[0m\n\u001b[0m\u001b[1;32m    109\u001b[0m \u001b[0;34m\u001b[0m\u001b[0m\n\u001b[1;32m    110\u001b[0m     \u001b[0;32mdef\u001b[0m \u001b[0mgetnnz\u001b[0m\u001b[0;34m(\u001b[0m\u001b[0mself\u001b[0m\u001b[0;34m,\u001b[0m \u001b[0maxis\u001b[0m\u001b[0;34m=\u001b[0m\u001b[0;32mNone\u001b[0m\u001b[0;34m)\u001b[0m\u001b[0;34m:\u001b[0m\u001b[0;34m\u001b[0m\u001b[0;34m\u001b[0m\u001b[0m\n",
            "\u001b[0;32m/usr/local/lib/python3.7/dist-packages/scipy/sparse/compressed.py\u001b[0m in \u001b[0;36mcheck_format\u001b[0;34m(self, full_check)\u001b[0m\n\u001b[1;32m    157\u001b[0m                  \"\".format(self.indices.dtype.name), stacklevel=3)\n\u001b[1;32m    158\u001b[0m \u001b[0;34m\u001b[0m\u001b[0m\n\u001b[0;32m--> 159\u001b[0;31m         \u001b[0midx_dtype\u001b[0m \u001b[0;34m=\u001b[0m \u001b[0mget_index_dtype\u001b[0m\u001b[0;34m(\u001b[0m\u001b[0;34m(\u001b[0m\u001b[0mself\u001b[0m\u001b[0;34m.\u001b[0m\u001b[0mindptr\u001b[0m\u001b[0;34m,\u001b[0m \u001b[0mself\u001b[0m\u001b[0;34m.\u001b[0m\u001b[0mindices\u001b[0m\u001b[0;34m)\u001b[0m\u001b[0;34m)\u001b[0m\u001b[0;34m\u001b[0m\u001b[0;34m\u001b[0m\u001b[0m\n\u001b[0m\u001b[1;32m    160\u001b[0m         \u001b[0mself\u001b[0m\u001b[0;34m.\u001b[0m\u001b[0mindptr\u001b[0m \u001b[0;34m=\u001b[0m \u001b[0mnp\u001b[0m\u001b[0;34m.\u001b[0m\u001b[0masarray\u001b[0m\u001b[0;34m(\u001b[0m\u001b[0mself\u001b[0m\u001b[0;34m.\u001b[0m\u001b[0mindptr\u001b[0m\u001b[0;34m,\u001b[0m \u001b[0mdtype\u001b[0m\u001b[0;34m=\u001b[0m\u001b[0midx_dtype\u001b[0m\u001b[0;34m)\u001b[0m\u001b[0;34m\u001b[0m\u001b[0;34m\u001b[0m\u001b[0m\n\u001b[1;32m    161\u001b[0m         \u001b[0mself\u001b[0m\u001b[0;34m.\u001b[0m\u001b[0mindices\u001b[0m \u001b[0;34m=\u001b[0m \u001b[0mnp\u001b[0m\u001b[0;34m.\u001b[0m\u001b[0masarray\u001b[0m\u001b[0;34m(\u001b[0m\u001b[0mself\u001b[0m\u001b[0;34m.\u001b[0m\u001b[0mindices\u001b[0m\u001b[0;34m,\u001b[0m \u001b[0mdtype\u001b[0m\u001b[0;34m=\u001b[0m\u001b[0midx_dtype\u001b[0m\u001b[0;34m)\u001b[0m\u001b[0;34m\u001b[0m\u001b[0;34m\u001b[0m\u001b[0m\n",
            "\u001b[0;32m/usr/local/lib/python3.7/dist-packages/scipy/sparse/sputils.py\u001b[0m in \u001b[0;36mget_index_dtype\u001b[0;34m(arrays, maxval, check_contents)\u001b[0m\n\u001b[1;32m    154\u001b[0m     \u001b[0;32mfor\u001b[0m \u001b[0marr\u001b[0m \u001b[0;32min\u001b[0m \u001b[0marrays\u001b[0m\u001b[0;34m:\u001b[0m\u001b[0;34m\u001b[0m\u001b[0;34m\u001b[0m\u001b[0m\n\u001b[1;32m    155\u001b[0m         \u001b[0marr\u001b[0m \u001b[0;34m=\u001b[0m \u001b[0mnp\u001b[0m\u001b[0;34m.\u001b[0m\u001b[0masarray\u001b[0m\u001b[0;34m(\u001b[0m\u001b[0marr\u001b[0m\u001b[0;34m)\u001b[0m\u001b[0;34m\u001b[0m\u001b[0;34m\u001b[0m\u001b[0m\n\u001b[0;32m--> 156\u001b[0;31m         \u001b[0;32mif\u001b[0m \u001b[0;32mnot\u001b[0m \u001b[0mnp\u001b[0m\u001b[0;34m.\u001b[0m\u001b[0mcan_cast\u001b[0m\u001b[0;34m(\u001b[0m\u001b[0marr\u001b[0m\u001b[0;34m.\u001b[0m\u001b[0mdtype\u001b[0m\u001b[0;34m,\u001b[0m \u001b[0mnp\u001b[0m\u001b[0;34m.\u001b[0m\u001b[0mint32\u001b[0m\u001b[0;34m)\u001b[0m\u001b[0;34m:\u001b[0m\u001b[0;34m\u001b[0m\u001b[0;34m\u001b[0m\u001b[0m\n\u001b[0m\u001b[1;32m    157\u001b[0m             \u001b[0;32mif\u001b[0m \u001b[0mcheck_contents\u001b[0m\u001b[0;34m:\u001b[0m\u001b[0;34m\u001b[0m\u001b[0;34m\u001b[0m\u001b[0m\n\u001b[1;32m    158\u001b[0m                 \u001b[0;32mif\u001b[0m \u001b[0marr\u001b[0m\u001b[0;34m.\u001b[0m\u001b[0msize\u001b[0m \u001b[0;34m==\u001b[0m \u001b[0;36m0\u001b[0m\u001b[0;34m:\u001b[0m\u001b[0;34m\u001b[0m\u001b[0;34m\u001b[0m\u001b[0m\n",
            "\u001b[0;32m<__array_function__ internals>\u001b[0m in \u001b[0;36mcan_cast\u001b[0;34m(*args, **kwargs)\u001b[0m\n",
            "\u001b[0;31mKeyboardInterrupt\u001b[0m: "
          ]
        },
        {
          "output_type": "display_data",
          "data": {
            "image/png": "[encoded data removed]",
            "text/plain": [
              "<Figure size 180x79.2 with 1 Axes>"
            ]
          },
          "metadata": {
            "tags": [],
            "needs_background": "light"
          }
        }
      ]
    },
    {
      "cell_type": "code",
      "metadata": {
        "id": "6f-DCMZli9z9",
        "colab": {
          "base_uri": "https://localhost:8080/",
          "height": 359
        },
        "outputId": "b7c776d1-635c-4563-e4c6-b595b0983a5b"
      },
      "source": [
        "def rf_feat_importance(m, df):\n",
        "    return pd.DataFrame({'cols':df.columns, 'imp':m.feature_importances_}\n",
        "                       ).sort_values('imp', ascending=False)\n",
        "\n",
        "fi = rf_feat_importance(m, xs)\n",
        "fi[:10]"
      ],
      "execution_count": null,
      "outputs": [
        {
          "output_type": "execute_result",
          "data": {
            "text/html": [
              "<div>\n",
              "<style scoped>\n",
              "    .dataframe tbody tr th:only-of-type {\n",
              "        vertical-align: middle;\n",
              "    }\n",
              "\n",
              "    .dataframe tbody tr th {\n",
              "        vertical-align: top;\n",
              "    }\n",
              "\n",
              "    .dataframe thead th {\n",
              "        text-align: right;\n",
              "    }\n",
              "</style>\n",
              "<table border=\"1\" class=\"dataframe\">\n",
              "  <thead>\n",
              "    <tr style=\"text-align: right;\">\n",
              "      <th></th>\n",
              "      <th>cols</th>\n",
              "      <th>imp</th>\n",
              "    </tr>\n",
              "  </thead>\n",
              "  <tbody>\n",
              "    <tr>\n",
              "      <th>0</th>\n",
              "      <td>building_id</td>\n",
              "      <td>0.513031</td>\n",
              "    </tr>\n",
              "    <tr>\n",
              "      <th>1</th>\n",
              "      <td>meter</td>\n",
              "      <td>0.162360</td>\n",
              "    </tr>\n",
              "    <tr>\n",
              "      <th>2</th>\n",
              "      <td>site_id</td>\n",
              "      <td>0.112070</td>\n",
              "    </tr>\n",
              "    <tr>\n",
              "      <th>3</th>\n",
              "      <td>primary_use</td>\n",
              "      <td>0.087363</td>\n",
              "    </tr>\n",
              "    <tr>\n",
              "      <th>6</th>\n",
              "      <td>air_temperature</td>\n",
              "      <td>0.073426</td>\n",
              "    </tr>\n",
              "    <tr>\n",
              "      <th>10</th>\n",
              "      <td>day_fraction</td>\n",
              "      <td>0.020638</td>\n",
              "    </tr>\n",
              "    <tr>\n",
              "      <th>7</th>\n",
              "      <td>dew_temperature</td>\n",
              "      <td>0.020360</td>\n",
              "    </tr>\n",
              "    <tr>\n",
              "      <th>8</th>\n",
              "      <td>year_fraction</td>\n",
              "      <td>0.010549</td>\n",
              "    </tr>\n",
              "    <tr>\n",
              "      <th>9</th>\n",
              "      <td>week_fraction</td>\n",
              "      <td>0.000203</td>\n",
              "    </tr>\n",
              "    <tr>\n",
              "      <th>4</th>\n",
              "      <td>air_temperature_na</td>\n",
              "      <td>0.000000</td>\n",
              "    </tr>\n",
              "  </tbody>\n",
              "</table>\n",
              "</div>"
            ],
            "text/plain": [
              "                  cols       imp\n",
              "0          building_id  0.513031\n",
              "1                meter  0.162360\n",
              "2              site_id  0.112070\n",
              "3          primary_use  0.087363\n",
              "6      air_temperature  0.073426\n",
              "10        day_fraction  0.020638\n",
              "7      dew_temperature  0.020360\n",
              "8        year_fraction  0.010549\n",
              "9        week_fraction  0.000203\n",
              "4   air_temperature_na  0.000000"
            ]
          },
          "metadata": {
            "tags": []
          },
          "execution_count": 8
        }
      ]
    },
    {
      "cell_type": "code",
      "metadata": {
        "id": "N4dD3O3HjQcw",
        "colab": {
          "base_uri": "https://localhost:8080/",
          "height": 374
        },
        "outputId": "26838a41-9d1f-4ac4-863a-eea3c45304c8"
      },
      "source": [
        "from scipy.cluster import hierarchy as hc\n",
        "\n",
        "def cluster_columns(df, figsize=(10,6), font_size=12):\n",
        "    corr = np.round(scipy.stats.spearmanr(df).correlation, 4)\n",
        "    corr_condensed = hc.distance.squareform(1-corr)\n",
        "    z = hc.linkage(corr_condensed, method='average')\n",
        "    fig = plt.figure(figsize=figsize)\n",
        "    hc.dendrogram(z, labels=df.columns, orientation='left', leaf_font_size=font_size)\n",
        "    plt.show()\n",
        "    \n",
        "cluster_columns(xs)"
      ],
      "execution_count": null,
      "outputs": [
        {
          "output_type": "display_data",
          "data": {
            "image/png": "[encoded data removed]",
            "text/plain": [
              "<Figure size 720x432 with 1 Axes>"
            ]
          },
          "metadata": {
            "tags": [],
            "needs_background": "light"
          }
        }
      ]
    },
    {
      "cell_type": "code",
      "metadata": {
        "colab": {
          "base_uri": "https://localhost:8080/",
          "height": 367
        },
        "id": "5ESviZk0Fuqk",
        "outputId": "d25b97a4-34cf-4c8a-f8af-a5cc32328244"
      },
      "source": [
        "# Linear regression using scikit-learn\n",
        "from sklearn.linear_model import LinearRegression\n",
        "from sklearn.metrics import mean_squared_error, r2_score\n",
        "\n",
        "xs,y = to1.train.xs,to1.train.y\n",
        "valid_xs,valid_y = to1.valid.xs,to1.valid.y\n",
        "m = LinearRegression()\n",
        "m.fit(xs.to_numpy(), y);\n",
        "print(\"Training set R2: \" + str(m.score(xs, y)) + \" RMSE: \" + str(mean_squared_error(y, m.predict(xs), squared=False)))\n",
        "print(\"Validation set R2: \" + str(m.score(valid_xs, valid_y)) + \" RMSE: \" + str(mean_squared_error(valid_y, m.predict(valid_xs), squared=False)))\n",
        "print(\"Coefficients: \" + str(m.coef_))\n",
        "print(\"Intercept: \" + str(m.intercept_))\n",
        "\n",
        "#plt.scatter(xs['air_temperature'],y)\n",
        "plt.scatter(valid_xs['air_temperature'], valid_y)\n",
        "plt.scatter(valid_xs['air_temperature'], m.predict(valid_xs),color='orange')"
      ],
      "execution_count": null,
      "outputs": [
        {
          "output_type": "stream",
          "text": [
            "Training set R2: 0.09768973662308922 RMSE: 690.1474177222669\n",
            "Validation set R2: 0.10169750550873724 RMSE: 939.425644097199\n",
            "Coefficients: [   0.65038416  208.0176015  -133.49886246  -39.37469677 -101.41427278\n",
            " -101.41427278   58.26409991  113.18247627]\n",
            "Intercept: 458.32098517725433\n"
          ],
          "name": "stdout"
        },
        {
          "output_type": "execute_result",
          "data": {
            "text/plain": [
              "<matplotlib.collections.PathCollection at 0x7f12d13068d0>"
            ]
          },
          "metadata": {
            "tags": []
          },
          "execution_count": 32
        },
        {
          "output_type": "display_data",
          "data": {
            "image/png": "[encoded data removed]",
            "text/plain": [
              "<Figure size 432x288 with 1 Axes>"
            ]
          },
          "metadata": {
            "tags": [],
            "needs_background": "light"
          }
        }
      ]
    },
    {
      "cell_type": "markdown",
      "metadata": {
        "id": "BecPlMAy7GCV"
      },
      "source": [
        "Note that the scattered orange line above is due to multiple input variables yet we're just plotting against air_temperature. When just using one input variable, the line is straight."
      ]
    },
    {
      "cell_type": "code",
      "metadata": {
        "id": "p-g1KsCTHZeq",
        "colab": {
          "base_uri": "https://localhost:8080/",
          "height": 1000
        },
        "outputId": "267ad17b-7191-418a-a1cb-a8ddb78e80b3"
      },
      "source": [
        "# Linear regression using PyTorch\n",
        "from torch.utils.data import Dataset, TensorDataset, DataLoader\n",
        "from sklearn.metrics import mean_squared_error, r2_score\n",
        "\n",
        "xs,y = torch.tensor(to1.train.xs.values),torch.tensor(to1.train.y.values)\n",
        "valid_xs,valid_y = torch.tensor(to1.valid.xs.values),torch.tensor(to1.valid.y.values)\n",
        "\n",
        "# Define dataset\n",
        "train_ds = TensorDataset(xs, y)\n",
        "#train_ds = TensorDataset(torch.tensor(xs.values), torch.tensor(y.values))\n",
        "#train_ds = Dataset.from_tensor_slices((xs, y))\n",
        "print(train_ds)\n",
        "\n",
        "# Define data loader\n",
        "batch_size = 64\n",
        "train_dl = DataLoader(train_ds, batch_size, shuffle=True)\n",
        "next(iter(train_dl))\n",
        "\n",
        "# Define model\n",
        "model = nn.Linear(xs.shape[1], 1)#y.shape[1])\n",
        "print(model.weight)\n",
        "print(model.bias)\n",
        "\n",
        "# Define optimizer\n",
        "opt = torch.optim.SGD(model.parameters(), lr=.001)\n",
        "\n",
        "# Define loss function\n",
        "import torch.nn.functional as F\n",
        "loss_fn = F.mse_loss\n",
        "loss = loss_fn(model(xs), y)\n",
        "print(loss)\n",
        "\n",
        "def fit(num_epochs, model, loss_fn, opt):\n",
        "    for epoch in range(num_epochs):\n",
        "        for xb,yb in train_dl:\n",
        "            # Generate predictions\n",
        "            pred = model(xb)\n",
        "            loss = loss_fn(pred, yb)\n",
        "            # Perform gradient descent\n",
        "            loss.backward()\n",
        "            opt.step()\n",
        "            opt.zero_grad()\n",
        "        print('Training loss: ', loss_fn(model(xs), y))\n",
        "\n",
        "# Train the model for several epochs\n",
        "fit(50, model, loss_fn, opt)\n",
        "\n",
        "# Generate predictions\n",
        "y_pred = model(xs)\n",
        "valid_y_pred = model(valid_xs)\n",
        "print(\"Training set R2: \" + str(r2_score(y_pred.detach().numpy(), y)) + \" RMSE: \" + str(mean_squared_error(y_pred.detach().numpy(), y, squared=False)))\n",
        "print(\"Validation set R2: \" + str(r2_score(valid_y_pred.detach().numpy(), valid_y)) + \" RMSE: \" + str(mean_squared_error(valid_y_pred.detach().numpy(), valid_y, squared=False)))\n",
        "print(\"Coefficients: \" + str(model.weight))\n",
        "print(\"Intercept\" + str(model.bias))\n",
        "\n",
        "plt.scatter(valid_xs[:,0], valid_y)\n",
        "plt.scatter(valid_xs[:,0], valid_y_pred.detach().numpy(), color='orange')"
      ],
      "execution_count": null,
      "outputs": [
        {
          "output_type": "stream",
          "text": [
            "<torch.utils.data.dataset.TensorDataset object at 0x7f56d9a11d90>\n",
            "Parameter containing:\n",
            "tensor([[-0.0279, -0.2112, -0.4328]], requires_grad=True)\n",
            "Parameter containing:\n",
            "tensor([0.3425], requires_grad=True)\n",
            "tensor(6083564.5000, grad_fn=<MseLossBackward>)\n",
            "Training loss:  tensor(3157270.2500, grad_fn=<MseLossBackward>)\n",
            "Training loss:  tensor(3038562.2500, grad_fn=<MseLossBackward>)\n",
            "Training loss:  tensor(3040172.5000, grad_fn=<MseLossBackward>)\n"
          ],
          "name": "stdout"
        },
        {
          "output_type": "stream",
          "text": [
            "/usr/local/lib/python3.7/dist-packages/ipykernel_launcher.py:30: UserWarning: Using a target size (torch.Size([4410])) that is different to the input size (torch.Size([4410, 1])). This will likely lead to incorrect results due to broadcasting. Please ensure they have the same size.\n",
            "/usr/local/lib/python3.7/dist-packages/ipykernel_launcher.py:38: UserWarning: Using a target size (torch.Size([64])) that is different to the input size (torch.Size([64, 1])). This will likely lead to incorrect results due to broadcasting. Please ensure they have the same size.\n",
            "/usr/local/lib/python3.7/dist-packages/ipykernel_launcher.py:38: UserWarning: Using a target size (torch.Size([58])) that is different to the input size (torch.Size([58, 1])). This will likely lead to incorrect results due to broadcasting. Please ensure they have the same size.\n",
            "/usr/local/lib/python3.7/dist-packages/ipykernel_launcher.py:43: UserWarning: Using a target size (torch.Size([4410])) that is different to the input size (torch.Size([4410, 1])). This will likely lead to incorrect results due to broadcasting. Please ensure they have the same size.\n"
          ],
          "name": "stderr"
        },
        {
          "output_type": "stream",
          "text": [
            "Training loss:  tensor(3001640., grad_fn=<MseLossBackward>)\n",
            "Training loss:  tensor(2953377.5000, grad_fn=<MseLossBackward>)\n",
            "Training loss:  tensor(2978136.2500, grad_fn=<MseLossBackward>)\n",
            "Training loss:  tensor(2934418.5000, grad_fn=<MseLossBackward>)\n",
            "Training loss:  tensor(2877487.5000, grad_fn=<MseLossBackward>)\n",
            "Training loss:  tensor(2840216., grad_fn=<MseLossBackward>)\n",
            "Training loss:  tensor(2837932.2500, grad_fn=<MseLossBackward>)\n",
            "Training loss:  tensor(2799506.5000, grad_fn=<MseLossBackward>)\n",
            "Training loss:  tensor(2836210.5000, grad_fn=<MseLossBackward>)\n",
            "Training loss:  tensor(2776785.7500, grad_fn=<MseLossBackward>)\n",
            "Training loss:  tensor(2802382., grad_fn=<MseLossBackward>)\n",
            "Training loss:  tensor(2742863., grad_fn=<MseLossBackward>)\n",
            "Training loss:  tensor(2720460.7500, grad_fn=<MseLossBackward>)\n",
            "Training loss:  tensor(2746403.7500, grad_fn=<MseLossBackward>)\n",
            "Training loss:  tensor(2706342.2500, grad_fn=<MseLossBackward>)\n",
            "Training loss:  tensor(2714497.5000, grad_fn=<MseLossBackward>)\n",
            "Training loss:  tensor(2694150.2500, grad_fn=<MseLossBackward>)\n",
            "Training loss:  tensor(2667684.7500, grad_fn=<MseLossBackward>)\n",
            "Training loss:  tensor(2692543.2500, grad_fn=<MseLossBackward>)\n",
            "Training loss:  tensor(2616312.7500, grad_fn=<MseLossBackward>)\n",
            "Training loss:  tensor(2630018.5000, grad_fn=<MseLossBackward>)\n",
            "Training loss:  tensor(2633815.7500, grad_fn=<MseLossBackward>)\n",
            "Training loss:  tensor(2591039., grad_fn=<MseLossBackward>)\n",
            "Training loss:  tensor(2577042., grad_fn=<MseLossBackward>)\n",
            "Training loss:  tensor(2570128., grad_fn=<MseLossBackward>)\n",
            "Training loss:  tensor(2740796.7500, grad_fn=<MseLossBackward>)\n",
            "Training loss:  tensor(2556166.7500, grad_fn=<MseLossBackward>)\n",
            "Training loss:  tensor(2547220.7500, grad_fn=<MseLossBackward>)\n",
            "Training loss:  tensor(2619128.5000, grad_fn=<MseLossBackward>)\n",
            "Training loss:  tensor(2598027.2500, grad_fn=<MseLossBackward>)\n",
            "Training loss:  tensor(2527616.5000, grad_fn=<MseLossBackward>)\n",
            "Training loss:  tensor(2555991.2500, grad_fn=<MseLossBackward>)\n",
            "Training loss:  tensor(2534364.5000, grad_fn=<MseLossBackward>)\n",
            "Training loss:  tensor(2536924.2500, grad_fn=<MseLossBackward>)\n",
            "Training loss:  tensor(2515357.5000, grad_fn=<MseLossBackward>)\n",
            "Training loss:  tensor(2507420.5000, grad_fn=<MseLossBackward>)\n",
            "Training loss:  tensor(2499529.7500, grad_fn=<MseLossBackward>)\n",
            "Training loss:  tensor(2555521.7500, grad_fn=<MseLossBackward>)\n",
            "Training loss:  tensor(2575995., grad_fn=<MseLossBackward>)\n",
            "Training loss:  tensor(2485703.5000, grad_fn=<MseLossBackward>)\n",
            "Training loss:  tensor(2485548., grad_fn=<MseLossBackward>)\n",
            "Training loss:  tensor(2484740.2500, grad_fn=<MseLossBackward>)\n",
            "Training loss:  tensor(2544642.2500, grad_fn=<MseLossBackward>)\n",
            "Training loss:  tensor(2522784., grad_fn=<MseLossBackward>)\n",
            "Training loss:  tensor(2530530.2500, grad_fn=<MseLossBackward>)\n",
            "Training loss:  tensor(2475184., grad_fn=<MseLossBackward>)\n",
            "Training loss:  tensor(2469516.5000, grad_fn=<MseLossBackward>)\n",
            "Training set R2: -48.770015039726836 RMSE: 1674.5166\n",
            "Validation set R2: -81.1514964200389 RMSE: 2405.375\n",
            "Coefficients: Parameter containing:\n",
            "tensor([[ 32.7963,  20.9858, -25.5027]], requires_grad=True)\n",
            "InterceptParameter containing:\n",
            "tensor([1414.7421], requires_grad=True)\n"
          ],
          "name": "stdout"
        },
        {
          "output_type": "execute_result",
          "data": {
            "text/plain": [
              "<matplotlib.collections.PathCollection at 0x7f56d9967410>"
            ]
          },
          "metadata": {
            "tags": []
          },
          "execution_count": 19
        },
        {
          "output_type": "display_data",
          "data": {
            "image/png": "[encoded data removed]",
            "text/plain": [
              "<Figure size 600x400 with 1 Axes>"
            ]
          },
          "metadata": {
            "tags": []
          }
        }
      ]
    },
    {
      "cell_type": "markdown",
      "metadata": {
        "id": "xLttyPH__Ug-"
      },
      "source": [
        "To do:\n",
        "\n",
        "\n",
        "1.   Figure out why continuous variables are shown as boolean\n",
        "2.   Handle dates\n",
        "3.   Create training and validation sets, rather than using TabularDataLoader\n",
        "\n"
      ]
    }
  ]
}