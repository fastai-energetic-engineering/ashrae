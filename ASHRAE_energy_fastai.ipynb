{
  "nbformat": 4,
  "nbformat_minor": 0,
  "metadata": {
    "colab": {
      "name": "ASHRAE energy fastai.ipynb",
      "provenance": [],
      "collapsed_sections": [],
      "include_colab_link": true
    },
    "kernelspec": {
      "name": "python3",
      "display_name": "Python 3"
    },
    "language_info": {
      "name": "python"
    },
    "accelerator": "GPU"
  },
  "cells": [
    {
      "cell_type": "markdown",
      "metadata": {
        "id": "view-in-github",
        "colab_type": "text"
      },
      "source": [
        "<a href=\"https://colab.research.google.com/github/fastai-energetic-engineering/ashrae/blob/master/ASHRAE_energy_fastai.ipynb\" target=\"_parent\"><img src=\"https://colab.research.google.com/assets/colab-badge.svg\" alt=\"Open In Colab\"/></a>"
      ]
    },
    {
      "cell_type": "markdown",
      "metadata": {
        "id": "q0AxBz6y2oWi"
      },
      "source": [
        "# ASHRAE Energy Prediction\n",
        "\n",
        "- toc: true\n",
        "- branch: master\n",
        "- badges: true\n",
        "- comments: true\n",
        "- categories: [fastai, kaggle]\n",
        "- image: images/some_folder/your_image.png\n",
        "- hide: false\n",
        "- search_exclude: false\n"
      ]
    },
    {
      "cell_type": "code",
      "metadata": {
        "id": "ijXYPvlA6Ee0",
        "colab": {
          "base_uri": "https://localhost:8080/"
        },
        "outputId": "8d43e5e2-b014-4536-f247-e2956e30c171"
      },
      "source": [
        "#collapse\n",
        "!pip install -Uqq fastbook\n",
        "import fastbook\n",
        "fastbook.setup_book()"
      ],
      "execution_count": 1,
      "outputs": [
        {
          "output_type": "stream",
          "text": [
            "\u001b[K     |████████████████████████████████| 727kB 7.5MB/s \n",
            "\u001b[K     |████████████████████████████████| 1.2MB 15.7MB/s \n",
            "\u001b[K     |████████████████████████████████| 194kB 38.1MB/s \n",
            "\u001b[K     |████████████████████████████████| 51kB 8.7MB/s \n",
            "\u001b[K     |████████████████████████████████| 61kB 9.8MB/s \n",
            "\u001b[K     |████████████████████████████████| 61kB 10.6MB/s \n",
            "\u001b[?25hMounted at /content/gdrive\n"
          ],
          "name": "stdout"
        }
      ]
    },
    {
      "cell_type": "code",
      "metadata": {
        "id": "PWNQebEr8F8k"
      },
      "source": [
        "#collapse\n",
        "#from fastbook import *\n",
        "import os\n",
        "#from google.colab import files\n",
        "import pandas as pd\n",
        "import datetime as dt\n",
        "\n",
        "from fastai.tabular.all import *\n"
      ],
      "execution_count": 11,
      "outputs": []
    },
    {
      "cell_type": "code",
      "metadata": {
        "id": "lE1XHTz751AF"
      },
      "source": [
        "# Load ASHRAE energy dataset from your google drive\n",
        "p = 'gdrive/MyDrive/Colab Notebooks/ashrae'\n",
        "os.chdir(p)"
      ],
      "execution_count": 3,
      "outputs": []
    },
    {
      "cell_type": "markdown",
      "metadata": {
        "id": "GC6SBxxh9-n9"
      },
      "source": [
        "## Joining Tables"
      ]
    },
    {
      "cell_type": "markdown",
      "metadata": {
        "id": "URZMmHULCqnG"
      },
      "source": [
        "Our training data comprised of three tables:\n",
        "- `building_metadata.csv`\n",
        "- `weather_train.csv`\n",
        "- `train.csv`\n",
        "\n",
        "We need to join the tables. First, let's see what's in the tables."
      ]
    },
    {
      "cell_type": "code",
      "metadata": {
        "id": "1ULRNFo8DZKI"
      },
      "source": [
        "building = pd.read_csv('data/building_metadata.csv')\n",
        "weather = pd.read_csv('data/weather_train.csv')\n",
        "train = pd.read_csv('data/train.csv')"
      ],
      "execution_count": 4,
      "outputs": []
    },
    {
      "cell_type": "markdown",
      "metadata": {
        "id": "xyONjqf1FGx1"
      },
      "source": [
        "`building` contains the buildings' metadata."
      ]
    },
    {
      "cell_type": "code",
      "metadata": {
        "colab": {
          "base_uri": "https://localhost:8080/",
          "height": 204
        },
        "id": "2HEZZL4-Dp5q",
        "outputId": "08e4db1c-fce6-49bb-ae44-e8ae3c32f709"
      },
      "source": [
        "building.head()"
      ],
      "execution_count": 5,
      "outputs": [
        {
          "output_type": "execute_result",
          "data": {
            "text/html": [
              "<div>\n",
              "<style scoped>\n",
              "    .dataframe tbody tr th:only-of-type {\n",
              "        vertical-align: middle;\n",
              "    }\n",
              "\n",
              "    .dataframe tbody tr th {\n",
              "        vertical-align: top;\n",
              "    }\n",
              "\n",
              "    .dataframe thead th {\n",
              "        text-align: right;\n",
              "    }\n",
              "</style>\n",
              "<table border=\"1\" class=\"dataframe\">\n",
              "  <thead>\n",
              "    <tr style=\"text-align: right;\">\n",
              "      <th></th>\n",
              "      <th>site_id</th>\n",
              "      <th>building_id</th>\n",
              "      <th>primary_use</th>\n",
              "      <th>square_feet</th>\n",
              "      <th>year_built</th>\n",
              "      <th>floor_count</th>\n",
              "    </tr>\n",
              "  </thead>\n",
              "  <tbody>\n",
              "    <tr>\n",
              "      <th>0</th>\n",
              "      <td>0</td>\n",
              "      <td>0</td>\n",
              "      <td>Education</td>\n",
              "      <td>7432</td>\n",
              "      <td>2008.0</td>\n",
              "      <td>NaN</td>\n",
              "    </tr>\n",
              "    <tr>\n",
              "      <th>1</th>\n",
              "      <td>0</td>\n",
              "      <td>1</td>\n",
              "      <td>Education</td>\n",
              "      <td>2720</td>\n",
              "      <td>2004.0</td>\n",
              "      <td>NaN</td>\n",
              "    </tr>\n",
              "    <tr>\n",
              "      <th>2</th>\n",
              "      <td>0</td>\n",
              "      <td>2</td>\n",
              "      <td>Education</td>\n",
              "      <td>5376</td>\n",
              "      <td>1991.0</td>\n",
              "      <td>NaN</td>\n",
              "    </tr>\n",
              "    <tr>\n",
              "      <th>3</th>\n",
              "      <td>0</td>\n",
              "      <td>3</td>\n",
              "      <td>Education</td>\n",
              "      <td>23685</td>\n",
              "      <td>2002.0</td>\n",
              "      <td>NaN</td>\n",
              "    </tr>\n",
              "    <tr>\n",
              "      <th>4</th>\n",
              "      <td>0</td>\n",
              "      <td>4</td>\n",
              "      <td>Education</td>\n",
              "      <td>116607</td>\n",
              "      <td>1975.0</td>\n",
              "      <td>NaN</td>\n",
              "    </tr>\n",
              "  </tbody>\n",
              "</table>\n",
              "</div>"
            ],
            "text/plain": [
              "   site_id  building_id primary_use  square_feet  year_built  floor_count\n",
              "0        0            0   Education         7432      2008.0          NaN\n",
              "1        0            1   Education         2720      2004.0          NaN\n",
              "2        0            2   Education         5376      1991.0          NaN\n",
              "3        0            3   Education        23685      2002.0          NaN\n",
              "4        0            4   Education       116607      1975.0          NaN"
            ]
          },
          "metadata": {
            "tags": []
          },
          "execution_count": 5
        }
      ]
    },
    {
      "cell_type": "markdown",
      "metadata": {
        "id": "FP_tnigiGBjr"
      },
      "source": [
        "- `site_id` - Foreign key for the weather files.\n",
        "- `building_id` - Foreign key for training.csv\n",
        "- `primary_use` - Indicator of the primary category of activities for the building based on EnergyStar property type definitions\n",
        "- `square_feet` - Gross floor area of the building\n",
        "- `year_built` - Year building was opened\n",
        "- `floor_count` - Number of floors of the building"
      ]
    },
    {
      "cell_type": "markdown",
      "metadata": {
        "id": "aa_BhqKwFlcU"
      },
      "source": [
        "`weather` contains weather data from the closest meteorological station."
      ]
    },
    {
      "cell_type": "code",
      "metadata": {
        "colab": {
          "base_uri": "https://localhost:8080/",
          "height": 309
        },
        "id": "wu6izhBiDtLy",
        "outputId": "d581491d-2d27-4d59-b228-ea162b74fbf1"
      },
      "source": [
        "weather.head()"
      ],
      "execution_count": 6,
      "outputs": [
        {
          "output_type": "execute_result",
          "data": {
            "text/html": [
              "<div>\n",
              "<style scoped>\n",
              "    .dataframe tbody tr th:only-of-type {\n",
              "        vertical-align: middle;\n",
              "    }\n",
              "\n",
              "    .dataframe tbody tr th {\n",
              "        vertical-align: top;\n",
              "    }\n",
              "\n",
              "    .dataframe thead th {\n",
              "        text-align: right;\n",
              "    }\n",
              "</style>\n",
              "<table border=\"1\" class=\"dataframe\">\n",
              "  <thead>\n",
              "    <tr style=\"text-align: right;\">\n",
              "      <th></th>\n",
              "      <th>site_id</th>\n",
              "      <th>timestamp</th>\n",
              "      <th>air_temperature</th>\n",
              "      <th>cloud_coverage</th>\n",
              "      <th>dew_temperature</th>\n",
              "      <th>precip_depth_1_hr</th>\n",
              "      <th>sea_level_pressure</th>\n",
              "      <th>wind_direction</th>\n",
              "      <th>wind_speed</th>\n",
              "    </tr>\n",
              "  </thead>\n",
              "  <tbody>\n",
              "    <tr>\n",
              "      <th>0</th>\n",
              "      <td>0</td>\n",
              "      <td>2016-01-01 00:00:00</td>\n",
              "      <td>25.0</td>\n",
              "      <td>6.0</td>\n",
              "      <td>20.0</td>\n",
              "      <td>NaN</td>\n",
              "      <td>1019.7</td>\n",
              "      <td>0.0</td>\n",
              "      <td>0.0</td>\n",
              "    </tr>\n",
              "    <tr>\n",
              "      <th>1</th>\n",
              "      <td>0</td>\n",
              "      <td>2016-01-01 01:00:00</td>\n",
              "      <td>24.4</td>\n",
              "      <td>NaN</td>\n",
              "      <td>21.1</td>\n",
              "      <td>-1.0</td>\n",
              "      <td>1020.2</td>\n",
              "      <td>70.0</td>\n",
              "      <td>1.5</td>\n",
              "    </tr>\n",
              "    <tr>\n",
              "      <th>2</th>\n",
              "      <td>0</td>\n",
              "      <td>2016-01-01 02:00:00</td>\n",
              "      <td>22.8</td>\n",
              "      <td>2.0</td>\n",
              "      <td>21.1</td>\n",
              "      <td>0.0</td>\n",
              "      <td>1020.2</td>\n",
              "      <td>0.0</td>\n",
              "      <td>0.0</td>\n",
              "    </tr>\n",
              "    <tr>\n",
              "      <th>3</th>\n",
              "      <td>0</td>\n",
              "      <td>2016-01-01 03:00:00</td>\n",
              "      <td>21.1</td>\n",
              "      <td>2.0</td>\n",
              "      <td>20.6</td>\n",
              "      <td>0.0</td>\n",
              "      <td>1020.1</td>\n",
              "      <td>0.0</td>\n",
              "      <td>0.0</td>\n",
              "    </tr>\n",
              "    <tr>\n",
              "      <th>4</th>\n",
              "      <td>0</td>\n",
              "      <td>2016-01-01 04:00:00</td>\n",
              "      <td>20.0</td>\n",
              "      <td>2.0</td>\n",
              "      <td>20.0</td>\n",
              "      <td>-1.0</td>\n",
              "      <td>1020.0</td>\n",
              "      <td>250.0</td>\n",
              "      <td>2.6</td>\n",
              "    </tr>\n",
              "  </tbody>\n",
              "</table>\n",
              "</div>"
            ],
            "text/plain": [
              "   site_id            timestamp  air_temperature  cloud_coverage  \\\n",
              "0        0  2016-01-01 00:00:00             25.0             6.0   \n",
              "1        0  2016-01-01 01:00:00             24.4             NaN   \n",
              "2        0  2016-01-01 02:00:00             22.8             2.0   \n",
              "3        0  2016-01-01 03:00:00             21.1             2.0   \n",
              "4        0  2016-01-01 04:00:00             20.0             2.0   \n",
              "\n",
              "   dew_temperature  precip_depth_1_hr  sea_level_pressure  wind_direction  \\\n",
              "0             20.0                NaN              1019.7             0.0   \n",
              "1             21.1               -1.0              1020.2            70.0   \n",
              "2             21.1                0.0              1020.2             0.0   \n",
              "3             20.6                0.0              1020.1             0.0   \n",
              "4             20.0               -1.0              1020.0           250.0   \n",
              "\n",
              "   wind_speed  \n",
              "0         0.0  \n",
              "1         1.5  \n",
              "2         0.0  \n",
              "3         0.0  \n",
              "4         2.6  "
            ]
          },
          "metadata": {
            "tags": []
          },
          "execution_count": 6
        }
      ]
    },
    {
      "cell_type": "markdown",
      "metadata": {
        "id": "oC210R-DGaVJ"
      },
      "source": [
        "- `site_id`\n",
        "- `air_temperature` - Degrees Celsius\n",
        "- `cloud_coverage` - Portion of the sky covered in clouds, in oktas\n",
        "- `dew_temperature` - Degrees Celsius\n",
        "- `precip_depth_1_hr` - Millimeters\n",
        "- `sea_level_pressure` - Millibar/hectopascals\n",
        "- `wind_direction` - Compass direction (0-360)\n",
        "- `wind_speed` - Meters per second"
      ]
    },
    {
      "cell_type": "markdown",
      "metadata": {
        "id": "DPqTK_qgFWBe"
      },
      "source": [
        "Finally, `train` contains the target variable, `meter reading`, which represents energy consumption in kWh."
      ]
    },
    {
      "cell_type": "code",
      "metadata": {
        "colab": {
          "base_uri": "https://localhost:8080/",
          "height": 204
        },
        "id": "CVvZiue2D1MT",
        "outputId": "f175dd11-7d4f-4fe6-d504-bb0997bd6d9e"
      },
      "source": [
        "train.head()"
      ],
      "execution_count": 7,
      "outputs": [
        {
          "output_type": "execute_result",
          "data": {
            "text/html": [
              "<div>\n",
              "<style scoped>\n",
              "    .dataframe tbody tr th:only-of-type {\n",
              "        vertical-align: middle;\n",
              "    }\n",
              "\n",
              "    .dataframe tbody tr th {\n",
              "        vertical-align: top;\n",
              "    }\n",
              "\n",
              "    .dataframe thead th {\n",
              "        text-align: right;\n",
              "    }\n",
              "</style>\n",
              "<table border=\"1\" class=\"dataframe\">\n",
              "  <thead>\n",
              "    <tr style=\"text-align: right;\">\n",
              "      <th></th>\n",
              "      <th>building_id</th>\n",
              "      <th>meter</th>\n",
              "      <th>timestamp</th>\n",
              "      <th>meter_reading</th>\n",
              "    </tr>\n",
              "  </thead>\n",
              "  <tbody>\n",
              "    <tr>\n",
              "      <th>0</th>\n",
              "      <td>0</td>\n",
              "      <td>0</td>\n",
              "      <td>2016-01-01 00:00:00</td>\n",
              "      <td>0.0</td>\n",
              "    </tr>\n",
              "    <tr>\n",
              "      <th>1</th>\n",
              "      <td>1</td>\n",
              "      <td>0</td>\n",
              "      <td>2016-01-01 00:00:00</td>\n",
              "      <td>0.0</td>\n",
              "    </tr>\n",
              "    <tr>\n",
              "      <th>2</th>\n",
              "      <td>2</td>\n",
              "      <td>0</td>\n",
              "      <td>2016-01-01 00:00:00</td>\n",
              "      <td>0.0</td>\n",
              "    </tr>\n",
              "    <tr>\n",
              "      <th>3</th>\n",
              "      <td>3</td>\n",
              "      <td>0</td>\n",
              "      <td>2016-01-01 00:00:00</td>\n",
              "      <td>0.0</td>\n",
              "    </tr>\n",
              "    <tr>\n",
              "      <th>4</th>\n",
              "      <td>4</td>\n",
              "      <td>0</td>\n",
              "      <td>2016-01-01 00:00:00</td>\n",
              "      <td>0.0</td>\n",
              "    </tr>\n",
              "  </tbody>\n",
              "</table>\n",
              "</div>"
            ],
            "text/plain": [
              "   building_id  meter            timestamp  meter_reading\n",
              "0            0      0  2016-01-01 00:00:00            0.0\n",
              "1            1      0  2016-01-01 00:00:00            0.0\n",
              "2            2      0  2016-01-01 00:00:00            0.0\n",
              "3            3      0  2016-01-01 00:00:00            0.0\n",
              "4            4      0  2016-01-01 00:00:00            0.0"
            ]
          },
          "metadata": {
            "tags": []
          },
          "execution_count": 7
        }
      ]
    },
    {
      "cell_type": "markdown",
      "metadata": {
        "id": "xSwtyoWSD2MA"
      },
      "source": [
        "- `building_id` - Foreign key for the building metadata.\n",
        "- `meter` - The meter id code. Read as {0: electricity, 1: chilledwater, 2: steam, 3: hotwater}. Not every building has all meter types.\n",
        "- `timestamp` - When the measurement was taken\n",
        "- `meter_reading` - The target variable. Energy consumption in kWh (or equivalent)."
      ]
    },
    {
      "cell_type": "markdown",
      "metadata": {
        "id": "2yZs3_XC7N4c"
      },
      "source": [
        "Apparently there was some issues regarding the timestamps, as noted by [this post](https://www.kaggle.com/c/ashrae-energy-prediction/discussion/115040#latest-667889). The timestamp in the weather and meter reading table were in GMT and local time, respectively. We have to keep this in mind before merging the tables.\n",
        "\n",
        "Here I wrote a function that can prepare train and test data accordingly."
      ]
    },
    {
      "cell_type": "code",
      "metadata": {
        "id": "xe28Owhe70BJ"
      },
      "source": [
        "def prepare_data(type='train'):\n",
        "    assert type in ['train', 'test']\n",
        "    \n",
        "    # read data\n",
        "    building = pd.read_csv('data/building_metadata.csv')\n",
        "    weather = pd.read_csv(f'data/weather_{type}.csv')\n",
        "    data = pd.read_csv(f'data/{type}.csv')\n",
        "\n",
        "    # convert datetime\n",
        "    data['timestamp'] = pd.to_datetime(data['timestamp'])\n",
        "\n",
        "    # adjust timestamp\n",
        "    timediff = {0:4,1:0,2:7,3:4,4:7,5:0,6:4,7:4,8:4,9:5,10:7,11:4,12:0,13:5,14:4,15:4}\n",
        "    weather['time_diff']= weather['site_id'].map(timediff)\n",
        "    weather['time_diff'] = weather['time_diff'].apply(lambda x: dt.timedelta(hours=x))\n",
        "    weather['timestamp_gmt'] = pd.to_datetime(weather['timestamp'])\n",
        "    weather['timestamp'] = weather['timestamp_gmt'] - weather['time_diff']\n",
        "\n",
        "    # merge table\n",
        "    data = data.merge(building, on='building_id', how='left')\n",
        "    data = data.merge(weather, on=['site_id','timestamp'], how='left')\n",
        "\n",
        "    return data"
      ],
      "execution_count": 12,
      "outputs": []
    },
    {
      "cell_type": "markdown",
      "metadata": {
        "id": "l83jxjZ273hy"
      },
      "source": [
        "Let's try this function out!"
      ]
    },
    {
      "cell_type": "code",
      "metadata": {
        "colab": {
          "base_uri": "https://localhost:8080/",
          "height": 309
        },
        "id": "gKIpTFUd8FIK",
        "outputId": "fdb991f5-4379-40fb-be7a-fa1393e1f5d8"
      },
      "source": [
        "train = prepare_data('train')\n",
        "train.head()"
      ],
      "execution_count": 13,
      "outputs": [
        {
          "output_type": "execute_result",
          "data": {
            "text/html": [
              "<div>\n",
              "<style scoped>\n",
              "    .dataframe tbody tr th:only-of-type {\n",
              "        vertical-align: middle;\n",
              "    }\n",
              "\n",
              "    .dataframe tbody tr th {\n",
              "        vertical-align: top;\n",
              "    }\n",
              "\n",
              "    .dataframe thead th {\n",
              "        text-align: right;\n",
              "    }\n",
              "</style>\n",
              "<table border=\"1\" class=\"dataframe\">\n",
              "  <thead>\n",
              "    <tr style=\"text-align: right;\">\n",
              "      <th></th>\n",
              "      <th>building_id</th>\n",
              "      <th>meter</th>\n",
              "      <th>timestamp</th>\n",
              "      <th>meter_reading</th>\n",
              "      <th>site_id</th>\n",
              "      <th>primary_use</th>\n",
              "      <th>square_feet</th>\n",
              "      <th>year_built</th>\n",
              "      <th>floor_count</th>\n",
              "      <th>air_temperature</th>\n",
              "      <th>cloud_coverage</th>\n",
              "      <th>dew_temperature</th>\n",
              "      <th>precip_depth_1_hr</th>\n",
              "      <th>sea_level_pressure</th>\n",
              "      <th>wind_direction</th>\n",
              "      <th>wind_speed</th>\n",
              "      <th>time_diff</th>\n",
              "      <th>timestamp_gmt</th>\n",
              "    </tr>\n",
              "  </thead>\n",
              "  <tbody>\n",
              "    <tr>\n",
              "      <th>0</th>\n",
              "      <td>0</td>\n",
              "      <td>0</td>\n",
              "      <td>2016-01-01</td>\n",
              "      <td>0.0</td>\n",
              "      <td>0</td>\n",
              "      <td>Education</td>\n",
              "      <td>7432</td>\n",
              "      <td>2008.0</td>\n",
              "      <td>NaN</td>\n",
              "      <td>20.0</td>\n",
              "      <td>2.0</td>\n",
              "      <td>20.0</td>\n",
              "      <td>-1.0</td>\n",
              "      <td>1020.0</td>\n",
              "      <td>250.0</td>\n",
              "      <td>2.6</td>\n",
              "      <td>0 days 04:00:00</td>\n",
              "      <td>2016-01-01 04:00:00</td>\n",
              "    </tr>\n",
              "    <tr>\n",
              "      <th>1</th>\n",
              "      <td>1</td>\n",
              "      <td>0</td>\n",
              "      <td>2016-01-01</td>\n",
              "      <td>0.0</td>\n",
              "      <td>0</td>\n",
              "      <td>Education</td>\n",
              "      <td>2720</td>\n",
              "      <td>2004.0</td>\n",
              "      <td>NaN</td>\n",
              "      <td>20.0</td>\n",
              "      <td>2.0</td>\n",
              "      <td>20.0</td>\n",
              "      <td>-1.0</td>\n",
              "      <td>1020.0</td>\n",
              "      <td>250.0</td>\n",
              "      <td>2.6</td>\n",
              "      <td>0 days 04:00:00</td>\n",
              "      <td>2016-01-01 04:00:00</td>\n",
              "    </tr>\n",
              "    <tr>\n",
              "      <th>2</th>\n",
              "      <td>2</td>\n",
              "      <td>0</td>\n",
              "      <td>2016-01-01</td>\n",
              "      <td>0.0</td>\n",
              "      <td>0</td>\n",
              "      <td>Education</td>\n",
              "      <td>5376</td>\n",
              "      <td>1991.0</td>\n",
              "      <td>NaN</td>\n",
              "      <td>20.0</td>\n",
              "      <td>2.0</td>\n",
              "      <td>20.0</td>\n",
              "      <td>-1.0</td>\n",
              "      <td>1020.0</td>\n",
              "      <td>250.0</td>\n",
              "      <td>2.6</td>\n",
              "      <td>0 days 04:00:00</td>\n",
              "      <td>2016-01-01 04:00:00</td>\n",
              "    </tr>\n",
              "    <tr>\n",
              "      <th>3</th>\n",
              "      <td>3</td>\n",
              "      <td>0</td>\n",
              "      <td>2016-01-01</td>\n",
              "      <td>0.0</td>\n",
              "      <td>0</td>\n",
              "      <td>Education</td>\n",
              "      <td>23685</td>\n",
              "      <td>2002.0</td>\n",
              "      <td>NaN</td>\n",
              "      <td>20.0</td>\n",
              "      <td>2.0</td>\n",
              "      <td>20.0</td>\n",
              "      <td>-1.0</td>\n",
              "      <td>1020.0</td>\n",
              "      <td>250.0</td>\n",
              "      <td>2.6</td>\n",
              "      <td>0 days 04:00:00</td>\n",
              "      <td>2016-01-01 04:00:00</td>\n",
              "    </tr>\n",
              "    <tr>\n",
              "      <th>4</th>\n",
              "      <td>4</td>\n",
              "      <td>0</td>\n",
              "      <td>2016-01-01</td>\n",
              "      <td>0.0</td>\n",
              "      <td>0</td>\n",
              "      <td>Education</td>\n",
              "      <td>116607</td>\n",
              "      <td>1975.0</td>\n",
              "      <td>NaN</td>\n",
              "      <td>20.0</td>\n",
              "      <td>2.0</td>\n",
              "      <td>20.0</td>\n",
              "      <td>-1.0</td>\n",
              "      <td>1020.0</td>\n",
              "      <td>250.0</td>\n",
              "      <td>2.6</td>\n",
              "      <td>0 days 04:00:00</td>\n",
              "      <td>2016-01-01 04:00:00</td>\n",
              "    </tr>\n",
              "  </tbody>\n",
              "</table>\n",
              "</div>"
            ],
            "text/plain": [
              "   building_id  meter  timestamp  meter_reading  site_id primary_use  \\\n",
              "0            0      0 2016-01-01            0.0        0   Education   \n",
              "1            1      0 2016-01-01            0.0        0   Education   \n",
              "2            2      0 2016-01-01            0.0        0   Education   \n",
              "3            3      0 2016-01-01            0.0        0   Education   \n",
              "4            4      0 2016-01-01            0.0        0   Education   \n",
              "\n",
              "   square_feet  year_built  floor_count  air_temperature  cloud_coverage  \\\n",
              "0         7432      2008.0          NaN             20.0             2.0   \n",
              "1         2720      2004.0          NaN             20.0             2.0   \n",
              "2         5376      1991.0          NaN             20.0             2.0   \n",
              "3        23685      2002.0          NaN             20.0             2.0   \n",
              "4       116607      1975.0          NaN             20.0             2.0   \n",
              "\n",
              "   dew_temperature  precip_depth_1_hr  sea_level_pressure  wind_direction  \\\n",
              "0             20.0               -1.0              1020.0           250.0   \n",
              "1             20.0               -1.0              1020.0           250.0   \n",
              "2             20.0               -1.0              1020.0           250.0   \n",
              "3             20.0               -1.0              1020.0           250.0   \n",
              "4             20.0               -1.0              1020.0           250.0   \n",
              "\n",
              "   wind_speed       time_diff       timestamp_gmt  \n",
              "0         2.6 0 days 04:00:00 2016-01-01 04:00:00  \n",
              "1         2.6 0 days 04:00:00 2016-01-01 04:00:00  \n",
              "2         2.6 0 days 04:00:00 2016-01-01 04:00:00  \n",
              "3         2.6 0 days 04:00:00 2016-01-01 04:00:00  \n",
              "4         2.6 0 days 04:00:00 2016-01-01 04:00:00  "
            ]
          },
          "metadata": {
            "tags": []
          },
          "execution_count": 13
        }
      ]
    },
    {
      "cell_type": "code",
      "metadata": {
        "id": "k6kNphv_g3po"
      },
      "source": [
        "# Engineer a feature\n",
        "train['hour'] = train.timestamp.dt.hour"
      ],
      "execution_count": 14,
      "outputs": []
    },
    {
      "cell_type": "code",
      "metadata": {
        "id": "w4FREGZWVst7",
        "colab": {
          "base_uri": "https://localhost:8080/",
          "height": 425
        },
        "outputId": "7c008e0f-f8fe-4ad0-bb88-a9c9cca177c2"
      },
      "source": [
        "# Get a subset of the data, just one building and meter\n",
        "\n",
        "t = train[(train['building_id']==1126) & (train['meter']==2)]\n",
        "import matplotlib as mpl\n",
        "import matplotlib.pyplot as plt\n",
        "import seaborn as sns\n",
        "mpl.rcParams['figure.dpi'] = 100\n",
        "sns.set()\n",
        "#%matplotlib inlinefig, axes = plt.subplots(9,2,figsize=(14, 36), dpi=100)\n",
        "t[['timestamp', 'meter_reading']].set_index('timestamp').plot()\n"
      ],
      "execution_count": 15,
      "outputs": [
        {
          "output_type": "execute_result",
          "data": {
            "text/plain": [
              "<matplotlib.axes._subplots.AxesSubplot at 0x7f6b4ad0a790>"
            ]
          },
          "metadata": {
            "tags": []
          },
          "execution_count": 15
        },
        {
          "output_type": "display_data",
          "data": {
            "image/png": "[encoded data removed]",
            "text/plain": [
              "<Figure size 600x400 with 1 Axes>"
            ]
          },
          "metadata": {
            "tags": []
          }
        }
      ]
    },
    {
      "cell_type": "code",
      "metadata": {
        "id": "IL_A_Vkv5zmt"
      },
      "source": [
        "# Use an IndexSplitter and load using TabularPandas then to a dataloader\n",
        "\n",
        "t_valid = t[['timestamp', 'building_id', 'meter_reading', 'meter', 'air_temperature', 'dew_temperature', 'hour']].dropna()\n",
        "\n",
        "# 2-fold cross-validation. Build 2 models, each with half the year as training data\n",
        "splits1=MaskSplitter(t['timestamp'] < '2016-07-01')(range_of(t_valid))\n",
        "to1 = TabularPandas(t, procs=[Categorify, FillMissing],#, Normalize],\n",
        "                   cat_names = [],#'building_id', 'meter'],\n",
        "                   cont_names = ['air_temperature', 'hour', 'dew_temperature'],\n",
        "                   y_names='meter_reading',\n",
        "                   splits=splits1)\n",
        "dls1 = to1.dataloaders(bs=64)"
      ],
      "execution_count": 20,
      "outputs": []
    },
    {
      "cell_type": "markdown",
      "metadata": {
        "id": "pTLrzxiadE_e"
      },
      "source": [
        "Load entire dataset or subset:"
      ]
    },
    {
      "cell_type": "code",
      "metadata": {
        "cellView": "form",
        "id": "SkPycSC7zTr_"
      },
      "source": [
        "#@title\n",
        "# Load the entire dataset into a TabularDataLoader\n",
        "\n",
        "cat_names = ['building_id', 'meter', 'site_id', 'primary_use']\n",
        "#cont_names = ['timestamp', 'square_feet', 'year_built', 'floor_count', 'air_temperature', 'cloud_coverage', 'dew_temperature', 'precip_depth_1_hr', 'sea_level_pressure', 'wind_direction', 'wind_speed', 'time_diff', 'timestamp_gmt']\n",
        "cont_names = ['square_feet', 'year_built', 'floor_count', 'air_temperature', 'cloud_coverage', 'dew_temperature', 'precip_depth_1_hr', 'sea_level_pressure', 'wind_direction', 'wind_speed']\n",
        "procs = [Categorify, FillMissing, Normalize]\n",
        "dls = TabularDataLoaders.from_df(train.head(64*64), procs=procs, cat_names=cat_names, cont_names=cont_names, \n",
        "                                 y_names=\"meter_reading\")"
      ],
      "execution_count": null,
      "outputs": []
    },
    {
      "cell_type": "code",
      "metadata": {
        "cellView": "form",
        "id": "YBXtu10Z2mLu"
      },
      "source": [
        "#@title\n",
        "# Load a smaller dataset into a TabularDataLoader\n",
        "\n",
        "t = train[['meter_reading','building_id','meter','air_temperature']]\n",
        "from fastai.tabular.all import *\n",
        "cat_names = ['building_id','meter']\n",
        "cont_names = ['air_temperature']\n",
        "procs = [Categorify, FillMissing, Normalize]\n",
        "dls = TabularDataLoaders.from_df(t.head(64*1000), procs=procs, cat_names=cat_names, cont_names=cont_names, \n",
        "                                 y_names=\"meter_reading\")"
      ],
      "execution_count": null,
      "outputs": []
    },
    {
      "cell_type": "code",
      "metadata": {
        "colab": {
          "base_uri": "https://localhost:8080/",
          "height": 359
        },
        "id": "NIBKGHdO0lPc",
        "outputId": "db3d29f0-3044-4dca-f888-70aef180eb2f"
      },
      "source": [
        "dls1.show_batch()"
      ],
      "execution_count": 21,
      "outputs": [
        {
          "output_type": "display_data",
          "data": {
            "text/html": [
              "<table border=\"1\" class=\"dataframe\">\n",
              "  <thead>\n",
              "    <tr style=\"text-align: right;\">\n",
              "      <th></th>\n",
              "      <th>air_temperature_na</th>\n",
              "      <th>dew_temperature_na</th>\n",
              "      <th>air_temperature</th>\n",
              "      <th>hour</th>\n",
              "      <th>dew_temperature</th>\n",
              "      <th>meter_reading</th>\n",
              "    </tr>\n",
              "  </thead>\n",
              "  <tbody>\n",
              "    <tr>\n",
              "      <th>0</th>\n",
              "      <td>False</td>\n",
              "      <td>False</td>\n",
              "      <td>2.200000</td>\n",
              "      <td>4.0</td>\n",
              "      <td>0.000000</td>\n",
              "      <td>2744.139893</td>\n",
              "    </tr>\n",
              "    <tr>\n",
              "      <th>1</th>\n",
              "      <td>False</td>\n",
              "      <td>False</td>\n",
              "      <td>23.900000</td>\n",
              "      <td>11.0</td>\n",
              "      <td>15.000000</td>\n",
              "      <td>1108.400024</td>\n",
              "    </tr>\n",
              "    <tr>\n",
              "      <th>2</th>\n",
              "      <td>False</td>\n",
              "      <td>False</td>\n",
              "      <td>0.600000</td>\n",
              "      <td>14.0</td>\n",
              "      <td>-5.000000</td>\n",
              "      <td>3833.979980</td>\n",
              "    </tr>\n",
              "    <tr>\n",
              "      <th>3</th>\n",
              "      <td>False</td>\n",
              "      <td>False</td>\n",
              "      <td>7.800000</td>\n",
              "      <td>3.0</td>\n",
              "      <td>-0.600000</td>\n",
              "      <td>1808.589966</td>\n",
              "    </tr>\n",
              "    <tr>\n",
              "      <th>4</th>\n",
              "      <td>False</td>\n",
              "      <td>False</td>\n",
              "      <td>26.700001</td>\n",
              "      <td>19.0</td>\n",
              "      <td>15.600000</td>\n",
              "      <td>916.015991</td>\n",
              "    </tr>\n",
              "    <tr>\n",
              "      <th>5</th>\n",
              "      <td>False</td>\n",
              "      <td>False</td>\n",
              "      <td>21.100000</td>\n",
              "      <td>15.0</td>\n",
              "      <td>10.600000</td>\n",
              "      <td>1220.699951</td>\n",
              "    </tr>\n",
              "    <tr>\n",
              "      <th>6</th>\n",
              "      <td>False</td>\n",
              "      <td>False</td>\n",
              "      <td>14.400000</td>\n",
              "      <td>23.0</td>\n",
              "      <td>5.000000</td>\n",
              "      <td>1101.560059</td>\n",
              "    </tr>\n",
              "    <tr>\n",
              "      <th>7</th>\n",
              "      <td>False</td>\n",
              "      <td>False</td>\n",
              "      <td>22.799999</td>\n",
              "      <td>11.0</td>\n",
              "      <td>20.600000</td>\n",
              "      <td>1129.880005</td>\n",
              "    </tr>\n",
              "    <tr>\n",
              "      <th>8</th>\n",
              "      <td>False</td>\n",
              "      <td>False</td>\n",
              "      <td>23.900000</td>\n",
              "      <td>6.0</td>\n",
              "      <td>22.200001</td>\n",
              "      <td>600.585999</td>\n",
              "    </tr>\n",
              "    <tr>\n",
              "      <th>9</th>\n",
              "      <td>False</td>\n",
              "      <td>False</td>\n",
              "      <td>8.900000</td>\n",
              "      <td>20.0</td>\n",
              "      <td>5.000000</td>\n",
              "      <td>1697.270020</td>\n",
              "    </tr>\n",
              "  </tbody>\n",
              "</table>"
            ],
            "text/plain": [
              "<IPython.core.display.HTML object>"
            ]
          },
          "metadata": {
            "tags": []
          }
        }
      ]
    },
    {
      "cell_type": "code",
      "metadata": {
        "colab": {
          "base_uri": "https://localhost:8080/",
          "height": 204
        },
        "id": "NiXgG2eMyxPj",
        "outputId": "7c3a8ab3-b5c1-405c-8f42-355ff0e3f6eb"
      },
      "source": [
        "# Train a model\n",
        "\n",
        "learn = tabular_learner(dls, metrics=rmse)\n",
        "learn.summary()\n",
        "# Exploring the learning rates\n",
        "#learn.lr_find(stop_div=False)\n",
        "learn.fit_one_cycle(10, lr_max=1e-3)"
      ],
      "execution_count": null,
      "outputs": [
        {
          "output_type": "display_data",
          "data": {
            "text/html": [
              ""
            ],
            "text/plain": [
              "<IPython.core.display.HTML object>"
            ]
          },
          "metadata": {
            "tags": []
          }
        },
        {
          "output_type": "display_data",
          "data": {
            "text/html": [
              "<table border=\"1\" class=\"dataframe\">\n",
              "  <thead>\n",
              "    <tr style=\"text-align: left;\">\n",
              "      <th>epoch</th>\n",
              "      <th>train_loss</th>\n",
              "      <th>valid_loss</th>\n",
              "      <th>_rmse</th>\n",
              "      <th>time</th>\n",
              "    </tr>\n",
              "  </thead>\n",
              "  <tbody>\n",
              "    <tr>\n",
              "      <td>0</td>\n",
              "      <td>9223552.000000</td>\n",
              "      <td>9131751.000000</td>\n",
              "      <td>3021.878906</td>\n",
              "      <td>00:00</td>\n",
              "    </tr>\n",
              "    <tr>\n",
              "      <td>1</td>\n",
              "      <td>9164484.000000</td>\n",
              "      <td>9068182.000000</td>\n",
              "      <td>3011.342285</td>\n",
              "      <td>00:00</td>\n",
              "    </tr>\n",
              "    <tr>\n",
              "      <td>2</td>\n",
              "      <td>9072085.000000</td>\n",
              "      <td>8984372.000000</td>\n",
              "      <td>2997.394287</td>\n",
              "      <td>00:00</td>\n",
              "    </tr>\n",
              "    <tr>\n",
              "      <td>3</td>\n",
              "      <td>9009111.000000</td>\n",
              "      <td>8955631.000000</td>\n",
              "      <td>2992.595703</td>\n",
              "      <td>00:00</td>\n",
              "    </tr>\n",
              "    <tr>\n",
              "      <td>4</td>\n",
              "      <td>9058833.000000</td>\n",
              "      <td>8946104.000000</td>\n",
              "      <td>2991.003906</td>\n",
              "      <td>00:01</td>\n",
              "    </tr>\n",
              "  </tbody>\n",
              "</table>"
            ],
            "text/plain": [
              "<IPython.core.display.HTML object>"
            ]
          },
          "metadata": {
            "tags": []
          }
        }
      ]
    },
    {
      "cell_type": "code",
      "metadata": {
        "colab": {
          "base_uri": "https://localhost:8080/",
          "height": 328
        },
        "id": "uLhHJg7D-s9w",
        "outputId": "da700b55-2489-4097-db99-62d4a2f1aea4"
      },
      "source": [
        "learn.show_results()"
      ],
      "execution_count": null,
      "outputs": [
        {
          "output_type": "display_data",
          "data": {
            "text/html": [
              ""
            ],
            "text/plain": [
              "<IPython.core.display.HTML object>"
            ]
          },
          "metadata": {
            "tags": []
          }
        },
        {
          "output_type": "display_data",
          "data": {
            "text/html": [
              "<table border=\"1\" class=\"dataframe\">\n",
              "  <thead>\n",
              "    <tr style=\"text-align: right;\">\n",
              "      <th></th>\n",
              "      <th>building_id</th>\n",
              "      <th>meter</th>\n",
              "      <th>air_temperature</th>\n",
              "      <th>meter_reading</th>\n",
              "      <th>meter_reading_pred</th>\n",
              "    </tr>\n",
              "  </thead>\n",
              "  <tbody>\n",
              "    <tr>\n",
              "      <th>0</th>\n",
              "      <td>1.0</td>\n",
              "      <td>1.0</td>\n",
              "      <td>-1.700000</td>\n",
              "      <td>3389.649902</td>\n",
              "      <td>NaN</td>\n",
              "    </tr>\n",
              "    <tr>\n",
              "      <th>1</th>\n",
              "      <td>1.0</td>\n",
              "      <td>1.0</td>\n",
              "      <td>-1.100000</td>\n",
              "      <td>4208.009766</td>\n",
              "      <td>NaN</td>\n",
              "    </tr>\n",
              "    <tr>\n",
              "      <th>2</th>\n",
              "      <td>1.0</td>\n",
              "      <td>1.0</td>\n",
              "      <td>14.400000</td>\n",
              "      <td>581.054993</td>\n",
              "      <td>NaN</td>\n",
              "    </tr>\n",
              "    <tr>\n",
              "      <th>3</th>\n",
              "      <td>1.0</td>\n",
              "      <td>1.0</td>\n",
              "      <td>8.900000</td>\n",
              "      <td>2277.340088</td>\n",
              "      <td>NaN</td>\n",
              "    </tr>\n",
              "    <tr>\n",
              "      <th>4</th>\n",
              "      <td>1.0</td>\n",
              "      <td>1.0</td>\n",
              "      <td>21.100000</td>\n",
              "      <td>595.703003</td>\n",
              "      <td>NaN</td>\n",
              "    </tr>\n",
              "    <tr>\n",
              "      <th>5</th>\n",
              "      <td>1.0</td>\n",
              "      <td>1.0</td>\n",
              "      <td>29.400000</td>\n",
              "      <td>127.930000</td>\n",
              "      <td>NaN</td>\n",
              "    </tr>\n",
              "    <tr>\n",
              "      <th>6</th>\n",
              "      <td>1.0</td>\n",
              "      <td>1.0</td>\n",
              "      <td>-7.200000</td>\n",
              "      <td>4558.589844</td>\n",
              "      <td>NaN</td>\n",
              "    </tr>\n",
              "    <tr>\n",
              "      <th>7</th>\n",
              "      <td>1.0</td>\n",
              "      <td>1.0</td>\n",
              "      <td>26.700001</td>\n",
              "      <td>916.015991</td>\n",
              "      <td>NaN</td>\n",
              "    </tr>\n",
              "    <tr>\n",
              "      <th>8</th>\n",
              "      <td>1.0</td>\n",
              "      <td>1.0</td>\n",
              "      <td>-5.000000</td>\n",
              "      <td>5277.339844</td>\n",
              "      <td>NaN</td>\n",
              "    </tr>\n",
              "  </tbody>\n",
              "</table>"
            ],
            "text/plain": [
              "<IPython.core.display.HTML object>"
            ]
          },
          "metadata": {
            "tags": []
          }
        }
      ]
    },
    {
      "cell_type": "code",
      "metadata": {
        "colab": {
          "base_uri": "https://localhost:8080/"
        },
        "id": "5ESviZk0Fuqk",
        "outputId": "23127aca-bac3-4919-c159-84760262337d"
      },
      "source": [
        "# Linear regression using scikit-learn\n",
        "from sklearn.linear_model import LinearRegression\n",
        "from sklearn.metrics import mean_squared_error, r2_score\n",
        "\n",
        "xs,y = to1.train.xs,to1.train.y\n",
        "valid_xs,valid_y = to1.valid.xs,to1.valid.y\n",
        "m = LinearRegression()\n",
        "m.fit(xs.to_numpy(), y);\n",
        "print(\"R2 score on training set: \" + str(m.score(xs, y)))\n",
        "print(\"R2 score on validation set: \" + str(m.score(valid_xs, valid_y)))\n",
        "print(\"Coefficients: \" + str(m.coef_))\n",
        "print(\"Intercept: \" + str(m.intercept_))\n",
        "print(\"Predictions on training set: \" + str(m.predict(xs)))\n",
        "print(\"Predictions on validation set: \" + str(m.predict(valid_xs)))\n",
        "\n"
      ],
      "execution_count": 62,
      "outputs": [
        {
          "output_type": "stream",
          "text": [
            "R2 score on training set: 0.8810902988755484\n",
            "R2 score on validation set: 0.8485435135643281\n",
            "Coefficients: [1840.6965   1840.6979    -76.61804     9.879822  -53.31836 ]\n",
            "Intercept: -515.6162\n",
            "Predictions on training set: [1256.114  1304.303  1503.0835 ... 4090.1191 4177.961  4284.7993]\n",
            "Predictions on validation set: [4282.603  4292.4824 4232.0625 ... 1282.0806 1317.5898 1399.0703]\n"
          ],
          "name": "stdout"
        }
      ]
    },
    {
      "cell_type": "code",
      "metadata": {
        "colab": {
          "base_uri": "https://localhost:8080/",
          "height": 384
        },
        "id": "6L4tCE79n8aD",
        "outputId": "7e4118ff-5794-43d6-e8ab-0023e70c85b7"
      },
      "source": [
        "#plt.scatter(xs['air_temperature'],y)\n",
        "plt.scatter(valid_xs['air_temperature'], valid_y)\n",
        "plt.scatter(valid_xs['air_temperature'], m.predict(valid_xs),color='orange')\n"
      ],
      "execution_count": 64,
      "outputs": [
        {
          "output_type": "execute_result",
          "data": {
            "text/plain": [
              "<matplotlib.collections.PathCollection at 0x7f6b397fda90>"
            ]
          },
          "metadata": {
            "tags": []
          },
          "execution_count": 64
        },
        {
          "output_type": "display_data",
          "data": {
            "image/png": "[encoded data removed]",
            "text/plain": [
              "<Figure size 600x400 with 1 Axes>"
            ]
          },
          "metadata": {
            "tags": []
          }
        }
      ]
    },
    {
      "cell_type": "code",
      "metadata": {
        "id": "p-g1KsCTHZeq",
        "colab": {
          "base_uri": "https://localhost:8080/"
        },
        "outputId": "a2f75ef0-8370-4725-da1c-621b8e45a78a"
      },
      "source": [
        "# Linear regression using PyTorch\n",
        "\n",
        "t_valid = t[['building_id', 'meter', 'air_temperature', 'dew_temperature', 'hour', 'meter_reading']].dropna()\n",
        "inputs = torch.from_numpy(t_valid[['air_temperature', 'dew_temperature', 'hour']].values).float()\n",
        "targets = torch.from_numpy(t_valid[['meter_reading']].values).float()\n",
        "\n",
        "# Import tensor dataset & data loader\n",
        "from torch.utils.data import TensorDataset, DataLoader\n",
        "\n",
        "# Define dataset\n",
        "train_ds = TensorDataset(inputs, targets)\n",
        "print(train_ds)\n",
        "\n",
        "# Define data loader\n",
        "batch_size = 64\n",
        "train_dl = DataLoader(train_ds, batch_size, shuffle=True)\n",
        "next(iter(train_dl))\n",
        "\n",
        "# Define model\n",
        "model = nn.Linear(inputs.shape[1], targets.shape[1])\n",
        "print(model.weight)\n",
        "print(model.bias)\n",
        "\n",
        "# Define optimizer\n",
        "opt = torch.optim.SGD(model.parameters(), lr=.001)\n",
        "\n",
        "# Define loss function\n",
        "import torch.nn.functional as F\n",
        "loss_fn = F.mse_loss\n",
        "loss = loss_fn(model(inputs), targets)\n",
        "print(loss)\n",
        "\n",
        "def fit(num_epochs, model, loss_fn, opt):\n",
        "    for epoch in range(num_epochs):\n",
        "        for xb,yb in train_dl:\n",
        "            # Generate predictions\n",
        "            pred = model(xb)\n",
        "            loss = loss_fn(pred, yb)\n",
        "            # Perform gradient descent\n",
        "            loss.backward()\n",
        "            opt.step()\n",
        "            opt.zero_grad()\n",
        "        print('Training loss: ', loss_fn(model(inputs), targets))\n",
        "\n",
        "# Train the model for several epochs\n",
        "fit(50, model, loss_fn, opt)\n",
        "\n",
        "# Generate predictions\n",
        "preds = model(inputs)\n",
        "print(\"R2 score on training set: \" + str(r2_score(preds.detach().numpy(), targets)))\n",
        "#print(\"R2 score on validation set: \" + str(r2_score(valid_y, valid_y)))\n",
        "print(\"Coefficients: \" + str(model.weight))\n",
        "print(\"Intercept\" + str(model.bias))\n",
        "print(\"Predictions on training set: \" + str(model(inputs)))"
      ],
      "execution_count": 66,
      "outputs": [
        {
          "output_type": "stream",
          "text": [
            "<torch.utils.data.dataset.TensorDataset object at 0x7f6b3963d390>\n",
            "Parameter containing:\n",
            "tensor([[ 0.1295, -0.2783,  0.5605]], requires_grad=True)\n",
            "Parameter containing:\n",
            "tensor([-0.0850], requires_grad=True)\n",
            "tensor(9114169., grad_fn=<MseLossBackward>)\n",
            "Training loss:  tensor(2690256.7500, grad_fn=<MseLossBackward>)\n",
            "Training loss:  tensor(2555854.2500, grad_fn=<MseLossBackward>)\n",
            "Training loss:  tensor(2258628.5000, grad_fn=<MseLossBackward>)\n",
            "Training loss:  tensor(2089892.6250, grad_fn=<MseLossBackward>)\n",
            "Training loss:  tensor(2050139.5000, grad_fn=<MseLossBackward>)\n",
            "Training loss:  tensor(1666968.1250, grad_fn=<MseLossBackward>)\n",
            "Training loss:  tensor(1576246., grad_fn=<MseLossBackward>)\n",
            "Training loss:  tensor(1780590.2500, grad_fn=<MseLossBackward>)\n",
            "Training loss:  tensor(1356637.2500, grad_fn=<MseLossBackward>)\n",
            "Training loss:  tensor(1285233.3750, grad_fn=<MseLossBackward>)\n",
            "Training loss:  tensor(1106580.8750, grad_fn=<MseLossBackward>)\n",
            "Training loss:  tensor(1024451.7500, grad_fn=<MseLossBackward>)\n",
            "Training loss:  tensor(1109534.3750, grad_fn=<MseLossBackward>)\n",
            "Training loss:  tensor(1093225.3750, grad_fn=<MseLossBackward>)\n",
            "Training loss:  tensor(892570.3750, grad_fn=<MseLossBackward>)\n",
            "Training loss:  tensor(802612.3750, grad_fn=<MseLossBackward>)\n",
            "Training loss:  tensor(888137.5000, grad_fn=<MseLossBackward>)\n",
            "Training loss:  tensor(849701.7500, grad_fn=<MseLossBackward>)\n",
            "Training loss:  tensor(686799.6875, grad_fn=<MseLossBackward>)\n",
            "Training loss:  tensor(974367.3125, grad_fn=<MseLossBackward>)\n",
            "Training loss:  tensor(615784.8125, grad_fn=<MseLossBackward>)\n",
            "Training loss:  tensor(684251.4375, grad_fn=<MseLossBackward>)\n",
            "Training loss:  tensor(565691.8750, grad_fn=<MseLossBackward>)\n",
            "Training loss:  tensor(550925.4375, grad_fn=<MseLossBackward>)\n",
            "Training loss:  tensor(541209.1250, grad_fn=<MseLossBackward>)\n",
            "Training loss:  tensor(837431.3125, grad_fn=<MseLossBackward>)\n",
            "Training loss:  tensor(512387.6875, grad_fn=<MseLossBackward>)\n",
            "Training loss:  tensor(527561.1250, grad_fn=<MseLossBackward>)\n",
            "Training loss:  tensor(607093.8750, grad_fn=<MseLossBackward>)\n",
            "Training loss:  tensor(584904.9375, grad_fn=<MseLossBackward>)\n",
            "Training loss:  tensor(468454.7500, grad_fn=<MseLossBackward>)\n",
            "Training loss:  tensor(451900.0625, grad_fn=<MseLossBackward>)\n",
            "Training loss:  tensor(448698.4062, grad_fn=<MseLossBackward>)\n",
            "Training loss:  tensor(436009.5000, grad_fn=<MseLossBackward>)\n",
            "Training loss:  tensor(431757.5000, grad_fn=<MseLossBackward>)\n",
            "Training loss:  tensor(437448.3750, grad_fn=<MseLossBackward>)\n",
            "Training loss:  tensor(451646.7812, grad_fn=<MseLossBackward>)\n",
            "Training loss:  tensor(427734.4062, grad_fn=<MseLossBackward>)\n",
            "Training loss:  tensor(553717.0625, grad_fn=<MseLossBackward>)\n",
            "Training loss:  tensor(482963.6875, grad_fn=<MseLossBackward>)\n",
            "Training loss:  tensor(426271.4062, grad_fn=<MseLossBackward>)\n",
            "Training loss:  tensor(419478.4375, grad_fn=<MseLossBackward>)\n",
            "Training loss:  tensor(408858.2812, grad_fn=<MseLossBackward>)\n",
            "Training loss:  tensor(420657.5000, grad_fn=<MseLossBackward>)\n",
            "Training loss:  tensor(398064.8750, grad_fn=<MseLossBackward>)\n",
            "Training loss:  tensor(457668.6250, grad_fn=<MseLossBackward>)\n",
            "Training loss:  tensor(404536.5938, grad_fn=<MseLossBackward>)\n",
            "Training loss:  tensor(395570.3750, grad_fn=<MseLossBackward>)\n",
            "Training loss:  tensor(411771.4375, grad_fn=<MseLossBackward>)\n",
            "Training loss:  tensor(390801.3438, grad_fn=<MseLossBackward>)\n",
            "R2 score on training set: 0.8712621661075232\n",
            "Coefficients: Parameter containing:\n",
            "tensor([[-114.7180,  -30.4199,   22.2907]], requires_grad=True)\n",
            "InterceptParameter containing:\n",
            "tensor([3298.4480], requires_grad=True)\n",
            "Predictions on training set: tensor([[4446.8682],\n",
            "        [4469.1587],\n",
            "        [4415.8389],\n",
            "        ...,\n",
            "        [4515.7710],\n",
            "        [4606.8926],\n",
            "        [4679.7622]], grad_fn=<AddmmBackward>)\n"
          ],
          "name": "stdout"
        }
      ]
    },
    {
      "cell_type": "markdown",
      "metadata": {
        "id": "xLttyPH__Ug-"
      },
      "source": [
        "To do:\n",
        "\n",
        "\n",
        "1.   Figure out why continuous variables are shown as boolean\n",
        "2.   Handle dates\n",
        "3.   Create training and validation sets, rather than using TabularDataLoader\n",
        "\n"
      ]
    }
  ]
}