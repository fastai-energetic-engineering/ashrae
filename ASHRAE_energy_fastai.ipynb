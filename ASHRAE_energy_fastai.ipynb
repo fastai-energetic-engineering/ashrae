{
  "nbformat": 4,
  "nbformat_minor": 0,
  "metadata": {
    "colab": {
      "name": "ASHRAE energy fastai.ipynb",
      "provenance": [],
      "collapsed_sections": [],
      "include_colab_link": true
    },
    "kernelspec": {
      "name": "python3",
      "display_name": "Python 3"
    },
    "language_info": {
      "name": "python"
    },
    "accelerator": "GPU"
  },
  "cells": [
    {
      "cell_type": "markdown",
      "metadata": {
        "id": "view-in-github",
        "colab_type": "text"
      },
      "source": [
        "<a href=\"https://colab.research.google.com/github/fastai-energetic-engineering/ashrae/blob/master/ASHRAE_energy_fastai.ipynb\" target=\"_parent\"><img src=\"https://colab.research.google.com/assets/colab-badge.svg\" alt=\"Open In Colab\"/></a>"
      ]
    },
    {
      "cell_type": "markdown",
      "metadata": {
        "id": "q0AxBz6y2oWi"
      },
      "source": [
        "# ASHRAE Energy Prediction\n",
        "\n",
        "- toc: true\n",
        "- branch: master\n",
        "- badges: true\n",
        "- comments: true\n",
        "- categories: [fastai, kaggle]\n",
        "- image: images/some_folder/your_image.png\n",
        "- hide: false\n",
        "- search_exclude: false\n"
      ]
    },
    {
      "cell_type": "code",
      "metadata": {
        "id": "ijXYPvlA6Ee0",
        "colab": {
          "base_uri": "https://localhost:8080/"
        },
        "outputId": "b4bf2304-18a9-405a-9155-af3df8b97ec6"
      },
      "source": [
        "#collapse\n",
        "!pip install -Uqq fastbook\n",
        "import fastbook\n",
        "fastbook.setup_book()"
      ],
      "execution_count": 1,
      "outputs": [
        {
          "output_type": "stream",
          "text": [
            "\u001b[K     |████████████████████████████████| 727kB 27.8MB/s \n",
            "\u001b[K     |████████████████████████████████| 1.2MB 50.3MB/s \n",
            "\u001b[K     |████████████████████████████████| 51kB 9.2MB/s \n",
            "\u001b[K     |████████████████████████████████| 194kB 52.1MB/s \n",
            "\u001b[K     |████████████████████████████████| 61kB 11.0MB/s \n",
            "\u001b[K     |████████████████████████████████| 61kB 10.6MB/s \n",
            "\u001b[?25hMounted at /content/gdrive\n"
          ],
          "name": "stdout"
        }
      ]
    },
    {
      "cell_type": "code",
      "metadata": {
        "id": "PWNQebEr8F8k"
      },
      "source": [
        "#collapse\n",
        "#from fastbook import *\n",
        "import os\n",
        "#from google.colab import files\n",
        "import pandas as pd\n",
        "import datetime as dt\n",
        "\n",
        "from fastai.tabular.all import *\n"
      ],
      "execution_count": 13,
      "outputs": []
    },
    {
      "cell_type": "code",
      "metadata": {
        "id": "lE1XHTz751AF"
      },
      "source": [
        "# Load ASHRAE energy dataset from your google drive\n",
        "p = 'gdrive/MyDrive/Colab Notebooks/ashrae'\n",
        "os.chdir(p)"
      ],
      "execution_count": 3,
      "outputs": []
    },
    {
      "cell_type": "markdown",
      "metadata": {
        "id": "GC6SBxxh9-n9"
      },
      "source": [
        "## Joining Tables"
      ]
    },
    {
      "cell_type": "markdown",
      "metadata": {
        "id": "URZMmHULCqnG"
      },
      "source": [
        "Our training data comprised of three tables:\n",
        "- `building_metadata.csv`\n",
        "- `weather_train.csv`\n",
        "- `train.csv`\n",
        "\n",
        "We need to join the tables. First, let's see what's in the tables."
      ]
    },
    {
      "cell_type": "code",
      "metadata": {
        "id": "1ULRNFo8DZKI"
      },
      "source": [
        "building = pd.read_csv('data/building_metadata.csv')\n",
        "weather = pd.read_csv('data/weather_train.csv')\n",
        "train = pd.read_csv('data/train.csv')"
      ],
      "execution_count": 4,
      "outputs": []
    },
    {
      "cell_type": "markdown",
      "metadata": {
        "id": "xyONjqf1FGx1"
      },
      "source": [
        "`building` contains the buildings' metadata."
      ]
    },
    {
      "cell_type": "code",
      "metadata": {
        "colab": {
          "base_uri": "https://localhost:8080/",
          "height": 204
        },
        "id": "2HEZZL4-Dp5q",
        "outputId": "12a5c70e-d21f-4e7d-e305-16b803c0b98e"
      },
      "source": [
        "building.head()"
      ],
      "execution_count": 5,
      "outputs": [
        {
          "output_type": "execute_result",
          "data": {
            "text/html": [
              "<div>\n",
              "<style scoped>\n",
              "    .dataframe tbody tr th:only-of-type {\n",
              "        vertical-align: middle;\n",
              "    }\n",
              "\n",
              "    .dataframe tbody tr th {\n",
              "        vertical-align: top;\n",
              "    }\n",
              "\n",
              "    .dataframe thead th {\n",
              "        text-align: right;\n",
              "    }\n",
              "</style>\n",
              "<table border=\"1\" class=\"dataframe\">\n",
              "  <thead>\n",
              "    <tr style=\"text-align: right;\">\n",
              "      <th></th>\n",
              "      <th>site_id</th>\n",
              "      <th>building_id</th>\n",
              "      <th>primary_use</th>\n",
              "      <th>square_feet</th>\n",
              "      <th>year_built</th>\n",
              "      <th>floor_count</th>\n",
              "    </tr>\n",
              "  </thead>\n",
              "  <tbody>\n",
              "    <tr>\n",
              "      <th>0</th>\n",
              "      <td>0</td>\n",
              "      <td>0</td>\n",
              "      <td>Education</td>\n",
              "      <td>7432</td>\n",
              "      <td>2008.0</td>\n",
              "      <td>NaN</td>\n",
              "    </tr>\n",
              "    <tr>\n",
              "      <th>1</th>\n",
              "      <td>0</td>\n",
              "      <td>1</td>\n",
              "      <td>Education</td>\n",
              "      <td>2720</td>\n",
              "      <td>2004.0</td>\n",
              "      <td>NaN</td>\n",
              "    </tr>\n",
              "    <tr>\n",
              "      <th>2</th>\n",
              "      <td>0</td>\n",
              "      <td>2</td>\n",
              "      <td>Education</td>\n",
              "      <td>5376</td>\n",
              "      <td>1991.0</td>\n",
              "      <td>NaN</td>\n",
              "    </tr>\n",
              "    <tr>\n",
              "      <th>3</th>\n",
              "      <td>0</td>\n",
              "      <td>3</td>\n",
              "      <td>Education</td>\n",
              "      <td>23685</td>\n",
              "      <td>2002.0</td>\n",
              "      <td>NaN</td>\n",
              "    </tr>\n",
              "    <tr>\n",
              "      <th>4</th>\n",
              "      <td>0</td>\n",
              "      <td>4</td>\n",
              "      <td>Education</td>\n",
              "      <td>116607</td>\n",
              "      <td>1975.0</td>\n",
              "      <td>NaN</td>\n",
              "    </tr>\n",
              "  </tbody>\n",
              "</table>\n",
              "</div>"
            ],
            "text/plain": [
              "   site_id  building_id primary_use  square_feet  year_built  floor_count\n",
              "0        0            0   Education         7432      2008.0          NaN\n",
              "1        0            1   Education         2720      2004.0          NaN\n",
              "2        0            2   Education         5376      1991.0          NaN\n",
              "3        0            3   Education        23685      2002.0          NaN\n",
              "4        0            4   Education       116607      1975.0          NaN"
            ]
          },
          "metadata": {
            "tags": []
          },
          "execution_count": 5
        }
      ]
    },
    {
      "cell_type": "markdown",
      "metadata": {
        "id": "FP_tnigiGBjr"
      },
      "source": [
        "- `site_id` - Foreign key for the weather files.\n",
        "- `building_id` - Foreign key for training.csv\n",
        "- `primary_use` - Indicator of the primary category of activities for the building based on EnergyStar property type definitions\n",
        "- `square_feet` - Gross floor area of the building\n",
        "- `year_built` - Year building was opened\n",
        "- `floor_count` - Number of floors of the building"
      ]
    },
    {
      "cell_type": "markdown",
      "metadata": {
        "id": "aa_BhqKwFlcU"
      },
      "source": [
        "`weather` contains weather data from the closest meteorological station."
      ]
    },
    {
      "cell_type": "code",
      "metadata": {
        "colab": {
          "base_uri": "https://localhost:8080/",
          "height": 204
        },
        "id": "wu6izhBiDtLy",
        "outputId": "5175ab01-f36d-4fa7-b490-217d6bcb02fb"
      },
      "source": [
        "weather.head()"
      ],
      "execution_count": 6,
      "outputs": [
        {
          "output_type": "execute_result",
          "data": {
            "text/html": [
              "<div>\n",
              "<style scoped>\n",
              "    .dataframe tbody tr th:only-of-type {\n",
              "        vertical-align: middle;\n",
              "    }\n",
              "\n",
              "    .dataframe tbody tr th {\n",
              "        vertical-align: top;\n",
              "    }\n",
              "\n",
              "    .dataframe thead th {\n",
              "        text-align: right;\n",
              "    }\n",
              "</style>\n",
              "<table border=\"1\" class=\"dataframe\">\n",
              "  <thead>\n",
              "    <tr style=\"text-align: right;\">\n",
              "      <th></th>\n",
              "      <th>site_id</th>\n",
              "      <th>timestamp</th>\n",
              "      <th>air_temperature</th>\n",
              "      <th>cloud_coverage</th>\n",
              "      <th>dew_temperature</th>\n",
              "      <th>precip_depth_1_hr</th>\n",
              "      <th>sea_level_pressure</th>\n",
              "      <th>wind_direction</th>\n",
              "      <th>wind_speed</th>\n",
              "    </tr>\n",
              "  </thead>\n",
              "  <tbody>\n",
              "    <tr>\n",
              "      <th>0</th>\n",
              "      <td>0</td>\n",
              "      <td>2016-01-01 00:00:00</td>\n",
              "      <td>25.0</td>\n",
              "      <td>6.0</td>\n",
              "      <td>20.0</td>\n",
              "      <td>NaN</td>\n",
              "      <td>1019.7</td>\n",
              "      <td>0.0</td>\n",
              "      <td>0.0</td>\n",
              "    </tr>\n",
              "    <tr>\n",
              "      <th>1</th>\n",
              "      <td>0</td>\n",
              "      <td>2016-01-01 01:00:00</td>\n",
              "      <td>24.4</td>\n",
              "      <td>NaN</td>\n",
              "      <td>21.1</td>\n",
              "      <td>-1.0</td>\n",
              "      <td>1020.2</td>\n",
              "      <td>70.0</td>\n",
              "      <td>1.5</td>\n",
              "    </tr>\n",
              "    <tr>\n",
              "      <th>2</th>\n",
              "      <td>0</td>\n",
              "      <td>2016-01-01 02:00:00</td>\n",
              "      <td>22.8</td>\n",
              "      <td>2.0</td>\n",
              "      <td>21.1</td>\n",
              "      <td>0.0</td>\n",
              "      <td>1020.2</td>\n",
              "      <td>0.0</td>\n",
              "      <td>0.0</td>\n",
              "    </tr>\n",
              "    <tr>\n",
              "      <th>3</th>\n",
              "      <td>0</td>\n",
              "      <td>2016-01-01 03:00:00</td>\n",
              "      <td>21.1</td>\n",
              "      <td>2.0</td>\n",
              "      <td>20.6</td>\n",
              "      <td>0.0</td>\n",
              "      <td>1020.1</td>\n",
              "      <td>0.0</td>\n",
              "      <td>0.0</td>\n",
              "    </tr>\n",
              "    <tr>\n",
              "      <th>4</th>\n",
              "      <td>0</td>\n",
              "      <td>2016-01-01 04:00:00</td>\n",
              "      <td>20.0</td>\n",
              "      <td>2.0</td>\n",
              "      <td>20.0</td>\n",
              "      <td>-1.0</td>\n",
              "      <td>1020.0</td>\n",
              "      <td>250.0</td>\n",
              "      <td>2.6</td>\n",
              "    </tr>\n",
              "  </tbody>\n",
              "</table>\n",
              "</div>"
            ],
            "text/plain": [
              "   site_id            timestamp  air_temperature  cloud_coverage  \\\n",
              "0        0  2016-01-01 00:00:00             25.0             6.0   \n",
              "1        0  2016-01-01 01:00:00             24.4             NaN   \n",
              "2        0  2016-01-01 02:00:00             22.8             2.0   \n",
              "3        0  2016-01-01 03:00:00             21.1             2.0   \n",
              "4        0  2016-01-01 04:00:00             20.0             2.0   \n",
              "\n",
              "   dew_temperature  precip_depth_1_hr  sea_level_pressure  wind_direction  \\\n",
              "0             20.0                NaN              1019.7             0.0   \n",
              "1             21.1               -1.0              1020.2            70.0   \n",
              "2             21.1                0.0              1020.2             0.0   \n",
              "3             20.6                0.0              1020.1             0.0   \n",
              "4             20.0               -1.0              1020.0           250.0   \n",
              "\n",
              "   wind_speed  \n",
              "0         0.0  \n",
              "1         1.5  \n",
              "2         0.0  \n",
              "3         0.0  \n",
              "4         2.6  "
            ]
          },
          "metadata": {
            "tags": []
          },
          "execution_count": 6
        }
      ]
    },
    {
      "cell_type": "markdown",
      "metadata": {
        "id": "oC210R-DGaVJ"
      },
      "source": [
        "- `site_id`\n",
        "- `air_temperature` - Degrees Celsius\n",
        "- `cloud_coverage` - Portion of the sky covered in clouds, in oktas\n",
        "- `dew_temperature` - Degrees Celsius\n",
        "- `precip_depth_1_hr` - Millimeters\n",
        "- `sea_level_pressure` - Millibar/hectopascals\n",
        "- `wind_direction` - Compass direction (0-360)\n",
        "- `wind_speed` - Meters per second"
      ]
    },
    {
      "cell_type": "markdown",
      "metadata": {
        "id": "DPqTK_qgFWBe"
      },
      "source": [
        "Finally, `train` contains the target variable, `meter reading`, which represents energy consumption in kWh."
      ]
    },
    {
      "cell_type": "code",
      "metadata": {
        "colab": {
          "base_uri": "https://localhost:8080/",
          "height": 204
        },
        "id": "CVvZiue2D1MT",
        "outputId": "0805dc65-06ef-4f73-b498-91e9597e39c2"
      },
      "source": [
        "train.head()"
      ],
      "execution_count": 7,
      "outputs": [
        {
          "output_type": "execute_result",
          "data": {
            "text/html": [
              "<div>\n",
              "<style scoped>\n",
              "    .dataframe tbody tr th:only-of-type {\n",
              "        vertical-align: middle;\n",
              "    }\n",
              "\n",
              "    .dataframe tbody tr th {\n",
              "        vertical-align: top;\n",
              "    }\n",
              "\n",
              "    .dataframe thead th {\n",
              "        text-align: right;\n",
              "    }\n",
              "</style>\n",
              "<table border=\"1\" class=\"dataframe\">\n",
              "  <thead>\n",
              "    <tr style=\"text-align: right;\">\n",
              "      <th></th>\n",
              "      <th>building_id</th>\n",
              "      <th>meter</th>\n",
              "      <th>timestamp</th>\n",
              "      <th>meter_reading</th>\n",
              "    </tr>\n",
              "  </thead>\n",
              "  <tbody>\n",
              "    <tr>\n",
              "      <th>0</th>\n",
              "      <td>0</td>\n",
              "      <td>0</td>\n",
              "      <td>2016-01-01 00:00:00</td>\n",
              "      <td>0.0</td>\n",
              "    </tr>\n",
              "    <tr>\n",
              "      <th>1</th>\n",
              "      <td>1</td>\n",
              "      <td>0</td>\n",
              "      <td>2016-01-01 00:00:00</td>\n",
              "      <td>0.0</td>\n",
              "    </tr>\n",
              "    <tr>\n",
              "      <th>2</th>\n",
              "      <td>2</td>\n",
              "      <td>0</td>\n",
              "      <td>2016-01-01 00:00:00</td>\n",
              "      <td>0.0</td>\n",
              "    </tr>\n",
              "    <tr>\n",
              "      <th>3</th>\n",
              "      <td>3</td>\n",
              "      <td>0</td>\n",
              "      <td>2016-01-01 00:00:00</td>\n",
              "      <td>0.0</td>\n",
              "    </tr>\n",
              "    <tr>\n",
              "      <th>4</th>\n",
              "      <td>4</td>\n",
              "      <td>0</td>\n",
              "      <td>2016-01-01 00:00:00</td>\n",
              "      <td>0.0</td>\n",
              "    </tr>\n",
              "  </tbody>\n",
              "</table>\n",
              "</div>"
            ],
            "text/plain": [
              "   building_id  meter            timestamp  meter_reading\n",
              "0            0      0  2016-01-01 00:00:00            0.0\n",
              "1            1      0  2016-01-01 00:00:00            0.0\n",
              "2            2      0  2016-01-01 00:00:00            0.0\n",
              "3            3      0  2016-01-01 00:00:00            0.0\n",
              "4            4      0  2016-01-01 00:00:00            0.0"
            ]
          },
          "metadata": {
            "tags": []
          },
          "execution_count": 7
        }
      ]
    },
    {
      "cell_type": "markdown",
      "metadata": {
        "id": "xSwtyoWSD2MA"
      },
      "source": [
        "- `building_id` - Foreign key for the building metadata.\n",
        "- `meter` - The meter id code. Read as {0: electricity, 1: chilledwater, 2: steam, 3: hotwater}. Not every building has all meter types.\n",
        "- `timestamp` - When the measurement was taken\n",
        "- `meter_reading` - The target variable. Energy consumption in kWh (or equivalent)."
      ]
    },
    {
      "cell_type": "markdown",
      "metadata": {
        "id": "2yZs3_XC7N4c"
      },
      "source": [
        "Apparently there was some issues regarding the timestamps, as noted by [this post](https://www.kaggle.com/c/ashrae-energy-prediction/discussion/115040#latest-667889). The timestamp in the weather and meter reading table were in GMT and local time, respectively. We have to keep this in mind before merging the tables.\n",
        "\n",
        "Here I wrote a function that can prepare train and test data accordingly."
      ]
    },
    {
      "cell_type": "code",
      "metadata": {
        "id": "xe28Owhe70BJ"
      },
      "source": [
        "def prepare_data(type='train'):\n",
        "    assert type in ['train', 'test']\n",
        "    \n",
        "    # read data\n",
        "    building = pd.read_csv('data/building_metadata.csv')\n",
        "    weather = pd.read_csv(f'data/weather_{type}.csv')\n",
        "    data = pd.read_csv(f'data/{type}.csv')\n",
        "\n",
        "    # convert datetime\n",
        "    data['timestamp'] = pd.to_datetime(data['timestamp'])\n",
        "\n",
        "    # adjust timestamp\n",
        "    timediff = {0:4,1:0,2:7,3:4,4:7,5:0,6:4,7:4,8:4,9:5,10:7,11:4,12:0,13:5,14:4,15:4}\n",
        "    weather['time_diff']= weather['site_id'].map(timediff)\n",
        "    weather['time_diff'] = weather['time_diff'].apply(lambda x: dt.timedelta(hours=x))\n",
        "    weather['timestamp_gmt'] = pd.to_datetime(weather['timestamp'])\n",
        "    weather['timestamp'] = weather['timestamp_gmt'] - weather['time_diff']\n",
        "\n",
        "    # merge table\n",
        "    data = data.merge(building, on='building_id', how='left')\n",
        "    data = data.merge(weather, on=['site_id','timestamp'], how='left')\n",
        "\n",
        "    return data"
      ],
      "execution_count": 14,
      "outputs": []
    },
    {
      "cell_type": "markdown",
      "metadata": {
        "id": "l83jxjZ273hy"
      },
      "source": [
        "Let's try this function out!"
      ]
    },
    {
      "cell_type": "code",
      "metadata": {
        "colab": {
          "base_uri": "https://localhost:8080/",
          "height": 309
        },
        "id": "gKIpTFUd8FIK",
        "outputId": "d4d5f9ed-e588-4a8d-e2bc-2dc41c8c7737"
      },
      "source": [
        "train = prepare_data('train')\n",
        "train.head()"
      ],
      "execution_count": 15,
      "outputs": [
        {
          "output_type": "execute_result",
          "data": {
            "text/html": [
              "<div>\n",
              "<style scoped>\n",
              "    .dataframe tbody tr th:only-of-type {\n",
              "        vertical-align: middle;\n",
              "    }\n",
              "\n",
              "    .dataframe tbody tr th {\n",
              "        vertical-align: top;\n",
              "    }\n",
              "\n",
              "    .dataframe thead th {\n",
              "        text-align: right;\n",
              "    }\n",
              "</style>\n",
              "<table border=\"1\" class=\"dataframe\">\n",
              "  <thead>\n",
              "    <tr style=\"text-align: right;\">\n",
              "      <th></th>\n",
              "      <th>building_id</th>\n",
              "      <th>meter</th>\n",
              "      <th>timestamp</th>\n",
              "      <th>meter_reading</th>\n",
              "      <th>site_id</th>\n",
              "      <th>primary_use</th>\n",
              "      <th>square_feet</th>\n",
              "      <th>year_built</th>\n",
              "      <th>floor_count</th>\n",
              "      <th>air_temperature</th>\n",
              "      <th>cloud_coverage</th>\n",
              "      <th>dew_temperature</th>\n",
              "      <th>precip_depth_1_hr</th>\n",
              "      <th>sea_level_pressure</th>\n",
              "      <th>wind_direction</th>\n",
              "      <th>wind_speed</th>\n",
              "      <th>time_diff</th>\n",
              "      <th>timestamp_gmt</th>\n",
              "    </tr>\n",
              "  </thead>\n",
              "  <tbody>\n",
              "    <tr>\n",
              "      <th>0</th>\n",
              "      <td>0</td>\n",
              "      <td>0</td>\n",
              "      <td>2016-01-01</td>\n",
              "      <td>0.0</td>\n",
              "      <td>0</td>\n",
              "      <td>Education</td>\n",
              "      <td>7432</td>\n",
              "      <td>2008.0</td>\n",
              "      <td>NaN</td>\n",
              "      <td>20.0</td>\n",
              "      <td>2.0</td>\n",
              "      <td>20.0</td>\n",
              "      <td>-1.0</td>\n",
              "      <td>1020.0</td>\n",
              "      <td>250.0</td>\n",
              "      <td>2.6</td>\n",
              "      <td>0 days 04:00:00</td>\n",
              "      <td>2016-01-01 04:00:00</td>\n",
              "    </tr>\n",
              "    <tr>\n",
              "      <th>1</th>\n",
              "      <td>1</td>\n",
              "      <td>0</td>\n",
              "      <td>2016-01-01</td>\n",
              "      <td>0.0</td>\n",
              "      <td>0</td>\n",
              "      <td>Education</td>\n",
              "      <td>2720</td>\n",
              "      <td>2004.0</td>\n",
              "      <td>NaN</td>\n",
              "      <td>20.0</td>\n",
              "      <td>2.0</td>\n",
              "      <td>20.0</td>\n",
              "      <td>-1.0</td>\n",
              "      <td>1020.0</td>\n",
              "      <td>250.0</td>\n",
              "      <td>2.6</td>\n",
              "      <td>0 days 04:00:00</td>\n",
              "      <td>2016-01-01 04:00:00</td>\n",
              "    </tr>\n",
              "    <tr>\n",
              "      <th>2</th>\n",
              "      <td>2</td>\n",
              "      <td>0</td>\n",
              "      <td>2016-01-01</td>\n",
              "      <td>0.0</td>\n",
              "      <td>0</td>\n",
              "      <td>Education</td>\n",
              "      <td>5376</td>\n",
              "      <td>1991.0</td>\n",
              "      <td>NaN</td>\n",
              "      <td>20.0</td>\n",
              "      <td>2.0</td>\n",
              "      <td>20.0</td>\n",
              "      <td>-1.0</td>\n",
              "      <td>1020.0</td>\n",
              "      <td>250.0</td>\n",
              "      <td>2.6</td>\n",
              "      <td>0 days 04:00:00</td>\n",
              "      <td>2016-01-01 04:00:00</td>\n",
              "    </tr>\n",
              "    <tr>\n",
              "      <th>3</th>\n",
              "      <td>3</td>\n",
              "      <td>0</td>\n",
              "      <td>2016-01-01</td>\n",
              "      <td>0.0</td>\n",
              "      <td>0</td>\n",
              "      <td>Education</td>\n",
              "      <td>23685</td>\n",
              "      <td>2002.0</td>\n",
              "      <td>NaN</td>\n",
              "      <td>20.0</td>\n",
              "      <td>2.0</td>\n",
              "      <td>20.0</td>\n",
              "      <td>-1.0</td>\n",
              "      <td>1020.0</td>\n",
              "      <td>250.0</td>\n",
              "      <td>2.6</td>\n",
              "      <td>0 days 04:00:00</td>\n",
              "      <td>2016-01-01 04:00:00</td>\n",
              "    </tr>\n",
              "    <tr>\n",
              "      <th>4</th>\n",
              "      <td>4</td>\n",
              "      <td>0</td>\n",
              "      <td>2016-01-01</td>\n",
              "      <td>0.0</td>\n",
              "      <td>0</td>\n",
              "      <td>Education</td>\n",
              "      <td>116607</td>\n",
              "      <td>1975.0</td>\n",
              "      <td>NaN</td>\n",
              "      <td>20.0</td>\n",
              "      <td>2.0</td>\n",
              "      <td>20.0</td>\n",
              "      <td>-1.0</td>\n",
              "      <td>1020.0</td>\n",
              "      <td>250.0</td>\n",
              "      <td>2.6</td>\n",
              "      <td>0 days 04:00:00</td>\n",
              "      <td>2016-01-01 04:00:00</td>\n",
              "    </tr>\n",
              "  </tbody>\n",
              "</table>\n",
              "</div>"
            ],
            "text/plain": [
              "   building_id  meter  timestamp  meter_reading  site_id primary_use  \\\n",
              "0            0      0 2016-01-01            0.0        0   Education   \n",
              "1            1      0 2016-01-01            0.0        0   Education   \n",
              "2            2      0 2016-01-01            0.0        0   Education   \n",
              "3            3      0 2016-01-01            0.0        0   Education   \n",
              "4            4      0 2016-01-01            0.0        0   Education   \n",
              "\n",
              "   square_feet  year_built  floor_count  air_temperature  cloud_coverage  \\\n",
              "0         7432      2008.0          NaN             20.0             2.0   \n",
              "1         2720      2004.0          NaN             20.0             2.0   \n",
              "2         5376      1991.0          NaN             20.0             2.0   \n",
              "3        23685      2002.0          NaN             20.0             2.0   \n",
              "4       116607      1975.0          NaN             20.0             2.0   \n",
              "\n",
              "   dew_temperature  precip_depth_1_hr  sea_level_pressure  wind_direction  \\\n",
              "0             20.0               -1.0              1020.0           250.0   \n",
              "1             20.0               -1.0              1020.0           250.0   \n",
              "2             20.0               -1.0              1020.0           250.0   \n",
              "3             20.0               -1.0              1020.0           250.0   \n",
              "4             20.0               -1.0              1020.0           250.0   \n",
              "\n",
              "   wind_speed       time_diff       timestamp_gmt  \n",
              "0         2.6 0 days 04:00:00 2016-01-01 04:00:00  \n",
              "1         2.6 0 days 04:00:00 2016-01-01 04:00:00  \n",
              "2         2.6 0 days 04:00:00 2016-01-01 04:00:00  \n",
              "3         2.6 0 days 04:00:00 2016-01-01 04:00:00  \n",
              "4         2.6 0 days 04:00:00 2016-01-01 04:00:00  "
            ]
          },
          "metadata": {
            "tags": []
          },
          "execution_count": 15
        }
      ]
    },
    {
      "cell_type": "code",
      "metadata": {
        "colab": {
          "base_uri": "https://localhost:8080/",
          "height": 425
        },
        "id": "w4FREGZWVst7",
        "outputId": "499d68c9-8c08-4dff-8933-5d9dbe5e4417"
      },
      "source": [
        "# Get a subset of the data, just one building and meter\n",
        "\n",
        "t = train[(train['building_id']==1126) & (train['meter']==2)]\n",
        "import matplotlib as mpl\n",
        "import matplotlib.pyplot as plt\n",
        "import seaborn as sns\n",
        "mpl.rcParams['figure.dpi'] = 100\n",
        "sns.set()\n",
        "#%matplotlib inlinefig, axes = plt.subplots(9,2,figsize=(14, 36), dpi=100)\n",
        "t[['timestamp', 'meter_reading']].set_index('timestamp').plot()\n"
      ],
      "execution_count": 27,
      "outputs": [
        {
          "output_type": "execute_result",
          "data": {
            "text/plain": [
              "<matplotlib.axes._subplots.AxesSubplot at 0x7fd75d129610>"
            ]
          },
          "metadata": {
            "tags": []
          },
          "execution_count": 27
        },
        {
          "output_type": "display_data",
          "data": {
            "image/png": "[encoded data removed]",
            "text/plain": [
              "<Figure size 600x400 with 1 Axes>"
            ]
          },
          "metadata": {
            "tags": []
          }
        }
      ]
    },
    {
      "cell_type": "code",
      "metadata": {
        "id": "IL_A_Vkv5zmt"
      },
      "source": [
        "# Use an IndexSplitter and load using TabularPandas then to a dataloader\n",
        "\n",
        "#t = t[['building_id', 'meter_reading','meter','air_temperature']]\n",
        "\n",
        "# 2-fold cross-validation. Build 2 models, each with half the year as training data\n",
        "splits1=MaskSplitter(t['timestamp'] < '2016-07-01')(range_of(t))\n",
        "to1 = TabularPandas(t, procs=[Categorify, FillMissing, Normalize],\n",
        "                   cat_names = ['building_id', 'meter'],\n",
        "                   cont_names = ['air_temperature'],\n",
        "                   y_names='meter_reading',\n",
        "                   splits=splits1)\n",
        "dls1 = to1.dataloaders(bs=64)"
      ],
      "execution_count": 35,
      "outputs": []
    },
    {
      "cell_type": "markdown",
      "metadata": {
        "id": "pTLrzxiadE_e"
      },
      "source": [
        "Load entire dataset or subset:"
      ]
    },
    {
      "cell_type": "code",
      "metadata": {
        "cellView": "form",
        "id": "SkPycSC7zTr_"
      },
      "source": [
        "#@title\n",
        "# Load the entire dataset into a TabularDataLoader\n",
        "\n",
        "cat_names = ['building_id', 'meter', 'site_id', 'primary_use']\n",
        "#cont_names = ['timestamp', 'square_feet', 'year_built', 'floor_count', 'air_temperature', 'cloud_coverage', 'dew_temperature', 'precip_depth_1_hr', 'sea_level_pressure', 'wind_direction', 'wind_speed', 'time_diff', 'timestamp_gmt']\n",
        "cont_names = ['square_feet', 'year_built', 'floor_count', 'air_temperature', 'cloud_coverage', 'dew_temperature', 'precip_depth_1_hr', 'sea_level_pressure', 'wind_direction', 'wind_speed']\n",
        "procs = [Categorify, FillMissing, Normalize]\n",
        "dls = TabularDataLoaders.from_df(train.head(64*64), procs=procs, cat_names=cat_names, cont_names=cont_names, \n",
        "                                 y_names=\"meter_reading\")"
      ],
      "execution_count": null,
      "outputs": []
    },
    {
      "cell_type": "code",
      "metadata": {
        "cellView": "form",
        "id": "YBXtu10Z2mLu"
      },
      "source": [
        "#@title\n",
        "# Load a smaller dataset into a TabularDataLoader\n",
        "\n",
        "t = train[['meter_reading','building_id','meter','air_temperature']]\n",
        "from fastai.tabular.all import *\n",
        "cat_names = ['building_id','meter']\n",
        "cont_names = ['air_temperature']\n",
        "procs = [Categorify, FillMissing, Normalize]\n",
        "dls = TabularDataLoaders.from_df(t.head(64*1000), procs=procs, cat_names=cat_names, cont_names=cont_names, \n",
        "                                 y_names=\"meter_reading\")"
      ],
      "execution_count": null,
      "outputs": []
    },
    {
      "cell_type": "code",
      "metadata": {
        "colab": {
          "base_uri": "https://localhost:8080/",
          "height": 359
        },
        "id": "NIBKGHdO0lPc",
        "outputId": "b12c1c9c-1ad4-4f58-c4cc-ab399e1f27e1"
      },
      "source": [
        "dls1.show_batch()"
      ],
      "execution_count": 37,
      "outputs": [
        {
          "output_type": "display_data",
          "data": {
            "text/html": [
              "<table border=\"1\" class=\"dataframe\">\n",
              "  <thead>\n",
              "    <tr style=\"text-align: right;\">\n",
              "      <th></th>\n",
              "      <th>building_id</th>\n",
              "      <th>meter</th>\n",
              "      <th>air_temperature_na</th>\n",
              "      <th>air_temperature</th>\n",
              "      <th>meter_reading</th>\n",
              "    </tr>\n",
              "  </thead>\n",
              "  <tbody>\n",
              "    <tr>\n",
              "      <th>0</th>\n",
              "      <td>1126</td>\n",
              "      <td>2</td>\n",
              "      <td>False</td>\n",
              "      <td>18.299999</td>\n",
              "      <td>1175.780029</td>\n",
              "    </tr>\n",
              "    <tr>\n",
              "      <th>1</th>\n",
              "      <td>1126</td>\n",
              "      <td>2</td>\n",
              "      <td>False</td>\n",
              "      <td>-0.600000</td>\n",
              "      <td>2845.699951</td>\n",
              "    </tr>\n",
              "    <tr>\n",
              "      <th>2</th>\n",
              "      <td>1126</td>\n",
              "      <td>2</td>\n",
              "      <td>False</td>\n",
              "      <td>18.299999</td>\n",
              "      <td>1110.349976</td>\n",
              "    </tr>\n",
              "    <tr>\n",
              "      <th>3</th>\n",
              "      <td>1126</td>\n",
              "      <td>2</td>\n",
              "      <td>False</td>\n",
              "      <td>12.800000</td>\n",
              "      <td>1410.160034</td>\n",
              "    </tr>\n",
              "    <tr>\n",
              "      <th>4</th>\n",
              "      <td>1126</td>\n",
              "      <td>2</td>\n",
              "      <td>False</td>\n",
              "      <td>-12.199999</td>\n",
              "      <td>5880.859863</td>\n",
              "    </tr>\n",
              "    <tr>\n",
              "      <th>5</th>\n",
              "      <td>1126</td>\n",
              "      <td>2</td>\n",
              "      <td>False</td>\n",
              "      <td>-6.100000</td>\n",
              "      <td>5316.410156</td>\n",
              "    </tr>\n",
              "    <tr>\n",
              "      <th>6</th>\n",
              "      <td>1126</td>\n",
              "      <td>2</td>\n",
              "      <td>False</td>\n",
              "      <td>28.299999</td>\n",
              "      <td>1125.979980</td>\n",
              "    </tr>\n",
              "    <tr>\n",
              "      <th>7</th>\n",
              "      <td>1126</td>\n",
              "      <td>2</td>\n",
              "      <td>False</td>\n",
              "      <td>21.700001</td>\n",
              "      <td>934.570007</td>\n",
              "    </tr>\n",
              "    <tr>\n",
              "      <th>8</th>\n",
              "      <td>1126</td>\n",
              "      <td>2</td>\n",
              "      <td>False</td>\n",
              "      <td>17.799999</td>\n",
              "      <td>875.000000</td>\n",
              "    </tr>\n",
              "    <tr>\n",
              "      <th>9</th>\n",
              "      <td>1126</td>\n",
              "      <td>2</td>\n",
              "      <td>False</td>\n",
              "      <td>17.799999</td>\n",
              "      <td>853.515991</td>\n",
              "    </tr>\n",
              "  </tbody>\n",
              "</table>"
            ],
            "text/plain": [
              "<IPython.core.display.HTML object>"
            ]
          },
          "metadata": {
            "tags": []
          }
        }
      ]
    },
    {
      "cell_type": "code",
      "metadata": {
        "colab": {
          "base_uri": "https://localhost:8080/",
          "height": 204
        },
        "id": "NiXgG2eMyxPj",
        "outputId": "a9e55274-b79f-42a9-9ecb-8f2137e9a4ea"
      },
      "source": [
        "# Train a model\n",
        "\n",
        "learn = tabular_learner(dls1, metrics=rmse)\n",
        "learn.summary()\n",
        "# Exploring the learning rates\n",
        "#learn.lr_find(stop_div=False)\n",
        "learn.fit_one_cycle(5)"
      ],
      "execution_count": 39,
      "outputs": [
        {
          "output_type": "display_data",
          "data": {
            "text/html": [
              ""
            ],
            "text/plain": [
              "<IPython.core.display.HTML object>"
            ]
          },
          "metadata": {
            "tags": []
          }
        },
        {
          "output_type": "display_data",
          "data": {
            "text/html": [
              "<table border=\"1\" class=\"dataframe\">\n",
              "  <thead>\n",
              "    <tr style=\"text-align: left;\">\n",
              "      <th>epoch</th>\n",
              "      <th>train_loss</th>\n",
              "      <th>valid_loss</th>\n",
              "      <th>_rmse</th>\n",
              "      <th>time</th>\n",
              "    </tr>\n",
              "  </thead>\n",
              "  <tbody>\n",
              "    <tr>\n",
              "      <td>0</td>\n",
              "      <td>6057103.000000</td>\n",
              "      <td>12221182.000000</td>\n",
              "      <td>3495.880859</td>\n",
              "      <td>00:01</td>\n",
              "    </tr>\n",
              "    <tr>\n",
              "      <td>1</td>\n",
              "      <td>6037638.000000</td>\n",
              "      <td>12145011.000000</td>\n",
              "      <td>3484.969238</td>\n",
              "      <td>00:00</td>\n",
              "    </tr>\n",
              "    <tr>\n",
              "      <td>2</td>\n",
              "      <td>5990491.000000</td>\n",
              "      <td>12075947.000000</td>\n",
              "      <td>3475.046387</td>\n",
              "      <td>00:00</td>\n",
              "    </tr>\n",
              "    <tr>\n",
              "      <td>3</td>\n",
              "      <td>5987513.500000</td>\n",
              "      <td>12039745.000000</td>\n",
              "      <td>3469.833496</td>\n",
              "      <td>00:00</td>\n",
              "    </tr>\n",
              "    <tr>\n",
              "      <td>4</td>\n",
              "      <td>5952982.500000</td>\n",
              "      <td>12029795.000000</td>\n",
              "      <td>3468.399658</td>\n",
              "      <td>00:00</td>\n",
              "    </tr>\n",
              "  </tbody>\n",
              "</table>"
            ],
            "text/plain": [
              "<IPython.core.display.HTML object>"
            ]
          },
          "metadata": {
            "tags": []
          }
        }
      ]
    },
    {
      "cell_type": "code",
      "metadata": {
        "colab": {
          "base_uri": "https://localhost:8080/",
          "height": 328
        },
        "id": "uLhHJg7D-s9w",
        "outputId": "da700b55-2489-4097-db99-62d4a2f1aea4"
      },
      "source": [
        "learn.show_results()"
      ],
      "execution_count": null,
      "outputs": [
        {
          "output_type": "display_data",
          "data": {
            "text/html": [
              ""
            ],
            "text/plain": [
              "<IPython.core.display.HTML object>"
            ]
          },
          "metadata": {
            "tags": []
          }
        },
        {
          "output_type": "display_data",
          "data": {
            "text/html": [
              "<table border=\"1\" class=\"dataframe\">\n",
              "  <thead>\n",
              "    <tr style=\"text-align: right;\">\n",
              "      <th></th>\n",
              "      <th>building_id</th>\n",
              "      <th>meter</th>\n",
              "      <th>air_temperature</th>\n",
              "      <th>meter_reading</th>\n",
              "      <th>meter_reading_pred</th>\n",
              "    </tr>\n",
              "  </thead>\n",
              "  <tbody>\n",
              "    <tr>\n",
              "      <th>0</th>\n",
              "      <td>1.0</td>\n",
              "      <td>1.0</td>\n",
              "      <td>-1.700000</td>\n",
              "      <td>3389.649902</td>\n",
              "      <td>NaN</td>\n",
              "    </tr>\n",
              "    <tr>\n",
              "      <th>1</th>\n",
              "      <td>1.0</td>\n",
              "      <td>1.0</td>\n",
              "      <td>-1.100000</td>\n",
              "      <td>4208.009766</td>\n",
              "      <td>NaN</td>\n",
              "    </tr>\n",
              "    <tr>\n",
              "      <th>2</th>\n",
              "      <td>1.0</td>\n",
              "      <td>1.0</td>\n",
              "      <td>14.400000</td>\n",
              "      <td>581.054993</td>\n",
              "      <td>NaN</td>\n",
              "    </tr>\n",
              "    <tr>\n",
              "      <th>3</th>\n",
              "      <td>1.0</td>\n",
              "      <td>1.0</td>\n",
              "      <td>8.900000</td>\n",
              "      <td>2277.340088</td>\n",
              "      <td>NaN</td>\n",
              "    </tr>\n",
              "    <tr>\n",
              "      <th>4</th>\n",
              "      <td>1.0</td>\n",
              "      <td>1.0</td>\n",
              "      <td>21.100000</td>\n",
              "      <td>595.703003</td>\n",
              "      <td>NaN</td>\n",
              "    </tr>\n",
              "    <tr>\n",
              "      <th>5</th>\n",
              "      <td>1.0</td>\n",
              "      <td>1.0</td>\n",
              "      <td>29.400000</td>\n",
              "      <td>127.930000</td>\n",
              "      <td>NaN</td>\n",
              "    </tr>\n",
              "    <tr>\n",
              "      <th>6</th>\n",
              "      <td>1.0</td>\n",
              "      <td>1.0</td>\n",
              "      <td>-7.200000</td>\n",
              "      <td>4558.589844</td>\n",
              "      <td>NaN</td>\n",
              "    </tr>\n",
              "    <tr>\n",
              "      <th>7</th>\n",
              "      <td>1.0</td>\n",
              "      <td>1.0</td>\n",
              "      <td>26.700001</td>\n",
              "      <td>916.015991</td>\n",
              "      <td>NaN</td>\n",
              "    </tr>\n",
              "    <tr>\n",
              "      <th>8</th>\n",
              "      <td>1.0</td>\n",
              "      <td>1.0</td>\n",
              "      <td>-5.000000</td>\n",
              "      <td>5277.339844</td>\n",
              "      <td>NaN</td>\n",
              "    </tr>\n",
              "  </tbody>\n",
              "</table>"
            ],
            "text/plain": [
              "<IPython.core.display.HTML object>"
            ]
          },
          "metadata": {
            "tags": []
          }
        }
      ]
    },
    {
      "cell_type": "code",
      "metadata": {
        "id": "r_Lsrjwg-xV1"
      },
      "source": [
        ""
      ],
      "execution_count": null,
      "outputs": []
    },
    {
      "cell_type": "code",
      "metadata": {
        "colab": {
          "base_uri": "https://localhost:8080/"
        },
        "id": "5ESviZk0Fuqk",
        "outputId": "34fbf03e-5345-4e67-827a-c1d3a8882ec2"
      },
      "source": [
        "from sklearn.tree import *\n",
        "xs,y = to.train.xs,to.train.y\n",
        "valid_xs,valid_y = to.valid.xs,to.valid.y\n",
        "m = DecisionTreeRegressor(max_leaf_nodes=4)\n",
        "m.fit(xs, y);\n"
      ],
      "execution_count": null,
      "outputs": [
        {
          "output_type": "execute_result",
          "data": {
            "text/plain": [
              "array([  127.23632903, 25019.92146783,   127.23632903, ...,   696.93540397,   696.93540397,   127.23632903])"
            ]
          },
          "metadata": {
            "tags": []
          },
          "execution_count": 63
        }
      ]
    },
    {
      "cell_type": "code",
      "metadata": {
        "id": "p-g1KsCTHZeq"
      },
      "source": [
        ""
      ],
      "execution_count": null,
      "outputs": []
    },
    {
      "cell_type": "markdown",
      "metadata": {
        "id": "xLttyPH__Ug-"
      },
      "source": [
        "To do:\n",
        "\n",
        "\n",
        "1.   Figure out why continuous variables are shown as boolean\n",
        "2.   Handle dates\n",
        "3.   Create training and validation sets, rather than using TabularDataLoader\n",
        "\n"
      ]
    }
  ]
}