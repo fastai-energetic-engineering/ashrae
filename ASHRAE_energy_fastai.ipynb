{
  "nbformat": 4,
  "nbformat_minor": 0,
  "metadata": {
    "colab": {
      "name": "ASHRAE energy fastai.ipynb",
      "provenance": [],
      "collapsed_sections": [],
      "include_colab_link": true
    },
    "kernelspec": {
      "name": "python3",
      "display_name": "Python 3"
    },
    "language_info": {
      "name": "python"
    },
    "accelerator": "GPU"
  },
  "cells": [
    {
      "cell_type": "markdown",
      "metadata": {
        "id": "view-in-github",
        "colab_type": "text"
      },
      "source": [
        "<a href=\"https://colab.research.google.com/github/fastai-energetic-engineering/ashrae/blob/master/ASHRAE_energy_fastai.ipynb\" target=\"_parent\"><img src=\"https://colab.research.google.com/assets/colab-badge.svg\" alt=\"Open In Colab\"/></a>"
      ]
    },
    {
      "cell_type": "markdown",
      "metadata": {
        "id": "q0AxBz6y2oWi"
      },
      "source": [
        "# ASHRAE Energy Prediction\n",
        "\n",
        "- toc: true\n",
        "- branch: master\n",
        "- badges: true\n",
        "- comments: true\n",
        "- categories: [fastai, kaggle]\n",
        "- image: images/some_folder/your_image.png\n",
        "- hide: false\n",
        "- search_exclude: false\n"
      ]
    },
    {
      "cell_type": "code",
      "metadata": {
        "id": "ijXYPvlA6Ee0",
        "colab": {
          "base_uri": "https://localhost:8080/"
        },
        "outputId": "35db1b88-b14a-4752-bffe-4bb37aed6a9c"
      },
      "source": [
        "#collapse\n",
        "!pip install -Uqq fastbook\n",
        "import fastbook\n",
        "fastbook.setup_book()"
      ],
      "execution_count": 1,
      "outputs": [
        {
          "output_type": "stream",
          "text": [
            "\u001b[K     |████████████████████████████████| 727kB 9.8MB/s \n",
            "\u001b[K     |████████████████████████████████| 1.2MB 45.5MB/s \n",
            "\u001b[K     |████████████████████████████████| 194kB 56.0MB/s \n",
            "\u001b[K     |████████████████████████████████| 51kB 8.3MB/s \n",
            "\u001b[K     |████████████████████████████████| 61kB 9.7MB/s \n",
            "\u001b[K     |████████████████████████████████| 61kB 10.0MB/s \n",
            "\u001b[?25hMounted at /content/gdrive\n"
          ],
          "name": "stdout"
        }
      ]
    },
    {
      "cell_type": "code",
      "metadata": {
        "id": "PWNQebEr8F8k"
      },
      "source": [
        "#collapse\n",
        "#from fastbook import *\n",
        "import os\n",
        "#from google.colab import files\n",
        "import pandas as pd\n",
        "import datetime as dt\n",
        "\n",
        "from fastai.tabular.all import *\n"
      ],
      "execution_count": 2,
      "outputs": []
    },
    {
      "cell_type": "code",
      "metadata": {
        "id": "lE1XHTz751AF"
      },
      "source": [
        "# Load ASHRAE energy dataset from your google drive\n",
        "p = 'gdrive/MyDrive/Colab Notebooks/ashrae'\n",
        "os.chdir(p)"
      ],
      "execution_count": 3,
      "outputs": []
    },
    {
      "cell_type": "markdown",
      "metadata": {
        "id": "GC6SBxxh9-n9"
      },
      "source": [
        "## Joining Tables"
      ]
    },
    {
      "cell_type": "markdown",
      "metadata": {
        "id": "URZMmHULCqnG"
      },
      "source": [
        "Our training data comprised of three tables:\n",
        "- `building_metadata.csv`\n",
        "- `weather_train.csv`\n",
        "- `train.csv`\n",
        "\n",
        "We need to join the tables. First, let's see what's in the tables."
      ]
    },
    {
      "cell_type": "code",
      "metadata": {
        "id": "1ULRNFo8DZKI"
      },
      "source": [
        "building = pd.read_csv('data/building_metadata.csv')\n",
        "weather = pd.read_csv('data/weather_train.csv')\n",
        "train = pd.read_csv('data/train.csv')"
      ],
      "execution_count": 4,
      "outputs": []
    },
    {
      "cell_type": "markdown",
      "metadata": {
        "id": "xyONjqf1FGx1"
      },
      "source": [
        "`building` contains the buildings' metadata."
      ]
    },
    {
      "cell_type": "code",
      "metadata": {
        "colab": {
          "base_uri": "https://localhost:8080/",
          "height": 204
        },
        "id": "2HEZZL4-Dp5q",
        "outputId": "df62d8c4-795b-4af2-bc9f-f4ee8bad759f"
      },
      "source": [
        "building.head()"
      ],
      "execution_count": 5,
      "outputs": [
        {
          "output_type": "execute_result",
          "data": {
            "text/html": [
              "<div>\n",
              "<style scoped>\n",
              "    .dataframe tbody tr th:only-of-type {\n",
              "        vertical-align: middle;\n",
              "    }\n",
              "\n",
              "    .dataframe tbody tr th {\n",
              "        vertical-align: top;\n",
              "    }\n",
              "\n",
              "    .dataframe thead th {\n",
              "        text-align: right;\n",
              "    }\n",
              "</style>\n",
              "<table border=\"1\" class=\"dataframe\">\n",
              "  <thead>\n",
              "    <tr style=\"text-align: right;\">\n",
              "      <th></th>\n",
              "      <th>site_id</th>\n",
              "      <th>building_id</th>\n",
              "      <th>primary_use</th>\n",
              "      <th>square_feet</th>\n",
              "      <th>year_built</th>\n",
              "      <th>floor_count</th>\n",
              "    </tr>\n",
              "  </thead>\n",
              "  <tbody>\n",
              "    <tr>\n",
              "      <th>0</th>\n",
              "      <td>0</td>\n",
              "      <td>0</td>\n",
              "      <td>Education</td>\n",
              "      <td>7432</td>\n",
              "      <td>2008.0</td>\n",
              "      <td>NaN</td>\n",
              "    </tr>\n",
              "    <tr>\n",
              "      <th>1</th>\n",
              "      <td>0</td>\n",
              "      <td>1</td>\n",
              "      <td>Education</td>\n",
              "      <td>2720</td>\n",
              "      <td>2004.0</td>\n",
              "      <td>NaN</td>\n",
              "    </tr>\n",
              "    <tr>\n",
              "      <th>2</th>\n",
              "      <td>0</td>\n",
              "      <td>2</td>\n",
              "      <td>Education</td>\n",
              "      <td>5376</td>\n",
              "      <td>1991.0</td>\n",
              "      <td>NaN</td>\n",
              "    </tr>\n",
              "    <tr>\n",
              "      <th>3</th>\n",
              "      <td>0</td>\n",
              "      <td>3</td>\n",
              "      <td>Education</td>\n",
              "      <td>23685</td>\n",
              "      <td>2002.0</td>\n",
              "      <td>NaN</td>\n",
              "    </tr>\n",
              "    <tr>\n",
              "      <th>4</th>\n",
              "      <td>0</td>\n",
              "      <td>4</td>\n",
              "      <td>Education</td>\n",
              "      <td>116607</td>\n",
              "      <td>1975.0</td>\n",
              "      <td>NaN</td>\n",
              "    </tr>\n",
              "  </tbody>\n",
              "</table>\n",
              "</div>"
            ],
            "text/plain": [
              "   site_id  building_id primary_use  square_feet  year_built  floor_count\n",
              "0        0            0   Education         7432      2008.0          NaN\n",
              "1        0            1   Education         2720      2004.0          NaN\n",
              "2        0            2   Education         5376      1991.0          NaN\n",
              "3        0            3   Education        23685      2002.0          NaN\n",
              "4        0            4   Education       116607      1975.0          NaN"
            ]
          },
          "metadata": {
            "tags": []
          },
          "execution_count": 5
        }
      ]
    },
    {
      "cell_type": "markdown",
      "metadata": {
        "id": "FP_tnigiGBjr"
      },
      "source": [
        "- `site_id` - Foreign key for the weather files.\n",
        "- `building_id` - Foreign key for training.csv\n",
        "- `primary_use` - Indicator of the primary category of activities for the building based on EnergyStar property type definitions\n",
        "- `square_feet` - Gross floor area of the building\n",
        "- `year_built` - Year building was opened\n",
        "- `floor_count` - Number of floors of the building"
      ]
    },
    {
      "cell_type": "markdown",
      "metadata": {
        "id": "aa_BhqKwFlcU"
      },
      "source": [
        "`weather` contains weather data from the closest meteorological station."
      ]
    },
    {
      "cell_type": "code",
      "metadata": {
        "colab": {
          "base_uri": "https://localhost:8080/",
          "height": 204
        },
        "id": "wu6izhBiDtLy",
        "outputId": "b8e30d40-b053-49de-fe97-96dbf0ff479b"
      },
      "source": [
        "weather.head()"
      ],
      "execution_count": 6,
      "outputs": [
        {
          "output_type": "execute_result",
          "data": {
            "text/html": [
              "<div>\n",
              "<style scoped>\n",
              "    .dataframe tbody tr th:only-of-type {\n",
              "        vertical-align: middle;\n",
              "    }\n",
              "\n",
              "    .dataframe tbody tr th {\n",
              "        vertical-align: top;\n",
              "    }\n",
              "\n",
              "    .dataframe thead th {\n",
              "        text-align: right;\n",
              "    }\n",
              "</style>\n",
              "<table border=\"1\" class=\"dataframe\">\n",
              "  <thead>\n",
              "    <tr style=\"text-align: right;\">\n",
              "      <th></th>\n",
              "      <th>site_id</th>\n",
              "      <th>timestamp</th>\n",
              "      <th>air_temperature</th>\n",
              "      <th>cloud_coverage</th>\n",
              "      <th>dew_temperature</th>\n",
              "      <th>precip_depth_1_hr</th>\n",
              "      <th>sea_level_pressure</th>\n",
              "      <th>wind_direction</th>\n",
              "      <th>wind_speed</th>\n",
              "    </tr>\n",
              "  </thead>\n",
              "  <tbody>\n",
              "    <tr>\n",
              "      <th>0</th>\n",
              "      <td>0</td>\n",
              "      <td>2016-01-01 00:00:00</td>\n",
              "      <td>25.0</td>\n",
              "      <td>6.0</td>\n",
              "      <td>20.0</td>\n",
              "      <td>NaN</td>\n",
              "      <td>1019.7</td>\n",
              "      <td>0.0</td>\n",
              "      <td>0.0</td>\n",
              "    </tr>\n",
              "    <tr>\n",
              "      <th>1</th>\n",
              "      <td>0</td>\n",
              "      <td>2016-01-01 01:00:00</td>\n",
              "      <td>24.4</td>\n",
              "      <td>NaN</td>\n",
              "      <td>21.1</td>\n",
              "      <td>-1.0</td>\n",
              "      <td>1020.2</td>\n",
              "      <td>70.0</td>\n",
              "      <td>1.5</td>\n",
              "    </tr>\n",
              "    <tr>\n",
              "      <th>2</th>\n",
              "      <td>0</td>\n",
              "      <td>2016-01-01 02:00:00</td>\n",
              "      <td>22.8</td>\n",
              "      <td>2.0</td>\n",
              "      <td>21.1</td>\n",
              "      <td>0.0</td>\n",
              "      <td>1020.2</td>\n",
              "      <td>0.0</td>\n",
              "      <td>0.0</td>\n",
              "    </tr>\n",
              "    <tr>\n",
              "      <th>3</th>\n",
              "      <td>0</td>\n",
              "      <td>2016-01-01 03:00:00</td>\n",
              "      <td>21.1</td>\n",
              "      <td>2.0</td>\n",
              "      <td>20.6</td>\n",
              "      <td>0.0</td>\n",
              "      <td>1020.1</td>\n",
              "      <td>0.0</td>\n",
              "      <td>0.0</td>\n",
              "    </tr>\n",
              "    <tr>\n",
              "      <th>4</th>\n",
              "      <td>0</td>\n",
              "      <td>2016-01-01 04:00:00</td>\n",
              "      <td>20.0</td>\n",
              "      <td>2.0</td>\n",
              "      <td>20.0</td>\n",
              "      <td>-1.0</td>\n",
              "      <td>1020.0</td>\n",
              "      <td>250.0</td>\n",
              "      <td>2.6</td>\n",
              "    </tr>\n",
              "  </tbody>\n",
              "</table>\n",
              "</div>"
            ],
            "text/plain": [
              "   site_id            timestamp  air_temperature  cloud_coverage  \\\n",
              "0        0  2016-01-01 00:00:00             25.0             6.0   \n",
              "1        0  2016-01-01 01:00:00             24.4             NaN   \n",
              "2        0  2016-01-01 02:00:00             22.8             2.0   \n",
              "3        0  2016-01-01 03:00:00             21.1             2.0   \n",
              "4        0  2016-01-01 04:00:00             20.0             2.0   \n",
              "\n",
              "   dew_temperature  precip_depth_1_hr  sea_level_pressure  wind_direction  \\\n",
              "0             20.0                NaN              1019.7             0.0   \n",
              "1             21.1               -1.0              1020.2            70.0   \n",
              "2             21.1                0.0              1020.2             0.0   \n",
              "3             20.6                0.0              1020.1             0.0   \n",
              "4             20.0               -1.0              1020.0           250.0   \n",
              "\n",
              "   wind_speed  \n",
              "0         0.0  \n",
              "1         1.5  \n",
              "2         0.0  \n",
              "3         0.0  \n",
              "4         2.6  "
            ]
          },
          "metadata": {
            "tags": []
          },
          "execution_count": 6
        }
      ]
    },
    {
      "cell_type": "markdown",
      "metadata": {
        "id": "oC210R-DGaVJ"
      },
      "source": [
        "- `site_id`\n",
        "- `air_temperature` - Degrees Celsius\n",
        "- `cloud_coverage` - Portion of the sky covered in clouds, in oktas\n",
        "- `dew_temperature` - Degrees Celsius\n",
        "- `precip_depth_1_hr` - Millimeters\n",
        "- `sea_level_pressure` - Millibar/hectopascals\n",
        "- `wind_direction` - Compass direction (0-360)\n",
        "- `wind_speed` - Meters per second"
      ]
    },
    {
      "cell_type": "markdown",
      "metadata": {
        "id": "DPqTK_qgFWBe"
      },
      "source": [
        "Finally, `train` contains the target variable, `meter reading`, which represents energy consumption in kWh."
      ]
    },
    {
      "cell_type": "code",
      "metadata": {
        "colab": {
          "base_uri": "https://localhost:8080/",
          "height": 204
        },
        "id": "CVvZiue2D1MT",
        "outputId": "a4418ce1-90a5-46b6-bdae-751f378a0c09"
      },
      "source": [
        "train.head()"
      ],
      "execution_count": 7,
      "outputs": [
        {
          "output_type": "execute_result",
          "data": {
            "text/html": [
              "<div>\n",
              "<style scoped>\n",
              "    .dataframe tbody tr th:only-of-type {\n",
              "        vertical-align: middle;\n",
              "    }\n",
              "\n",
              "    .dataframe tbody tr th {\n",
              "        vertical-align: top;\n",
              "    }\n",
              "\n",
              "    .dataframe thead th {\n",
              "        text-align: right;\n",
              "    }\n",
              "</style>\n",
              "<table border=\"1\" class=\"dataframe\">\n",
              "  <thead>\n",
              "    <tr style=\"text-align: right;\">\n",
              "      <th></th>\n",
              "      <th>building_id</th>\n",
              "      <th>meter</th>\n",
              "      <th>timestamp</th>\n",
              "      <th>meter_reading</th>\n",
              "    </tr>\n",
              "  </thead>\n",
              "  <tbody>\n",
              "    <tr>\n",
              "      <th>0</th>\n",
              "      <td>0</td>\n",
              "      <td>0</td>\n",
              "      <td>2016-01-01 00:00:00</td>\n",
              "      <td>0.0</td>\n",
              "    </tr>\n",
              "    <tr>\n",
              "      <th>1</th>\n",
              "      <td>1</td>\n",
              "      <td>0</td>\n",
              "      <td>2016-01-01 00:00:00</td>\n",
              "      <td>0.0</td>\n",
              "    </tr>\n",
              "    <tr>\n",
              "      <th>2</th>\n",
              "      <td>2</td>\n",
              "      <td>0</td>\n",
              "      <td>2016-01-01 00:00:00</td>\n",
              "      <td>0.0</td>\n",
              "    </tr>\n",
              "    <tr>\n",
              "      <th>3</th>\n",
              "      <td>3</td>\n",
              "      <td>0</td>\n",
              "      <td>2016-01-01 00:00:00</td>\n",
              "      <td>0.0</td>\n",
              "    </tr>\n",
              "    <tr>\n",
              "      <th>4</th>\n",
              "      <td>4</td>\n",
              "      <td>0</td>\n",
              "      <td>2016-01-01 00:00:00</td>\n",
              "      <td>0.0</td>\n",
              "    </tr>\n",
              "  </tbody>\n",
              "</table>\n",
              "</div>"
            ],
            "text/plain": [
              "   building_id  meter            timestamp  meter_reading\n",
              "0            0      0  2016-01-01 00:00:00            0.0\n",
              "1            1      0  2016-01-01 00:00:00            0.0\n",
              "2            2      0  2016-01-01 00:00:00            0.0\n",
              "3            3      0  2016-01-01 00:00:00            0.0\n",
              "4            4      0  2016-01-01 00:00:00            0.0"
            ]
          },
          "metadata": {
            "tags": []
          },
          "execution_count": 7
        }
      ]
    },
    {
      "cell_type": "markdown",
      "metadata": {
        "id": "xSwtyoWSD2MA"
      },
      "source": [
        "- `building_id` - Foreign key for the building metadata.\n",
        "- `meter` - The meter id code. Read as {0: electricity, 1: chilledwater, 2: steam, 3: hotwater}. Not every building has all meter types.\n",
        "- `timestamp` - When the measurement was taken\n",
        "- `meter_reading` - The target variable. Energy consumption in kWh (or equivalent)."
      ]
    },
    {
      "cell_type": "markdown",
      "metadata": {
        "id": "2yZs3_XC7N4c"
      },
      "source": [
        "Apparently there was some issues regarding the timestamps, as noted by [this post](https://www.kaggle.com/c/ashrae-energy-prediction/discussion/115040#latest-667889). The timestamp in the weather and meter reading table were in GMT and local time, respectively. We have to keep this in mind before merging the tables.\n",
        "\n",
        "Here I wrote a function that can prepare train and test data accordingly."
      ]
    },
    {
      "cell_type": "code",
      "metadata": {
        "id": "xe28Owhe70BJ"
      },
      "source": [
        "def prepare_data(type='train'):\n",
        "    assert type in ['train', 'test']\n",
        "    \n",
        "    # read data\n",
        "    building = pd.read_csv('data/building_metadata.csv')\n",
        "    weather = pd.read_csv(f'data/weather_{type}.csv')\n",
        "    data = pd.read_csv(f'data/{type}.csv')\n",
        "\n",
        "    # convert datetime\n",
        "    data['timestamp'] = pd.to_datetime(data['timestamp'])\n",
        "\n",
        "    # adjust timestamp\n",
        "    timediff = {0:4,1:0,2:7,3:4,4:7,5:0,6:4,7:4,8:4,9:5,10:7,11:4,12:0,13:5,14:4,15:4}\n",
        "    weather['time_diff']= weather['site_id'].map(timediff)\n",
        "    weather['time_diff'] = weather['time_diff'].apply(lambda x: dt.timedelta(hours=x))\n",
        "    weather['timestamp_gmt'] = pd.to_datetime(weather['timestamp'])\n",
        "    weather['timestamp'] = weather['timestamp_gmt'] - weather['time_diff']\n",
        "\n",
        "    # merge table\n",
        "    data = data.merge(building, on='building_id', how='left')\n",
        "    data = data.merge(weather, on=['site_id','timestamp'], how='left')\n",
        "\n",
        "    return data"
      ],
      "execution_count": 8,
      "outputs": []
    },
    {
      "cell_type": "markdown",
      "metadata": {
        "id": "l83jxjZ273hy"
      },
      "source": [
        "Let's try this function out!"
      ]
    },
    {
      "cell_type": "code",
      "metadata": {
        "colab": {
          "base_uri": "https://localhost:8080/",
          "height": 309
        },
        "id": "gKIpTFUd8FIK",
        "outputId": "34b08a33-bc4b-4766-d7f0-8cb7fd958026"
      },
      "source": [
        "train = prepare_data('train')\n",
        "train.head()"
      ],
      "execution_count": 9,
      "outputs": [
        {
          "output_type": "execute_result",
          "data": {
            "text/html": [
              "<div>\n",
              "<style scoped>\n",
              "    .dataframe tbody tr th:only-of-type {\n",
              "        vertical-align: middle;\n",
              "    }\n",
              "\n",
              "    .dataframe tbody tr th {\n",
              "        vertical-align: top;\n",
              "    }\n",
              "\n",
              "    .dataframe thead th {\n",
              "        text-align: right;\n",
              "    }\n",
              "</style>\n",
              "<table border=\"1\" class=\"dataframe\">\n",
              "  <thead>\n",
              "    <tr style=\"text-align: right;\">\n",
              "      <th></th>\n",
              "      <th>building_id</th>\n",
              "      <th>meter</th>\n",
              "      <th>timestamp</th>\n",
              "      <th>meter_reading</th>\n",
              "      <th>site_id</th>\n",
              "      <th>primary_use</th>\n",
              "      <th>square_feet</th>\n",
              "      <th>year_built</th>\n",
              "      <th>floor_count</th>\n",
              "      <th>air_temperature</th>\n",
              "      <th>cloud_coverage</th>\n",
              "      <th>dew_temperature</th>\n",
              "      <th>precip_depth_1_hr</th>\n",
              "      <th>sea_level_pressure</th>\n",
              "      <th>wind_direction</th>\n",
              "      <th>wind_speed</th>\n",
              "      <th>time_diff</th>\n",
              "      <th>timestamp_gmt</th>\n",
              "    </tr>\n",
              "  </thead>\n",
              "  <tbody>\n",
              "    <tr>\n",
              "      <th>0</th>\n",
              "      <td>0</td>\n",
              "      <td>0</td>\n",
              "      <td>2016-01-01</td>\n",
              "      <td>0.0</td>\n",
              "      <td>0</td>\n",
              "      <td>Education</td>\n",
              "      <td>7432</td>\n",
              "      <td>2008.0</td>\n",
              "      <td>NaN</td>\n",
              "      <td>20.0</td>\n",
              "      <td>2.0</td>\n",
              "      <td>20.0</td>\n",
              "      <td>-1.0</td>\n",
              "      <td>1020.0</td>\n",
              "      <td>250.0</td>\n",
              "      <td>2.6</td>\n",
              "      <td>0 days 04:00:00</td>\n",
              "      <td>2016-01-01 04:00:00</td>\n",
              "    </tr>\n",
              "    <tr>\n",
              "      <th>1</th>\n",
              "      <td>1</td>\n",
              "      <td>0</td>\n",
              "      <td>2016-01-01</td>\n",
              "      <td>0.0</td>\n",
              "      <td>0</td>\n",
              "      <td>Education</td>\n",
              "      <td>2720</td>\n",
              "      <td>2004.0</td>\n",
              "      <td>NaN</td>\n",
              "      <td>20.0</td>\n",
              "      <td>2.0</td>\n",
              "      <td>20.0</td>\n",
              "      <td>-1.0</td>\n",
              "      <td>1020.0</td>\n",
              "      <td>250.0</td>\n",
              "      <td>2.6</td>\n",
              "      <td>0 days 04:00:00</td>\n",
              "      <td>2016-01-01 04:00:00</td>\n",
              "    </tr>\n",
              "    <tr>\n",
              "      <th>2</th>\n",
              "      <td>2</td>\n",
              "      <td>0</td>\n",
              "      <td>2016-01-01</td>\n",
              "      <td>0.0</td>\n",
              "      <td>0</td>\n",
              "      <td>Education</td>\n",
              "      <td>5376</td>\n",
              "      <td>1991.0</td>\n",
              "      <td>NaN</td>\n",
              "      <td>20.0</td>\n",
              "      <td>2.0</td>\n",
              "      <td>20.0</td>\n",
              "      <td>-1.0</td>\n",
              "      <td>1020.0</td>\n",
              "      <td>250.0</td>\n",
              "      <td>2.6</td>\n",
              "      <td>0 days 04:00:00</td>\n",
              "      <td>2016-01-01 04:00:00</td>\n",
              "    </tr>\n",
              "    <tr>\n",
              "      <th>3</th>\n",
              "      <td>3</td>\n",
              "      <td>0</td>\n",
              "      <td>2016-01-01</td>\n",
              "      <td>0.0</td>\n",
              "      <td>0</td>\n",
              "      <td>Education</td>\n",
              "      <td>23685</td>\n",
              "      <td>2002.0</td>\n",
              "      <td>NaN</td>\n",
              "      <td>20.0</td>\n",
              "      <td>2.0</td>\n",
              "      <td>20.0</td>\n",
              "      <td>-1.0</td>\n",
              "      <td>1020.0</td>\n",
              "      <td>250.0</td>\n",
              "      <td>2.6</td>\n",
              "      <td>0 days 04:00:00</td>\n",
              "      <td>2016-01-01 04:00:00</td>\n",
              "    </tr>\n",
              "    <tr>\n",
              "      <th>4</th>\n",
              "      <td>4</td>\n",
              "      <td>0</td>\n",
              "      <td>2016-01-01</td>\n",
              "      <td>0.0</td>\n",
              "      <td>0</td>\n",
              "      <td>Education</td>\n",
              "      <td>116607</td>\n",
              "      <td>1975.0</td>\n",
              "      <td>NaN</td>\n",
              "      <td>20.0</td>\n",
              "      <td>2.0</td>\n",
              "      <td>20.0</td>\n",
              "      <td>-1.0</td>\n",
              "      <td>1020.0</td>\n",
              "      <td>250.0</td>\n",
              "      <td>2.6</td>\n",
              "      <td>0 days 04:00:00</td>\n",
              "      <td>2016-01-01 04:00:00</td>\n",
              "    </tr>\n",
              "  </tbody>\n",
              "</table>\n",
              "</div>"
            ],
            "text/plain": [
              "   building_id  meter  timestamp  meter_reading  site_id primary_use  \\\n",
              "0            0      0 2016-01-01            0.0        0   Education   \n",
              "1            1      0 2016-01-01            0.0        0   Education   \n",
              "2            2      0 2016-01-01            0.0        0   Education   \n",
              "3            3      0 2016-01-01            0.0        0   Education   \n",
              "4            4      0 2016-01-01            0.0        0   Education   \n",
              "\n",
              "   square_feet  year_built  floor_count  air_temperature  cloud_coverage  \\\n",
              "0         7432      2008.0          NaN             20.0             2.0   \n",
              "1         2720      2004.0          NaN             20.0             2.0   \n",
              "2         5376      1991.0          NaN             20.0             2.0   \n",
              "3        23685      2002.0          NaN             20.0             2.0   \n",
              "4       116607      1975.0          NaN             20.0             2.0   \n",
              "\n",
              "   dew_temperature  precip_depth_1_hr  sea_level_pressure  wind_direction  \\\n",
              "0             20.0               -1.0              1020.0           250.0   \n",
              "1             20.0               -1.0              1020.0           250.0   \n",
              "2             20.0               -1.0              1020.0           250.0   \n",
              "3             20.0               -1.0              1020.0           250.0   \n",
              "4             20.0               -1.0              1020.0           250.0   \n",
              "\n",
              "   wind_speed       time_diff       timestamp_gmt  \n",
              "0         2.6 0 days 04:00:00 2016-01-01 04:00:00  \n",
              "1         2.6 0 days 04:00:00 2016-01-01 04:00:00  \n",
              "2         2.6 0 days 04:00:00 2016-01-01 04:00:00  \n",
              "3         2.6 0 days 04:00:00 2016-01-01 04:00:00  \n",
              "4         2.6 0 days 04:00:00 2016-01-01 04:00:00  "
            ]
          },
          "metadata": {
            "tags": []
          },
          "execution_count": 9
        }
      ]
    },
    {
      "cell_type": "code",
      "metadata": {
        "id": "k6kNphv_g3po"
      },
      "source": [
        "# Engineer a feature\n",
        "train['hour'] = train.timestamp.dt.hour"
      ],
      "execution_count": 10,
      "outputs": []
    },
    {
      "cell_type": "code",
      "metadata": {
        "id": "w4FREGZWVst7",
        "colab": {
          "base_uri": "https://localhost:8080/",
          "height": 425
        },
        "outputId": "0fbe2292-be00-472f-c4e4-8f95f79e6acc"
      },
      "source": [
        "# Get a subset of the data, just one building and meter\n",
        "\n",
        "train_only1 = train[(train['building_id']==1126) & (train['meter']==2)]\n",
        "import matplotlib as mpl\n",
        "import matplotlib.pyplot as plt\n",
        "import seaborn as sns\n",
        "mpl.rcParams['figure.dpi'] = 100\n",
        "sns.set()\n",
        "#%matplotlib inlinefig, axes = plt.subplots(9,2,figsize=(14, 36), dpi=100)\n",
        "train_only1[['timestamp', 'meter_reading']].set_index('timestamp').plot()\n"
      ],
      "execution_count": 11,
      "outputs": [
        {
          "output_type": "execute_result",
          "data": {
            "text/plain": [
              "<matplotlib.axes._subplots.AxesSubplot at 0x7fbc75b19fd0>"
            ]
          },
          "metadata": {
            "tags": []
          },
          "execution_count": 11
        },
        {
          "output_type": "display_data",
          "data": {
            "image/png": "[encoded data removed]",
            "text/plain": [
              "<Figure size 600x400 with 1 Axes>"
            ]
          },
          "metadata": {
            "tags": []
          }
        }
      ]
    },
    {
      "cell_type": "code",
      "metadata": {
        "id": "IL_A_Vkv5zmt"
      },
      "source": [
        "# Use an splitter and load using TabularPandas then to a dataloader\n",
        "\n",
        "# Drop rows with any column N/A, rather than FillMissing\n",
        "#train_good = train_only1[['timestamp', 'building_id', 'meter_reading', 'meter', 'air_temperature', 'dew_temperature', 'hour']].dropna()\n",
        "train_good = train_only1[['timestamp', 'building_id', 'meter_reading', 'meter', 'air_temperature', 'dew_temperature', 'hour']].dropna()\n",
        "\n",
        "# 2-fold cross-validation. Build 2 models, each with half the year as training data\n",
        "splits1=MaskSplitter(train_good['timestamp'] < '2016-07-01')(range_of(train_good))\n",
        "to1 = TabularPandas(train_good, procs=[Categorify],#, FillMissing, Normalize],\n",
        "                   cat_names = [],#'building_id', 'meter'],\n",
        "                   cont_names = ['air_temperature', 'hour', 'dew_temperature'],\n",
        "                   y_names='meter_reading',\n",
        "                   splits=splits1)\n",
        "dls1 = to1.dataloaders(bs=64)"
      ],
      "execution_count": 12,
      "outputs": []
    },
    {
      "cell_type": "markdown",
      "metadata": {
        "id": "pTLrzxiadE_e"
      },
      "source": [
        "Load entire dataset or subset:"
      ]
    },
    {
      "cell_type": "code",
      "metadata": {
        "cellView": "form",
        "id": "SkPycSC7zTr_"
      },
      "source": [
        "#@title\n",
        "# Load the entire dataset into a TabularDataLoader\n",
        "\n",
        "cat_names = ['building_id', 'meter', 'site_id', 'primary_use']\n",
        "#cont_names = ['timestamp', 'square_feet', 'year_built', 'floor_count', 'air_temperature', 'cloud_coverage', 'dew_temperature', 'precip_depth_1_hr', 'sea_level_pressure', 'wind_direction', 'wind_speed', 'time_diff', 'timestamp_gmt']\n",
        "cont_names = ['square_feet', 'year_built', 'floor_count', 'air_temperature', 'cloud_coverage', 'dew_temperature', 'precip_depth_1_hr', 'sea_level_pressure', 'wind_direction', 'wind_speed']\n",
        "procs = [Categorify, FillMissing, Normalize]\n",
        "dls = TabularDataLoaders.from_df(train.head(64*64), procs=procs, cat_names=cat_names, cont_names=cont_names, \n",
        "                                 y_names=\"meter_reading\")"
      ],
      "execution_count": null,
      "outputs": []
    },
    {
      "cell_type": "code",
      "metadata": {
        "cellView": "form",
        "id": "YBXtu10Z2mLu"
      },
      "source": [
        "#@title\n",
        "# Load a smaller dataset into a TabularDataLoader\n",
        "\n",
        "t = train[['meter_reading','building_id','meter','air_temperature']]\n",
        "from fastai.tabular.all import *\n",
        "cat_names = ['building_id','meter']\n",
        "cont_names = ['air_temperature']\n",
        "procs = [Categorify, FillMissing, Normalize]\n",
        "dls = TabularDataLoaders.from_df(t.head(64*1000), procs=procs, cat_names=cat_names, cont_names=cont_names, \n",
        "                                 y_names=\"meter_reading\")"
      ],
      "execution_count": null,
      "outputs": []
    },
    {
      "cell_type": "code",
      "metadata": {
        "id": "NIBKGHdO0lPc"
      },
      "source": [
        "dls1.show_batch()"
      ],
      "execution_count": null,
      "outputs": []
    },
    {
      "cell_type": "code",
      "metadata": {
        "colab": {
          "base_uri": "https://localhost:8080/",
          "height": 359
        },
        "id": "NiXgG2eMyxPj",
        "outputId": "c39d4468-1917-4e37-e0bb-9cb18532820b"
      },
      "source": [
        "# Train a model\n",
        "\n",
        "learn = tabular_learner(dls1, metrics=rmse)\n",
        "learn.summary()\n",
        "# Exploring the learning rates\n",
        "#learn.lr_find(stop_div=False)\n",
        "learn.fit_one_cycle(10, lr_max=1e-3)"
      ],
      "execution_count": 13,
      "outputs": [
        {
          "output_type": "display_data",
          "data": {
            "text/html": [
              ""
            ],
            "text/plain": [
              "<IPython.core.display.HTML object>"
            ]
          },
          "metadata": {
            "tags": []
          }
        },
        {
          "output_type": "display_data",
          "data": {
            "text/html": [
              "<table border=\"1\" class=\"dataframe\">\n",
              "  <thead>\n",
              "    <tr style=\"text-align: left;\">\n",
              "      <th>epoch</th>\n",
              "      <th>train_loss</th>\n",
              "      <th>valid_loss</th>\n",
              "      <th>_rmse</th>\n",
              "      <th>time</th>\n",
              "    </tr>\n",
              "  </thead>\n",
              "  <tbody>\n",
              "    <tr>\n",
              "      <td>0</td>\n",
              "      <td>6094487.500000</td>\n",
              "      <td>12232637.000000</td>\n",
              "      <td>3497.518555</td>\n",
              "      <td>00:01</td>\n",
              "    </tr>\n",
              "    <tr>\n",
              "      <td>1</td>\n",
              "      <td>6131255.000000</td>\n",
              "      <td>12189364.000000</td>\n",
              "      <td>3491.326904</td>\n",
              "      <td>00:00</td>\n",
              "    </tr>\n",
              "    <tr>\n",
              "      <td>2</td>\n",
              "      <td>6081837.500000</td>\n",
              "      <td>12103524.000000</td>\n",
              "      <td>3479.011719</td>\n",
              "      <td>00:00</td>\n",
              "    </tr>\n",
              "    <tr>\n",
              "      <td>3</td>\n",
              "      <td>5913361.500000</td>\n",
              "      <td>12001509.000000</td>\n",
              "      <td>3464.319580</td>\n",
              "      <td>00:00</td>\n",
              "    </tr>\n",
              "    <tr>\n",
              "      <td>4</td>\n",
              "      <td>5963572.500000</td>\n",
              "      <td>11908378.000000</td>\n",
              "      <td>3450.851807</td>\n",
              "      <td>00:00</td>\n",
              "    </tr>\n",
              "    <tr>\n",
              "      <td>5</td>\n",
              "      <td>5870047.500000</td>\n",
              "      <td>11789561.000000</td>\n",
              "      <td>3433.593018</td>\n",
              "      <td>00:00</td>\n",
              "    </tr>\n",
              "    <tr>\n",
              "      <td>6</td>\n",
              "      <td>5884776.500000</td>\n",
              "      <td>11744888.000000</td>\n",
              "      <td>3427.081055</td>\n",
              "      <td>00:00</td>\n",
              "    </tr>\n",
              "    <tr>\n",
              "      <td>7</td>\n",
              "      <td>5858382.000000</td>\n",
              "      <td>11706370.000000</td>\n",
              "      <td>3421.456787</td>\n",
              "      <td>00:00</td>\n",
              "    </tr>\n",
              "    <tr>\n",
              "      <td>8</td>\n",
              "      <td>5769074.000000</td>\n",
              "      <td>11657548.000000</td>\n",
              "      <td>3414.315186</td>\n",
              "      <td>00:00</td>\n",
              "    </tr>\n",
              "    <tr>\n",
              "      <td>9</td>\n",
              "      <td>5776148.500000</td>\n",
              "      <td>11655017.000000</td>\n",
              "      <td>3413.944336</td>\n",
              "      <td>00:00</td>\n",
              "    </tr>\n",
              "  </tbody>\n",
              "</table>"
            ],
            "text/plain": [
              "<IPython.core.display.HTML object>"
            ]
          },
          "metadata": {
            "tags": []
          }
        }
      ]
    },
    {
      "cell_type": "code",
      "metadata": {
        "colab": {
          "base_uri": "https://localhost:8080/",
          "height": 729
        },
        "id": "uLhHJg7D-s9w",
        "outputId": "8603c2a0-06b5-42a4-812a-ca1e2cdf95be"
      },
      "source": [
        "learn.show_results()\n",
        "from sklearn.metrics import mean_squared_error, r2_score\n",
        "\n",
        "xs,y = to1.train.xs,to1.train.y\n",
        "valid_xs,valid_y = to1.valid.xs,to1.valid.y\n",
        "\n",
        "y_pred,y_targs = learn.get_preds(ds_idx=0)\n",
        "valid_y_pred,valid_y_targs = learn.get_preds()\n",
        "\n",
        "print(\"Training set R2: \" + str(r2_score(y_pred.detach().numpy(), y)) + \" RMSE: \" + str(mean_squared_error(y_pred.detach().numpy(), y, squared=False)))\n",
        "print(\"Validation set R2: \" + str(r2_score(valid_y_pred.detach().numpy(), valid_y)) + \" RMSE: \" + str(mean_squared_error(valid_y_pred.detach().numpy(), valid_y, squared=False)))\n",
        "\n",
        "plt.scatter(valid_xs['air_temperature'], valid_y)\n",
        "plt.scatter(valid_xs['air_temperature'], valid_y_pred.detach().numpy(), color='orange')"
      ],
      "execution_count": 44,
      "outputs": [
        {
          "output_type": "display_data",
          "data": {
            "text/html": [
              ""
            ],
            "text/plain": [
              "<IPython.core.display.HTML object>"
            ]
          },
          "metadata": {
            "tags": []
          }
        },
        {
          "output_type": "display_data",
          "data": {
            "text/html": [
              "<table border=\"1\" class=\"dataframe\">\n",
              "  <thead>\n",
              "    <tr style=\"text-align: right;\">\n",
              "      <th></th>\n",
              "      <th>air_temperature</th>\n",
              "      <th>hour</th>\n",
              "      <th>dew_temperature</th>\n",
              "      <th>meter_reading</th>\n",
              "      <th>meter_reading_pred</th>\n",
              "    </tr>\n",
              "  </thead>\n",
              "  <tbody>\n",
              "    <tr>\n",
              "      <th>0</th>\n",
              "      <td>6.100000</td>\n",
              "      <td>6.0</td>\n",
              "      <td>3.3</td>\n",
              "      <td>2101.560059</td>\n",
              "      <td>36.487141</td>\n",
              "    </tr>\n",
              "    <tr>\n",
              "      <th>1</th>\n",
              "      <td>-0.600000</td>\n",
              "      <td>7.0</td>\n",
              "      <td>-7.8</td>\n",
              "      <td>4073.239990</td>\n",
              "      <td>99.818489</td>\n",
              "    </tr>\n",
              "    <tr>\n",
              "      <th>2</th>\n",
              "      <td>-6.700000</td>\n",
              "      <td>18.0</td>\n",
              "      <td>-11.1</td>\n",
              "      <td>5935.060059</td>\n",
              "      <td>147.379089</td>\n",
              "    </tr>\n",
              "    <tr>\n",
              "      <th>3</th>\n",
              "      <td>23.900000</td>\n",
              "      <td>21.0</td>\n",
              "      <td>3.9</td>\n",
              "      <td>4.882800</td>\n",
              "      <td>-25.258020</td>\n",
              "    </tr>\n",
              "    <tr>\n",
              "      <th>4</th>\n",
              "      <td>25.600000</td>\n",
              "      <td>19.0</td>\n",
              "      <td>9.4</td>\n",
              "      <td>891.601990</td>\n",
              "      <td>-24.889725</td>\n",
              "    </tr>\n",
              "    <tr>\n",
              "      <th>5</th>\n",
              "      <td>6.700000</td>\n",
              "      <td>18.0</td>\n",
              "      <td>-2.8</td>\n",
              "      <td>2612.300049</td>\n",
              "      <td>40.574913</td>\n",
              "    </tr>\n",
              "    <tr>\n",
              "      <th>6</th>\n",
              "      <td>1.100000</td>\n",
              "      <td>5.0</td>\n",
              "      <td>-1.7</td>\n",
              "      <td>2985.350098</td>\n",
              "      <td>76.208191</td>\n",
              "    </tr>\n",
              "    <tr>\n",
              "      <th>7</th>\n",
              "      <td>26.000000</td>\n",
              "      <td>20.0</td>\n",
              "      <td>21.0</td>\n",
              "      <td>805.664001</td>\n",
              "      <td>-27.814140</td>\n",
              "    </tr>\n",
              "    <tr>\n",
              "      <th>8</th>\n",
              "      <td>17.200001</td>\n",
              "      <td>9.0</td>\n",
              "      <td>7.2</td>\n",
              "      <td>816.406006</td>\n",
              "      <td>-8.217239</td>\n",
              "    </tr>\n",
              "  </tbody>\n",
              "</table>"
            ],
            "text/plain": [
              "<IPython.core.display.HTML object>"
            ]
          },
          "metadata": {
            "tags": []
          }
        },
        {
          "output_type": "display_data",
          "data": {
            "text/html": [
              ""
            ],
            "text/plain": [
              "<IPython.core.display.HTML object>"
            ]
          },
          "metadata": {
            "tags": []
          }
        },
        {
          "output_type": "display_data",
          "data": {
            "text/html": [
              ""
            ],
            "text/plain": [
              "<IPython.core.display.HTML object>"
            ]
          },
          "metadata": {
            "tags": []
          }
        },
        {
          "output_type": "stream",
          "text": [
            "Training set R2: -1348.267349701588 RMSE: 2404.5054\n",
            "Validation set R2: -2057.68628047243 RMSE: 3413.9446\n"
          ],
          "name": "stdout"
        },
        {
          "output_type": "execute_result",
          "data": {
            "text/plain": [
              "<matplotlib.collections.PathCollection at 0x7fbc2b1dadd0>"
            ]
          },
          "metadata": {
            "tags": []
          },
          "execution_count": 44
        },
        {
          "output_type": "display_data",
          "data": {
            "image/png": "[encoded data removed]",
            "text/plain": [
              "<Figure size 600x400 with 1 Axes>"
            ]
          },
          "metadata": {
            "tags": []
          }
        }
      ]
    },
    {
      "cell_type": "code",
      "metadata": {
        "colab": {
          "base_uri": "https://localhost:8080/"
        },
        "id": "XpRJdns8HMqX",
        "outputId": "166512d3-a386-48ce-de6f-434c33571b7d"
      },
      "source": [
        "y_targs.shape"
      ],
      "execution_count": 47,
      "outputs": [
        {
          "output_type": "execute_result",
          "data": {
            "text/plain": [
              "torch.Size([4410, 1])"
            ]
          },
          "metadata": {
            "tags": []
          },
          "execution_count": 47
        }
      ]
    },
    {
      "cell_type": "code",
      "metadata": {
        "colab": {
          "base_uri": "https://localhost:8080/",
          "height": 452
        },
        "id": "5ESviZk0Fuqk",
        "outputId": "3fdaefa1-da85-407a-985a-821dad0eee7a"
      },
      "source": [
        "# Linear regression using scikit-learn\n",
        "from sklearn.linear_model import LinearRegression\n",
        "from sklearn.metrics import mean_squared_error, r2_score\n",
        "\n",
        "xs,y = to1.train.xs,to1.train.y\n",
        "valid_xs,valid_y = to1.valid.xs,to1.valid.y\n",
        "m = LinearRegression()\n",
        "m.fit(xs.to_numpy(), y);\n",
        "print(\"Training set R2: \" + str(m.score(xs, y)) + \" RMSE: \" + str(mean_squared_error(y, m.predict(xs), squared=False)))\n",
        "print(\"Validation set R2: \" + str(m.score(valid_xs, valid_y)) + \" RMSE: \" + str(mean_squared_error(valid_y, m.predict(valid_xs), squared=False)))\n",
        "print(\"Coefficients: \" + str(m.coef_))\n",
        "print(\"Intercept: \" + str(m.intercept_))\n",
        "\n",
        "#plt.scatter(xs['air_temperature'],y)\n",
        "plt.scatter(valid_xs['air_temperature'], valid_y)\n",
        "plt.scatter(valid_xs['air_temperature'], m.predict(valid_xs),color='orange')"
      ],
      "execution_count": 48,
      "outputs": [
        {
          "output_type": "stream",
          "text": [
            "Training set R2: 0.8810366827535325 RMSE: 535.787\n",
            "Validation set R2: 0.848515958335037 RMSE: 797.66364\n",
            "Coefficients: [-76.61646    9.858627 -53.293335]\n",
            "Intercept: 3165.656\n"
          ],
          "name": "stdout"
        },
        {
          "output_type": "execute_result",
          "data": {
            "text/plain": [
              "<matplotlib.collections.PathCollection at 0x7fbc2b274510>"
            ]
          },
          "metadata": {
            "tags": []
          },
          "execution_count": 48
        },
        {
          "output_type": "display_data",
          "data": {
            "image/png": "[encoded data removed]",
            "text/plain": [
              "<Figure size 600x400 with 1 Axes>"
            ]
          },
          "metadata": {
            "tags": []
          }
        }
      ]
    },
    {
      "cell_type": "markdown",
      "metadata": {
        "id": "BecPlMAy7GCV"
      },
      "source": [
        "Note that the scattered orange line above is due to multiple input variables yet we're just plotting against air_temperature. When just using one input variable, the line is straight."
      ]
    },
    {
      "cell_type": "code",
      "metadata": {
        "id": "p-g1KsCTHZeq",
        "colab": {
          "base_uri": "https://localhost:8080/",
          "height": 1000
        },
        "outputId": "267ad17b-7191-418a-a1cb-a8ddb78e80b3"
      },
      "source": [
        "# Linear regression using PyTorch\n",
        "from torch.utils.data import Dataset, TensorDataset, DataLoader\n",
        "from sklearn.metrics import mean_squared_error, r2_score\n",
        "\n",
        "xs,y = torch.tensor(to1.train.xs.values),torch.tensor(to1.train.y.values)\n",
        "valid_xs,valid_y = torch.tensor(to1.valid.xs.values),torch.tensor(to1.valid.y.values)\n",
        "\n",
        "# Define dataset\n",
        "train_ds = TensorDataset(xs, y)\n",
        "#train_ds = TensorDataset(torch.tensor(xs.values), torch.tensor(y.values))\n",
        "#train_ds = Dataset.from_tensor_slices((xs, y))\n",
        "print(train_ds)\n",
        "\n",
        "# Define data loader\n",
        "batch_size = 64\n",
        "train_dl = DataLoader(train_ds, batch_size, shuffle=True)\n",
        "next(iter(train_dl))\n",
        "\n",
        "# Define model\n",
        "model = nn.Linear(xs.shape[1], 1)#y.shape[1])\n",
        "print(model.weight)\n",
        "print(model.bias)\n",
        "\n",
        "# Define optimizer\n",
        "opt = torch.optim.SGD(model.parameters(), lr=.001)\n",
        "\n",
        "# Define loss function\n",
        "import torch.nn.functional as F\n",
        "loss_fn = F.mse_loss\n",
        "loss = loss_fn(model(xs), y)\n",
        "print(loss)\n",
        "\n",
        "def fit(num_epochs, model, loss_fn, opt):\n",
        "    for epoch in range(num_epochs):\n",
        "        for xb,yb in train_dl:\n",
        "            # Generate predictions\n",
        "            pred = model(xb)\n",
        "            loss = loss_fn(pred, yb)\n",
        "            # Perform gradient descent\n",
        "            loss.backward()\n",
        "            opt.step()\n",
        "            opt.zero_grad()\n",
        "        print('Training loss: ', loss_fn(model(xs), y))\n",
        "\n",
        "# Train the model for several epochs\n",
        "fit(50, model, loss_fn, opt)\n",
        "\n",
        "# Generate predictions\n",
        "y_pred = model(xs)\n",
        "valid_y_pred = model(valid_xs)\n",
        "print(\"Training set R2: \" + str(r2_score(y_pred.detach().numpy(), y)) + \" RMSE: \" + str(mean_squared_error(y_pred.detach().numpy(), y, squared=False)))\n",
        "print(\"Validation set R2: \" + str(r2_score(valid_y_pred.detach().numpy(), valid_y)) + \" RMSE: \" + str(mean_squared_error(valid_y_pred.detach().numpy(), valid_y, squared=False)))\n",
        "print(\"Coefficients: \" + str(model.weight))\n",
        "print(\"Intercept\" + str(model.bias))\n",
        "\n",
        "plt.scatter(valid_xs[:,0], valid_y)\n",
        "plt.scatter(valid_xs[:,0], valid_y_pred.detach().numpy(), color='orange')"
      ],
      "execution_count": 19,
      "outputs": [
        {
          "output_type": "stream",
          "text": [
            "<torch.utils.data.dataset.TensorDataset object at 0x7f56d9a11d90>\n",
            "Parameter containing:\n",
            "tensor([[-0.0279, -0.2112, -0.4328]], requires_grad=True)\n",
            "Parameter containing:\n",
            "tensor([0.3425], requires_grad=True)\n",
            "tensor(6083564.5000, grad_fn=<MseLossBackward>)\n",
            "Training loss:  tensor(3157270.2500, grad_fn=<MseLossBackward>)\n",
            "Training loss:  tensor(3038562.2500, grad_fn=<MseLossBackward>)\n",
            "Training loss:  tensor(3040172.5000, grad_fn=<MseLossBackward>)\n"
          ],
          "name": "stdout"
        },
        {
          "output_type": "stream",
          "text": [
            "/usr/local/lib/python3.7/dist-packages/ipykernel_launcher.py:30: UserWarning: Using a target size (torch.Size([4410])) that is different to the input size (torch.Size([4410, 1])). This will likely lead to incorrect results due to broadcasting. Please ensure they have the same size.\n",
            "/usr/local/lib/python3.7/dist-packages/ipykernel_launcher.py:38: UserWarning: Using a target size (torch.Size([64])) that is different to the input size (torch.Size([64, 1])). This will likely lead to incorrect results due to broadcasting. Please ensure they have the same size.\n",
            "/usr/local/lib/python3.7/dist-packages/ipykernel_launcher.py:38: UserWarning: Using a target size (torch.Size([58])) that is different to the input size (torch.Size([58, 1])). This will likely lead to incorrect results due to broadcasting. Please ensure they have the same size.\n",
            "/usr/local/lib/python3.7/dist-packages/ipykernel_launcher.py:43: UserWarning: Using a target size (torch.Size([4410])) that is different to the input size (torch.Size([4410, 1])). This will likely lead to incorrect results due to broadcasting. Please ensure they have the same size.\n"
          ],
          "name": "stderr"
        },
        {
          "output_type": "stream",
          "text": [
            "Training loss:  tensor(3001640., grad_fn=<MseLossBackward>)\n",
            "Training loss:  tensor(2953377.5000, grad_fn=<MseLossBackward>)\n",
            "Training loss:  tensor(2978136.2500, grad_fn=<MseLossBackward>)\n",
            "Training loss:  tensor(2934418.5000, grad_fn=<MseLossBackward>)\n",
            "Training loss:  tensor(2877487.5000, grad_fn=<MseLossBackward>)\n",
            "Training loss:  tensor(2840216., grad_fn=<MseLossBackward>)\n",
            "Training loss:  tensor(2837932.2500, grad_fn=<MseLossBackward>)\n",
            "Training loss:  tensor(2799506.5000, grad_fn=<MseLossBackward>)\n",
            "Training loss:  tensor(2836210.5000, grad_fn=<MseLossBackward>)\n",
            "Training loss:  tensor(2776785.7500, grad_fn=<MseLossBackward>)\n",
            "Training loss:  tensor(2802382., grad_fn=<MseLossBackward>)\n",
            "Training loss:  tensor(2742863., grad_fn=<MseLossBackward>)\n",
            "Training loss:  tensor(2720460.7500, grad_fn=<MseLossBackward>)\n",
            "Training loss:  tensor(2746403.7500, grad_fn=<MseLossBackward>)\n",
            "Training loss:  tensor(2706342.2500, grad_fn=<MseLossBackward>)\n",
            "Training loss:  tensor(2714497.5000, grad_fn=<MseLossBackward>)\n",
            "Training loss:  tensor(2694150.2500, grad_fn=<MseLossBackward>)\n",
            "Training loss:  tensor(2667684.7500, grad_fn=<MseLossBackward>)\n",
            "Training loss:  tensor(2692543.2500, grad_fn=<MseLossBackward>)\n",
            "Training loss:  tensor(2616312.7500, grad_fn=<MseLossBackward>)\n",
            "Training loss:  tensor(2630018.5000, grad_fn=<MseLossBackward>)\n",
            "Training loss:  tensor(2633815.7500, grad_fn=<MseLossBackward>)\n",
            "Training loss:  tensor(2591039., grad_fn=<MseLossBackward>)\n",
            "Training loss:  tensor(2577042., grad_fn=<MseLossBackward>)\n",
            "Training loss:  tensor(2570128., grad_fn=<MseLossBackward>)\n",
            "Training loss:  tensor(2740796.7500, grad_fn=<MseLossBackward>)\n",
            "Training loss:  tensor(2556166.7500, grad_fn=<MseLossBackward>)\n",
            "Training loss:  tensor(2547220.7500, grad_fn=<MseLossBackward>)\n",
            "Training loss:  tensor(2619128.5000, grad_fn=<MseLossBackward>)\n",
            "Training loss:  tensor(2598027.2500, grad_fn=<MseLossBackward>)\n",
            "Training loss:  tensor(2527616.5000, grad_fn=<MseLossBackward>)\n",
            "Training loss:  tensor(2555991.2500, grad_fn=<MseLossBackward>)\n",
            "Training loss:  tensor(2534364.5000, grad_fn=<MseLossBackward>)\n",
            "Training loss:  tensor(2536924.2500, grad_fn=<MseLossBackward>)\n",
            "Training loss:  tensor(2515357.5000, grad_fn=<MseLossBackward>)\n",
            "Training loss:  tensor(2507420.5000, grad_fn=<MseLossBackward>)\n",
            "Training loss:  tensor(2499529.7500, grad_fn=<MseLossBackward>)\n",
            "Training loss:  tensor(2555521.7500, grad_fn=<MseLossBackward>)\n",
            "Training loss:  tensor(2575995., grad_fn=<MseLossBackward>)\n",
            "Training loss:  tensor(2485703.5000, grad_fn=<MseLossBackward>)\n",
            "Training loss:  tensor(2485548., grad_fn=<MseLossBackward>)\n",
            "Training loss:  tensor(2484740.2500, grad_fn=<MseLossBackward>)\n",
            "Training loss:  tensor(2544642.2500, grad_fn=<MseLossBackward>)\n",
            "Training loss:  tensor(2522784., grad_fn=<MseLossBackward>)\n",
            "Training loss:  tensor(2530530.2500, grad_fn=<MseLossBackward>)\n",
            "Training loss:  tensor(2475184., grad_fn=<MseLossBackward>)\n",
            "Training loss:  tensor(2469516.5000, grad_fn=<MseLossBackward>)\n",
            "Training set R2: -48.770015039726836 RMSE: 1674.5166\n",
            "Validation set R2: -81.1514964200389 RMSE: 2405.375\n",
            "Coefficients: Parameter containing:\n",
            "tensor([[ 32.7963,  20.9858, -25.5027]], requires_grad=True)\n",
            "InterceptParameter containing:\n",
            "tensor([1414.7421], requires_grad=True)\n"
          ],
          "name": "stdout"
        },
        {
          "output_type": "execute_result",
          "data": {
            "text/plain": [
              "<matplotlib.collections.PathCollection at 0x7f56d9967410>"
            ]
          },
          "metadata": {
            "tags": []
          },
          "execution_count": 19
        },
        {
          "output_type": "display_data",
          "data": {
            "image/png": "[encoded data removed]",
            "text/plain": [
              "<Figure size 600x400 with 1 Axes>"
            ]
          },
          "metadata": {
            "tags": []
          }
        }
      ]
    },
    {
      "cell_type": "markdown",
      "metadata": {
        "id": "xLttyPH__Ug-"
      },
      "source": [
        "To do:\n",
        "\n",
        "\n",
        "1.   Figure out why continuous variables are shown as boolean\n",
        "2.   Handle dates\n",
        "3.   Create training and validation sets, rather than using TabularDataLoader\n",
        "\n"
      ]
    }
  ]
}