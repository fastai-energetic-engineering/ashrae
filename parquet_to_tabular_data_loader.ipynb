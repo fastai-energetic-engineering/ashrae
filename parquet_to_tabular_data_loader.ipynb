{
  "nbformat": 4,
  "nbformat_minor": 0,
  "metadata": {
    "colab": {
      "name": "parquet_to_tabular_data_loader.ipynb",
      "provenance": [],
      "collapsed_sections": [],
      "authorship_tag": "ABX9TyMtVWsS+nJU8hSpRck09DZz",
      "include_colab_link": true
    },
    "kernelspec": {
      "name": "python3",
      "display_name": "Python 3"
    },
    "language_info": {
      "name": "python"
    },
    "accelerator": "GPU",
    "widgets": {
      "application/vnd.jupyter.widget-state+json": {
        "c8ef732e40cf41199eeda0b9d7c6ac97": {
          "model_module": "@jupyter-widgets/controls",
          "model_name": "HBoxModel",
          "state": {
            "_view_name": "HBoxView",
            "_dom_classes": [],
            "_model_name": "HBoxModel",
            "_view_module": "@jupyter-widgets/controls",
            "_model_module_version": "1.5.0",
            "_view_count": null,
            "_view_module_version": "1.5.0",
            "box_style": "",
            "layout": "IPY_MODEL_7f1131891476473ebff530874c624ca7",
            "_model_module": "@jupyter-widgets/controls",
            "children": [
              "IPY_MODEL_09f01c1910524a289af522dcce00a134",
              "IPY_MODEL_b5796c6ce7e84f59882973dfd62e02fa"
            ]
          }
        },
        "7f1131891476473ebff530874c624ca7": {
          "model_module": "@jupyter-widgets/base",
          "model_name": "LayoutModel",
          "state": {
            "_view_name": "LayoutView",
            "grid_template_rows": null,
            "right": null,
            "justify_content": null,
            "_view_module": "@jupyter-widgets/base",
            "overflow": null,
            "_model_module_version": "1.2.0",
            "_view_count": null,
            "flex_flow": null,
            "width": null,
            "min_width": null,
            "border": null,
            "align_items": null,
            "bottom": null,
            "_model_module": "@jupyter-widgets/base",
            "top": null,
            "grid_column": null,
            "overflow_y": null,
            "overflow_x": null,
            "grid_auto_flow": null,
            "grid_area": null,
            "grid_template_columns": null,
            "flex": null,
            "_model_name": "LayoutModel",
            "justify_items": null,
            "grid_row": null,
            "max_height": null,
            "align_content": null,
            "visibility": null,
            "align_self": null,
            "height": null,
            "min_height": null,
            "padding": null,
            "grid_auto_rows": null,
            "grid_gap": null,
            "max_width": null,
            "order": null,
            "_view_module_version": "1.2.0",
            "grid_template_areas": null,
            "object_position": null,
            "object_fit": null,
            "grid_auto_columns": null,
            "margin": null,
            "display": null,
            "left": null
          }
        },
        "09f01c1910524a289af522dcce00a134": {
          "model_module": "@jupyter-widgets/controls",
          "model_name": "FloatProgressModel",
          "state": {
            "_view_name": "ProgressView",
            "style": "IPY_MODEL_617d6a251a0e4b77bf353c1848189ca1",
            "_dom_classes": [],
            "description": "apply progress: 100%",
            "_model_name": "FloatProgressModel",
            "bar_style": "success",
            "max": 12393999,
            "_view_module": "@jupyter-widgets/controls",
            "_model_module_version": "1.5.0",
            "value": 12393999,
            "_view_count": null,
            "_view_module_version": "1.5.0",
            "orientation": "horizontal",
            "min": 0,
            "description_tooltip": null,
            "_model_module": "@jupyter-widgets/controls",
            "layout": "IPY_MODEL_4528b546539c445eb7406f2109e134e5"
          }
        },
        "b5796c6ce7e84f59882973dfd62e02fa": {
          "model_module": "@jupyter-widgets/controls",
          "model_name": "HTMLModel",
          "state": {
            "_view_name": "HTMLView",
            "style": "IPY_MODEL_7a2890318a4b4e6b83391ea38bd5e309",
            "_dom_classes": [],
            "description": "",
            "_model_name": "HTMLModel",
            "placeholder": "​",
            "_view_module": "@jupyter-widgets/controls",
            "_model_module_version": "1.5.0",
            "value": " 12393999/12393999 [12:17&lt;00:00, 16810.74it/s]",
            "_view_count": null,
            "_view_module_version": "1.5.0",
            "description_tooltip": null,
            "_model_module": "@jupyter-widgets/controls",
            "layout": "IPY_MODEL_16990eaa9a01403c88dcf83b2639cbb9"
          }
        },
        "617d6a251a0e4b77bf353c1848189ca1": {
          "model_module": "@jupyter-widgets/controls",
          "model_name": "ProgressStyleModel",
          "state": {
            "_view_name": "StyleView",
            "_model_name": "ProgressStyleModel",
            "description_width": "initial",
            "_view_module": "@jupyter-widgets/base",
            "_model_module_version": "1.5.0",
            "_view_count": null,
            "_view_module_version": "1.2.0",
            "bar_color": null,
            "_model_module": "@jupyter-widgets/controls"
          }
        },
        "4528b546539c445eb7406f2109e134e5": {
          "model_module": "@jupyter-widgets/base",
          "model_name": "LayoutModel",
          "state": {
            "_view_name": "LayoutView",
            "grid_template_rows": null,
            "right": null,
            "justify_content": null,
            "_view_module": "@jupyter-widgets/base",
            "overflow": null,
            "_model_module_version": "1.2.0",
            "_view_count": null,
            "flex_flow": null,
            "width": null,
            "min_width": null,
            "border": null,
            "align_items": null,
            "bottom": null,
            "_model_module": "@jupyter-widgets/base",
            "top": null,
            "grid_column": null,
            "overflow_y": null,
            "overflow_x": null,
            "grid_auto_flow": null,
            "grid_area": null,
            "grid_template_columns": null,
            "flex": null,
            "_model_name": "LayoutModel",
            "justify_items": null,
            "grid_row": null,
            "max_height": null,
            "align_content": null,
            "visibility": null,
            "align_self": null,
            "height": null,
            "min_height": null,
            "padding": null,
            "grid_auto_rows": null,
            "grid_gap": null,
            "max_width": null,
            "order": null,
            "_view_module_version": "1.2.0",
            "grid_template_areas": null,
            "object_position": null,
            "object_fit": null,
            "grid_auto_columns": null,
            "margin": null,
            "display": null,
            "left": null
          }
        },
        "7a2890318a4b4e6b83391ea38bd5e309": {
          "model_module": "@jupyter-widgets/controls",
          "model_name": "DescriptionStyleModel",
          "state": {
            "_view_name": "StyleView",
            "_model_name": "DescriptionStyleModel",
            "description_width": "",
            "_view_module": "@jupyter-widgets/base",
            "_model_module_version": "1.5.0",
            "_view_count": null,
            "_view_module_version": "1.2.0",
            "_model_module": "@jupyter-widgets/controls"
          }
        },
        "16990eaa9a01403c88dcf83b2639cbb9": {
          "model_module": "@jupyter-widgets/base",
          "model_name": "LayoutModel",
          "state": {
            "_view_name": "LayoutView",
            "grid_template_rows": null,
            "right": null,
            "justify_content": null,
            "_view_module": "@jupyter-widgets/base",
            "overflow": null,
            "_model_module_version": "1.2.0",
            "_view_count": null,
            "flex_flow": null,
            "width": null,
            "min_width": null,
            "border": null,
            "align_items": null,
            "bottom": null,
            "_model_module": "@jupyter-widgets/base",
            "top": null,
            "grid_column": null,
            "overflow_y": null,
            "overflow_x": null,
            "grid_auto_flow": null,
            "grid_area": null,
            "grid_template_columns": null,
            "flex": null,
            "_model_name": "LayoutModel",
            "justify_items": null,
            "grid_row": null,
            "max_height": null,
            "align_content": null,
            "visibility": null,
            "align_self": null,
            "height": null,
            "min_height": null,
            "padding": null,
            "grid_auto_rows": null,
            "grid_gap": null,
            "max_width": null,
            "order": null,
            "_view_module_version": "1.2.0",
            "grid_template_areas": null,
            "object_position": null,
            "object_fit": null,
            "grid_auto_columns": null,
            "margin": null,
            "display": null,
            "left": null
          }
        },
        "bf878a6428ea456788e247c787d4d96e": {
          "model_module": "@jupyter-widgets/controls",
          "model_name": "HBoxModel",
          "state": {
            "_view_name": "HBoxView",
            "_dom_classes": [],
            "_model_name": "HBoxModel",
            "_view_module": "@jupyter-widgets/controls",
            "_model_module_version": "1.5.0",
            "_view_count": null,
            "_view_module_version": "1.5.0",
            "box_style": "",
            "layout": "IPY_MODEL_cc15dfe8b7f34bb7bd0e8b73ed954bf2",
            "_model_module": "@jupyter-widgets/controls",
            "children": [
              "IPY_MODEL_59f4fcd7f71642108b4275b1a95845df",
              "IPY_MODEL_6d5772a9102d4081b6593927a39fc0fb"
            ]
          }
        },
        "cc15dfe8b7f34bb7bd0e8b73ed954bf2": {
          "model_module": "@jupyter-widgets/base",
          "model_name": "LayoutModel",
          "state": {
            "_view_name": "LayoutView",
            "grid_template_rows": null,
            "right": null,
            "justify_content": null,
            "_view_module": "@jupyter-widgets/base",
            "overflow": null,
            "_model_module_version": "1.2.0",
            "_view_count": null,
            "flex_flow": null,
            "width": null,
            "min_width": null,
            "border": null,
            "align_items": null,
            "bottom": null,
            "_model_module": "@jupyter-widgets/base",
            "top": null,
            "grid_column": null,
            "overflow_y": null,
            "overflow_x": null,
            "grid_auto_flow": null,
            "grid_area": null,
            "grid_template_columns": null,
            "flex": null,
            "_model_name": "LayoutModel",
            "justify_items": null,
            "grid_row": null,
            "max_height": null,
            "align_content": null,
            "visibility": null,
            "align_self": null,
            "height": null,
            "min_height": null,
            "padding": null,
            "grid_auto_rows": null,
            "grid_gap": null,
            "max_width": null,
            "order": null,
            "_view_module_version": "1.2.0",
            "grid_template_areas": null,
            "object_position": null,
            "object_fit": null,
            "grid_auto_columns": null,
            "margin": null,
            "display": null,
            "left": null
          }
        },
        "59f4fcd7f71642108b4275b1a95845df": {
          "model_module": "@jupyter-widgets/controls",
          "model_name": "FloatProgressModel",
          "state": {
            "_view_name": "ProgressView",
            "style": "IPY_MODEL_bca9e35d698d4ff6a33893d322660460",
            "_dom_classes": [],
            "description": "apply progress: 100%",
            "_model_name": "FloatProgressModel",
            "bar_style": "success",
            "max": 12393999,
            "_view_module": "@jupyter-widgets/controls",
            "_model_module_version": "1.5.0",
            "value": 12393999,
            "_view_count": null,
            "_view_module_version": "1.5.0",
            "orientation": "horizontal",
            "min": 0,
            "description_tooltip": null,
            "_model_module": "@jupyter-widgets/controls",
            "layout": "IPY_MODEL_c910c4d756224460af8723bb0c7e4557"
          }
        },
        "6d5772a9102d4081b6593927a39fc0fb": {
          "model_module": "@jupyter-widgets/controls",
          "model_name": "HTMLModel",
          "state": {
            "_view_name": "HTMLView",
            "style": "IPY_MODEL_4c353fc2445e467c8e778ea62bd80b0d",
            "_dom_classes": [],
            "description": "",
            "_model_name": "HTMLModel",
            "placeholder": "​",
            "_view_module": "@jupyter-widgets/controls",
            "_model_module_version": "1.5.0",
            "value": " 12393999/12393999 [07:02&lt;00:00, 29303.16it/s]",
            "_view_count": null,
            "_view_module_version": "1.5.0",
            "description_tooltip": null,
            "_model_module": "@jupyter-widgets/controls",
            "layout": "IPY_MODEL_dda830b1ff2d4486abd5f2a959939c55"
          }
        },
        "bca9e35d698d4ff6a33893d322660460": {
          "model_module": "@jupyter-widgets/controls",
          "model_name": "ProgressStyleModel",
          "state": {
            "_view_name": "StyleView",
            "_model_name": "ProgressStyleModel",
            "description_width": "initial",
            "_view_module": "@jupyter-widgets/base",
            "_model_module_version": "1.5.0",
            "_view_count": null,
            "_view_module_version": "1.2.0",
            "bar_color": null,
            "_model_module": "@jupyter-widgets/controls"
          }
        },
        "c910c4d756224460af8723bb0c7e4557": {
          "model_module": "@jupyter-widgets/base",
          "model_name": "LayoutModel",
          "state": {
            "_view_name": "LayoutView",
            "grid_template_rows": null,
            "right": null,
            "justify_content": null,
            "_view_module": "@jupyter-widgets/base",
            "overflow": null,
            "_model_module_version": "1.2.0",
            "_view_count": null,
            "flex_flow": null,
            "width": null,
            "min_width": null,
            "border": null,
            "align_items": null,
            "bottom": null,
            "_model_module": "@jupyter-widgets/base",
            "top": null,
            "grid_column": null,
            "overflow_y": null,
            "overflow_x": null,
            "grid_auto_flow": null,
            "grid_area": null,
            "grid_template_columns": null,
            "flex": null,
            "_model_name": "LayoutModel",
            "justify_items": null,
            "grid_row": null,
            "max_height": null,
            "align_content": null,
            "visibility": null,
            "align_self": null,
            "height": null,
            "min_height": null,
            "padding": null,
            "grid_auto_rows": null,
            "grid_gap": null,
            "max_width": null,
            "order": null,
            "_view_module_version": "1.2.0",
            "grid_template_areas": null,
            "object_position": null,
            "object_fit": null,
            "grid_auto_columns": null,
            "margin": null,
            "display": null,
            "left": null
          }
        },
        "4c353fc2445e467c8e778ea62bd80b0d": {
          "model_module": "@jupyter-widgets/controls",
          "model_name": "DescriptionStyleModel",
          "state": {
            "_view_name": "StyleView",
            "_model_name": "DescriptionStyleModel",
            "description_width": "",
            "_view_module": "@jupyter-widgets/base",
            "_model_module_version": "1.5.0",
            "_view_count": null,
            "_view_module_version": "1.2.0",
            "_model_module": "@jupyter-widgets/controls"
          }
        },
        "dda830b1ff2d4486abd5f2a959939c55": {
          "model_module": "@jupyter-widgets/base",
          "model_name": "LayoutModel",
          "state": {
            "_view_name": "LayoutView",
            "grid_template_rows": null,
            "right": null,
            "justify_content": null,
            "_view_module": "@jupyter-widgets/base",
            "overflow": null,
            "_model_module_version": "1.2.0",
            "_view_count": null,
            "flex_flow": null,
            "width": null,
            "min_width": null,
            "border": null,
            "align_items": null,
            "bottom": null,
            "_model_module": "@jupyter-widgets/base",
            "top": null,
            "grid_column": null,
            "overflow_y": null,
            "overflow_x": null,
            "grid_auto_flow": null,
            "grid_area": null,
            "grid_template_columns": null,
            "flex": null,
            "_model_name": "LayoutModel",
            "justify_items": null,
            "grid_row": null,
            "max_height": null,
            "align_content": null,
            "visibility": null,
            "align_self": null,
            "height": null,
            "min_height": null,
            "padding": null,
            "grid_auto_rows": null,
            "grid_gap": null,
            "max_width": null,
            "order": null,
            "_view_module_version": "1.2.0",
            "grid_template_areas": null,
            "object_position": null,
            "object_fit": null,
            "grid_auto_columns": null,
            "margin": null,
            "display": null,
            "left": null
          }
        }
      }
    }
  },
  "cells": [
    {
      "cell_type": "markdown",
      "metadata": {
        "id": "view-in-github",
        "colab_type": "text"
      },
      "source": [
        "<a href=\"https://colab.research.google.com/github/fastai-energetic-engineering/ashrae/blob/master/parquet_to_tabular_data_loader.ipynb\" target=\"_parent\"><img src=\"https://colab.research.google.com/assets/colab-badge.svg\" alt=\"Open In Colab\"/></a>"
      ]
    },
    {
      "cell_type": "code",
      "metadata": {
        "id": "N_lfWqYVUWLC",
        "colab": {
          "base_uri": "https://localhost:8080/"
        },
        "outputId": "1010cdf8-59f6-45f5-aa89-94a3aac39a5d"
      },
      "source": [
        "!pip install -Uqq fastbook\n",
        "import fastbook\n",
        "fastbook.setup_book()"
      ],
      "execution_count": 1,
      "outputs": [
        {
          "output_type": "stream",
          "text": [
            "\u001b[?25l\r\u001b[K     |▌                               | 10kB 27.7MB/s eta 0:00:01\r\u001b[K     |█                               | 20kB 33.6MB/s eta 0:00:01\r\u001b[K     |█▍                              | 30kB 34.9MB/s eta 0:00:01\r\u001b[K     |█▉                              | 40kB 37.8MB/s eta 0:00:01\r\u001b[K     |██▎                             | 51kB 30.1MB/s eta 0:00:01\r\u001b[K     |██▊                             | 61kB 32.2MB/s eta 0:00:01\r\u001b[K     |███▏                            | 71kB 30.1MB/s eta 0:00:01\r\u001b[K     |███▋                            | 81kB 30.4MB/s eta 0:00:01\r\u001b[K     |████                            | 92kB 29.5MB/s eta 0:00:01\r\u001b[K     |████▌                           | 102kB 30.9MB/s eta 0:00:01\r\u001b[K     |█████                           | 112kB 30.9MB/s eta 0:00:01\r\u001b[K     |█████▌                          | 122kB 30.9MB/s eta 0:00:01\r\u001b[K     |██████                          | 133kB 30.9MB/s eta 0:00:01\r\u001b[K     |██████▍                         | 143kB 30.9MB/s eta 0:00:01\r\u001b[K     |██████▉                         | 153kB 30.9MB/s eta 0:00:01\r\u001b[K     |███████▎                        | 163kB 30.9MB/s eta 0:00:01\r\u001b[K     |███████▊                        | 174kB 30.9MB/s eta 0:00:01\r\u001b[K     |████████▏                       | 184kB 30.9MB/s eta 0:00:01\r\u001b[K     |████████▋                       | 194kB 30.9MB/s eta 0:00:01\r\u001b[K     |█████████                       | 204kB 30.9MB/s eta 0:00:01\r\u001b[K     |█████████▋                      | 215kB 30.9MB/s eta 0:00:01\r\u001b[K     |██████████                      | 225kB 30.9MB/s eta 0:00:01\r\u001b[K     |██████████▌                     | 235kB 30.9MB/s eta 0:00:01\r\u001b[K     |███████████                     | 245kB 30.9MB/s eta 0:00:01\r\u001b[K     |███████████▍                    | 256kB 30.9MB/s eta 0:00:01\r\u001b[K     |███████████▉                    | 266kB 30.9MB/s eta 0:00:01\r\u001b[K     |████████████▎                   | 276kB 30.9MB/s eta 0:00:01\r\u001b[K     |████████████▊                   | 286kB 30.9MB/s eta 0:00:01\r\u001b[K     |█████████████▏                  | 296kB 30.9MB/s eta 0:00:01\r\u001b[K     |█████████████▋                  | 307kB 30.9MB/s eta 0:00:01\r\u001b[K     |██████████████                  | 317kB 30.9MB/s eta 0:00:01\r\u001b[K     |██████████████▋                 | 327kB 30.9MB/s eta 0:00:01\r\u001b[K     |███████████████                 | 337kB 30.9MB/s eta 0:00:01\r\u001b[K     |███████████████▌                | 348kB 30.9MB/s eta 0:00:01\r\u001b[K     |████████████████                | 358kB 30.9MB/s eta 0:00:01\r\u001b[K     |████████████████▍               | 368kB 30.9MB/s eta 0:00:01\r\u001b[K     |████████████████▉               | 378kB 30.9MB/s eta 0:00:01\r\u001b[K     |█████████████████▎              | 389kB 30.9MB/s eta 0:00:01\r\u001b[K     |█████████████████▊              | 399kB 30.9MB/s eta 0:00:01\r\u001b[K     |██████████████████▏             | 409kB 30.9MB/s eta 0:00:01\r\u001b[K     |██████████████████▋             | 419kB 30.9MB/s eta 0:00:01\r\u001b[K     |███████████████████▏            | 430kB 30.9MB/s eta 0:00:01\r\u001b[K     |███████████████████▋            | 440kB 30.9MB/s eta 0:00:01\r\u001b[K     |████████████████████            | 450kB 30.9MB/s eta 0:00:01\r\u001b[K     |████████████████████▌           | 460kB 30.9MB/s eta 0:00:01\r\u001b[K     |█████████████████████           | 471kB 30.9MB/s eta 0:00:01\r\u001b[K     |█████████████████████▍          | 481kB 30.9MB/s eta 0:00:01\r\u001b[K     |█████████████████████▉          | 491kB 30.9MB/s eta 0:00:01\r\u001b[K     |██████████████████████▎         | 501kB 30.9MB/s eta 0:00:01\r\u001b[K     |██████████████████████▊         | 512kB 30.9MB/s eta 0:00:01\r\u001b[K     |███████████████████████▏        | 522kB 30.9MB/s eta 0:00:01\r\u001b[K     |███████████████████████▋        | 532kB 30.9MB/s eta 0:00:01\r\u001b[K     |████████████████████████▏       | 542kB 30.9MB/s eta 0:00:01\r\u001b[K     |████████████████████████▋       | 552kB 30.9MB/s eta 0:00:01\r\u001b[K     |█████████████████████████       | 563kB 30.9MB/s eta 0:00:01\r\u001b[K     |█████████████████████████▌      | 573kB 30.9MB/s eta 0:00:01\r\u001b[K     |██████████████████████████      | 583kB 30.9MB/s eta 0:00:01\r\u001b[K     |██████████████████████████▍     | 593kB 30.9MB/s eta 0:00:01\r\u001b[K     |██████████████████████████▉     | 604kB 30.9MB/s eta 0:00:01\r\u001b[K     |███████████████████████████▎    | 614kB 30.9MB/s eta 0:00:01\r\u001b[K     |███████████████████████████▊    | 624kB 30.9MB/s eta 0:00:01\r\u001b[K     |████████████████████████████▏   | 634kB 30.9MB/s eta 0:00:01\r\u001b[K     |████████████████████████████▊   | 645kB 30.9MB/s eta 0:00:01\r\u001b[K     |█████████████████████████████▏  | 655kB 30.9MB/s eta 0:00:01\r\u001b[K     |█████████████████████████████▋  | 665kB 30.9MB/s eta 0:00:01\r\u001b[K     |██████████████████████████████  | 675kB 30.9MB/s eta 0:00:01\r\u001b[K     |██████████████████████████████▌ | 686kB 30.9MB/s eta 0:00:01\r\u001b[K     |███████████████████████████████ | 696kB 30.9MB/s eta 0:00:01\r\u001b[K     |███████████████████████████████▍| 706kB 30.9MB/s eta 0:00:01\r\u001b[K     |███████████████████████████████▉| 716kB 30.9MB/s eta 0:00:01\r\u001b[K     |████████████████████████████████| 727kB 30.9MB/s \n",
            "\u001b[K     |████████████████████████████████| 51kB 8.4MB/s \n",
            "\u001b[K     |████████████████████████████████| 1.2MB 44.4MB/s \n",
            "\u001b[K     |████████████████████████████████| 194kB 54.4MB/s \n",
            "\u001b[K     |████████████████████████████████| 61kB 10.4MB/s \n",
            "\u001b[K     |████████████████████████████████| 61kB 10.6MB/s \n",
            "\u001b[?25hMounted at /content/gdrive\n"
          ],
          "name": "stdout"
        }
      ]
    },
    {
      "cell_type": "code",
      "metadata": {
        "id": "9tNDYx8XUXcT"
      },
      "source": [
        "#collapse\n",
        "import datetime\n",
        "import os\n",
        "\n",
        "import pandas as pd\n",
        "from fastai.tabular.all import *\n",
        "from fastbook import *\n",
        "from tqdm.auto import tqdm"
      ],
      "execution_count": 2,
      "outputs": []
    },
    {
      "cell_type": "code",
      "metadata": {
        "colab": {
          "base_uri": "https://localhost:8080/"
        },
        "id": "Y1RIKbCy8GLw",
        "outputId": "cbd9f9cb-c185-47b8-8dba-ed28b8b48f40"
      },
      "source": [
        "tqdm.pandas(desc=\"apply progress\")"
      ],
      "execution_count": 3,
      "outputs": [
        {
          "output_type": "stream",
          "text": [
            "/usr/local/lib/python3.7/dist-packages/tqdm/std.py:658: FutureWarning: The Panel class is removed from pandas. Accessing it from the top-level namespace will also be removed in the next version\n",
            "  from pandas import Panel\n"
          ],
          "name": "stderr"
        }
      ]
    },
    {
      "cell_type": "code",
      "metadata": {
        "id": "-k1MgZqGVmIk",
        "colab": {
          "base_uri": "https://localhost:8080/"
        },
        "outputId": "7c8da112-aed1-430c-ea92-1b7b650bec68"
      },
      "source": [
        "%cd /content/gdrive/MyDrive/Colab Notebooks/ashrae/"
      ],
      "execution_count": 4,
      "outputs": [
        {
          "output_type": "stream",
          "text": [
            "/content/gdrive/MyDrive/Colab Notebooks/ashrae\n"
          ],
          "name": "stdout"
        }
      ]
    },
    {
      "cell_type": "code",
      "metadata": {
        "id": "Sow1XqcwVOPi"
      },
      "source": [
        "df = pd.read_parquet(\"train_combined.parquet.snappy\")"
      ],
      "execution_count": 5,
      "outputs": []
    },
    {
      "cell_type": "code",
      "metadata": {
        "id": "8KvpZrylcvbx"
      },
      "source": [
        "year_fraction = df[\"timestamp\"] - df[\"timestamp\"].iloc[0]"
      ],
      "execution_count": 6,
      "outputs": []
    },
    {
      "cell_type": "code",
      "metadata": {
        "id": "JjMMYx1vdEuE"
      },
      "source": [
        "df[\"year_fraction\"] = year_fraction / year_fraction.max()"
      ],
      "execution_count": 7,
      "outputs": []
    },
    {
      "cell_type": "code",
      "metadata": {
        "colab": {
          "base_uri": "https://localhost:8080/",
          "height": 66,
          "referenced_widgets": [
            "c8ef732e40cf41199eeda0b9d7c6ac97",
            "7f1131891476473ebff530874c624ca7",
            "09f01c1910524a289af522dcce00a134",
            "b5796c6ce7e84f59882973dfd62e02fa",
            "617d6a251a0e4b77bf353c1848189ca1",
            "4528b546539c445eb7406f2109e134e5",
            "7a2890318a4b4e6b83391ea38bd5e309",
            "16990eaa9a01403c88dcf83b2639cbb9"
          ]
        },
        "id": "nG3leKv78LVG",
        "outputId": "eaeb2f36-01a4-427d-d9c0-eee94093ce57"
      },
      "source": [
        "df[\"week_fraction\"] = df[\"timestamp\"].progress_apply(lambda ts: (ts - pd.Timestamp((ts - pd.Timedelta(days=ts.dayofweek)).date())) / pd.Timedelta(days=7))"
      ],
      "execution_count": 8,
      "outputs": [
        {
          "output_type": "display_data",
          "data": {
            "application/vnd.jupyter.widget-view+json": {
              "model_id": "c8ef732e40cf41199eeda0b9d7c6ac97",
              "version_minor": 0,
              "version_major": 2
            },
            "text/plain": [
              "HBox(children=(FloatProgress(value=0.0, description='apply progress', max=12393999.0, style=ProgressStyle(desc…"
            ]
          },
          "metadata": {
            "tags": []
          }
        },
        {
          "output_type": "stream",
          "text": [
            "\n"
          ],
          "name": "stdout"
        }
      ]
    },
    {
      "cell_type": "code",
      "metadata": {
        "colab": {
          "base_uri": "https://localhost:8080/",
          "height": 66,
          "referenced_widgets": [
            "bf878a6428ea456788e247c787d4d96e",
            "cc15dfe8b7f34bb7bd0e8b73ed954bf2",
            "59f4fcd7f71642108b4275b1a95845df",
            "6d5772a9102d4081b6593927a39fc0fb",
            "bca9e35d698d4ff6a33893d322660460",
            "c910c4d756224460af8723bb0c7e4557",
            "4c353fc2445e467c8e778ea62bd80b0d",
            "dda830b1ff2d4486abd5f2a959939c55"
          ]
        },
        "id": "bsMuN_Pe8MOE",
        "outputId": "b73cdbb3-a65e-40af-ae52-06b511e07f21"
      },
      "source": [
        "df[\"day_fraction\"] = df[\"timestamp\"].progress_apply(lambda ts: (ts - pd.Timestamp(ts.date())) / pd.Timedelta(hours=24))"
      ],
      "execution_count": 9,
      "outputs": [
        {
          "output_type": "display_data",
          "data": {
            "application/vnd.jupyter.widget-view+json": {
              "model_id": "bf878a6428ea456788e247c787d4d96e",
              "version_minor": 0,
              "version_major": 2
            },
            "text/plain": [
              "HBox(children=(FloatProgress(value=0.0, description='apply progress', max=12393999.0, style=ProgressStyle(desc…"
            ]
          },
          "metadata": {
            "tags": []
          }
        },
        {
          "output_type": "stream",
          "text": [
            "\n"
          ],
          "name": "stdout"
        }
      ]
    },
    {
      "cell_type": "code",
      "metadata": {
        "id": "6KEbMSS781jx"
      },
      "source": [
        "# Save or load the feature engineered dataframe here\n",
        "\n",
        "df.to_parquet(\"feature_enhanced_train_combined.parquet.snappy\")\n",
        "# df = pd.read_parquet(\"feature_enhanced_train_combined.parquet.snappy\")"
      ],
      "execution_count": 10,
      "outputs": []
    },
    {
      "cell_type": "code",
      "metadata": {
        "id": "OZnWbrucWhG1"
      },
      "source": [
        "cat_names = [\"building_id\", \"site_id\", \"primary_use\"]\n",
        "cont_names = [\n",
        "    \"year_fraction\",\n",
        "    \"week_fraction\",\n",
        "    \"day_fraction\"\n",
        "    \"square_feet\",\n",
        "    \"year_built\",\n",
        "    \"floor_count\",\n",
        "    \"air_temperature\",\n",
        "    \"cloud_coverage\",\n",
        "    \"dew_temperature\",\n",
        "    \"precip_depth_1_hr\",\n",
        "    \"sea_level_pressure\",\n",
        "    \"wind_direction\",\n",
        "    \"wind_speed\",\n",
        "]\n",
        "y_names = [\"meter_0\", \"meter_1\", \"meter_2\", \"meter_3\"]\n",
        "procs = [Categorify, FillMissing, Normalize]"
      ],
      "execution_count": null,
      "outputs": []
    },
    {
      "cell_type": "code",
      "metadata": {
        "id": "l9RMN6vEWtWI"
      },
      "source": [
        "dls = TabularDataLoaders.from_df(\n",
        "    df=df,\n",
        "    procs=procs,\n",
        "    cat_names=cat_names,\n",
        "    cont_names=cont_names,\n",
        "    y_names=y_names,\n",
        "    shuffle=False\n",
        ")"
      ],
      "execution_count": null,
      "outputs": []
    },
    {
      "cell_type": "code",
      "metadata": {
        "id": "mvWgo3PGW2xR"
      },
      "source": [
        "dls.show_batch()"
      ],
      "execution_count": null,
      "outputs": []
    },
    {
      "cell_type": "code",
      "metadata": {
        "id": "UsaDfSP7aESJ"
      },
      "source": [
        "# Free up some RAM by deallocating the DataFrame\n",
        "del df"
      ],
      "execution_count": null,
      "outputs": []
    }
  ]
}