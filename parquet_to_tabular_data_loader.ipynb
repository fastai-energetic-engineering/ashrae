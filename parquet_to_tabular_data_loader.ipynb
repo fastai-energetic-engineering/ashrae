{
  "nbformat": 4,
  "nbformat_minor": 0,
  "metadata": {
    "colab": {
      "name": "parquet_to_tabular_data_loader.ipynb",
      "provenance": [],
      "collapsed_sections": [],
      "authorship_tag": "ABX9TyOozLKqtvGbWxUGkKzm77/1",
      "include_colab_link": true
    },
    "kernelspec": {
      "name": "python3",
      "display_name": "Python 3"
    },
    "language_info": {
      "name": "python"
    },
    "accelerator": "GPU"
  },
  "cells": [
    {
      "cell_type": "markdown",
      "metadata": {
        "id": "view-in-github",
        "colab_type": "text"
      },
      "source": [
        "<a href=\"https://colab.research.google.com/github/fastai-energetic-engineering/ashrae/blob/master/parquet_to_tabular_data_loader.ipynb\" target=\"_parent\"><img src=\"https://colab.research.google.com/assets/colab-badge.svg\" alt=\"Open In Colab\"/></a>"
      ]
    },
    {
      "cell_type": "code",
      "metadata": {
        "id": "N_lfWqYVUWLC"
      },
      "source": [
        "!pip install -Uqq fastbook\n",
        "import fastbook\n",
        "fastbook.setup_book()"
      ],
      "execution_count": null,
      "outputs": []
    },
    {
      "cell_type": "code",
      "metadata": {
        "id": "9tNDYx8XUXcT"
      },
      "source": [
        "#collapse\n",
        "import datetime\n",
        "import os\n",
        "\n",
        "import pandas as pd\n",
        "from fastai.tabular.all import *\n",
        "from fastbook import *"
      ],
      "execution_count": null,
      "outputs": []
    },
    {
      "cell_type": "code",
      "metadata": {
        "id": "-k1MgZqGVmIk"
      },
      "source": [
        "%cd /content/gdrive/MyDrive/Colab Notebooks/ashrae/"
      ],
      "execution_count": null,
      "outputs": []
    },
    {
      "cell_type": "code",
      "metadata": {
        "id": "Sow1XqcwVOPi"
      },
      "source": [
        "df = pd.read_parquet(\"train_combined.parquet.snappy\")"
      ],
      "execution_count": null,
      "outputs": []
    },
    {
      "cell_type": "code",
      "metadata": {
        "id": "8KvpZrylcvbx"
      },
      "source": [
        "year_fraction = df[\"timestamp\"] - df[\"timestamp\"].iloc[0]"
      ],
      "execution_count": null,
      "outputs": []
    },
    {
      "cell_type": "code",
      "metadata": {
        "id": "JjMMYx1vdEuE"
      },
      "source": [
        "df[\"year_fraction\"] = year_fraction / year_fraction.max()"
      ],
      "execution_count": null,
      "outputs": []
    },
    {
      "cell_type": "code",
      "metadata": {
        "id": "OZnWbrucWhG1"
      },
      "source": [
        "cat_names = [\"building_id\", \"site_id\", \"primary_use\"]\n",
        "cont_names = [\n",
        "    \"year_fraction\",\n",
        "    \"square_feet\",\n",
        "    \"year_built\",\n",
        "    \"floor_count\",\n",
        "    \"air_temperature\",\n",
        "    \"cloud_coverage\",\n",
        "    \"dew_temperature\",\n",
        "    \"precip_depth_1_hr\",\n",
        "    \"sea_level_pressure\",\n",
        "    \"wind_direction\",\n",
        "    \"wind_speed\",\n",
        "]\n",
        "y_names = [\"meter_0\", \"meter_1\", \"meter_2\", \"meter_3\"]\n",
        "procs = [Categorify, FillMissing, Normalize]"
      ],
      "execution_count": null,
      "outputs": []
    },
    {
      "cell_type": "code",
      "metadata": {
        "id": "l9RMN6vEWtWI"
      },
      "source": [
        "dls = TabularDataLoaders.from_df(\n",
        "    df=df,\n",
        "    procs=procs,\n",
        "    cat_names=cat_names,\n",
        "    cont_names=cont_names,\n",
        "    y_names=y_names,\n",
        "    shuffle=False\n",
        ")"
      ],
      "execution_count": null,
      "outputs": []
    },
    {
      "cell_type": "code",
      "metadata": {
        "id": "mvWgo3PGW2xR"
      },
      "source": [
        "dls.show_batch()"
      ],
      "execution_count": null,
      "outputs": []
    },
    {
      "cell_type": "code",
      "metadata": {
        "id": "UsaDfSP7aESJ"
      },
      "source": [
        "# Free up some RAM by deallocating the DataFrame\n",
        "del df"
      ],
      "execution_count": null,
      "outputs": []
    }
  ]
}